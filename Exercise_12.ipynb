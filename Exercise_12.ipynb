{
 "cells": [
  {
   "cell_type": "markdown",
   "metadata": {},
   "source": [
    "# Exercise 12 - More Prompts, More User Input\n",
    "\n",
    "If you want to learn to play a chord on the guitar, you don't just play it one time. You don't just play one song that uses that chord.\n",
    "\n",
    "You play the chord over and over, and you find as many songs that use that chord as you can. \\\n",
    "You practice!\n",
    "\n",
    "Guess what this exercise is going to give you the opportunity to do?"
   ]
  },
  {
   "cell_type": "markdown",
   "metadata": {},
   "source": [
    "Here, we're practicing Python's `input()` functions rather than guitar chords.\n",
    "\n",
    "Write comments next to each `#` in the code block below. What's going on in each line of code?"
   ]
  },
  {
   "cell_type": "code",
   "execution_count": null,
   "metadata": {},
   "outputs": [],
   "source": [
    "daily_phone_hours = int(input(\"How many hours a day are you on your phone? \")) # \n",
    "\n",
    "hours_per_year = daily_phone_hours * 7 * 52 # \n",
    "\n",
    "days_per_year = hours_per_year // 24 # \n"
   ]
  },
  {
   "cell_type": "markdown",
   "metadata": {},
   "source": [
    "We haven't yet printed anything the above code block. Let's do that now.\n",
    "\n",
    "The print command below is relatively complex. On top of that, it isn't *quite* working correctly...as you will see when you run the code.\n",
    "\n",
    "There is just **one** small piece of syntax missing to make the following `print` command run properly. \n",
    "\n",
    "Can you figure out what it is and add it in?"
   ]
  },
  {
   "cell_type": "code",
   "execution_count": null,
   "metadata": {},
   "outputs": [],
   "source": [
    "# Print the results for the user based on the variables defined above.\n",
    "print(\"\\nSo, you are on your phone {daily_phone_hours} hours per day...\\n...that's {days_per_year} wholes days ({hours_per_year} hours) per year of your life.\")\n"
   ]
  },
  {
   "cell_type": "markdown",
   "metadata": {},
   "source": [
    "### Exercise 12 - Play with the Program\n",
    "\n",
    "Just one question in this exercise.\n",
    "\n",
    "Write a modifed version of the code supplied in the above 2 code blocks, calculating how many 2-litre bottles of acetone your research lab goes through in one year.\n",
    "\n",
    "* Use a variable to hold the number of acetone **bottles** consumed in one day.\n",
    "\n",
    "* From there, calculate the number of **litres** of acetone consumed per day.\n",
    "\n",
    "* Use a third variable to store the number of litres of acetone consumed **per year**, assuming 250 working days per year.\n",
    "\n",
    "* Finally, print these variables to share these data with the end user."
   ]
  },
  {
   "cell_type": "code",
   "execution_count": null,
   "metadata": {},
   "outputs": [],
   "source": [
    "acetone_bottles_per_day = ### #Prompt user and get input, assumed to be numerical. The input is converted to an integer at the same time.\n",
    "\n",
    "litres_per_day = ### #2 litres of acetone per bottle, so no. litres is no. bottles x 2\n",
    "\n",
    "litres_per_year = litres_per_day * 250 #Number of litres times the assumed number of work days per year.\n",
    "\n",
    "### #print all variables on screen for the user to see."
   ]
  },
  {
   "cell_type": "markdown",
   "metadata": {},
   "source": [
    "Congratulations on working through to the end of **Exercise 12**! \n",
    "\n",
    "You're now ready to uncover yet another powerful dimension of the Python programming language. Let's see what **Exercise 13** brings..."
   ]
  }
 ],
 "metadata": {
  "kernelspec": {
   "display_name": "Python 3",
   "language": "python",
   "name": "python3"
  },
  "language_info": {
   "codemirror_mode": {
    "name": "ipython",
    "version": 3
   },
   "file_extension": ".py",
   "mimetype": "text/x-python",
   "name": "python",
   "nbconvert_exporter": "python",
   "pygments_lexer": "ipython3",
   "version": "3.8.8"
  }
 },
 "nbformat": 4,
 "nbformat_minor": 2
}
