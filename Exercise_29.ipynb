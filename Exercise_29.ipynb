{
 "cells": [
  {
   "cell_type": "markdown",
   "metadata": {},
   "source": [
    "# Exercise 29 - Making Decisions\n",
    "\n",
    "Some of the earliest video games were little more than expert use of `if` statements. \n",
    "\n",
    "What elevated the simple `if` statement to something approaching a game, was combining:\n",
    "\n",
    "1. User `input` with\n",
    "2. `if` statements **nested** in other `if` statements.\n",
    "\n",
    "The Python code below will help you learn how to craft programs that make decisions that are beyond a single **if this then that** step.\n",
    "\n",
    "Click on the code block below and hit `Shift+Enter`."
   ]
  },
  {
   "cell_type": "code",
   "execution_count": null,
   "metadata": {},
   "outputs": [],
   "source": [
    "print(\"You enter a dark room with two doors. Do you go through door #1 or door #2?\")\n",
    "\n",
    "door = input(\">\")\n",
    "\n",
    "if door == \"1\":\n",
    "    print(\"There's a gathering of famous dead scientists here. What do you do?\")\n",
    "    print(\"1. Go speak to Richard Feynman.\")\n",
    "    print(\"2. Go speak to Marie Curie.\")\n",
    "\n",
    "    scientist = input(\">\")\n",
    "\n",
    "    if scientist == \"1\":\n",
    "        print(\"Feynman trains you to be a stellar teacher. Good job!\")\n",
    "    elif scientist == \"2\":\n",
    "        print(\"Curie imparts endless curiosity on you. Enjoy!\")\n",
    "    else:\n",
    "        print(f\"No conversation for you!\")\n",
    "\n",
    "elif door == \"2\":\n",
    "    print(\"Welcome to the hall of delightful documentarians! Who do you wish to speak to?\")\n",
    "    print(\"1. David Attenborough.\")\n",
    "    print(\"2. Alice Roberts.\")\n",
    "    print(\"3. No one.\")\n",
    "\n",
    "    insanity = input(\">\")\n",
    "\n",
    "    if insanity == \"1\" or insanity == \"2\":\n",
    "        print(\"You are overcome with the inimitable joy of science communication. Happy storytelling!\")\n",
    "    else:\n",
    "        print(\"You're quest for inspiration continues...\")\n",
    "\n",
    "else:\n",
    "    print(\"No door? No game play for you!\")\n"
   ]
  },
  {
   "cell_type": "markdown",
   "metadata": {},
   "source": [
    "### Exercise 29 - Play with the Program\n",
    "Have some fun by re-running the above code block, trying all the different options of typing `1` or `2` to walk through the 'doors' of the game. \n",
    "\n",
    "1. Use the code blocks below to write out a comment stating the result of the combination stated above the code block.\n",
    "\n",
    "2. What happens if you type something in the input box that is not `1` or `2`? Where are the lines of code that deal with such errors of input?\n"
   ]
  },
  {
   "cell_type": "markdown",
   "metadata": {},
   "source": [
    "#### Question 1 (use the three code blocks below to answer)"
   ]
  },
  {
   "cell_type": "markdown",
   "metadata": {},
   "source": [
    "#### Result of entering option 1, then 1:"
   ]
  },
  {
   "cell_type": "code",
   "execution_count": null,
   "metadata": {},
   "outputs": [],
   "source": [
    "# "
   ]
  },
  {
   "cell_type": "markdown",
   "metadata": {},
   "source": [
    "#### Result of entering option 1, then 2:"
   ]
  },
  {
   "cell_type": "code",
   "execution_count": null,
   "metadata": {},
   "outputs": [],
   "source": [
    "# "
   ]
  },
  {
   "cell_type": "markdown",
   "metadata": {},
   "source": [
    "#### Result of entering option 2, then 3:"
   ]
  },
  {
   "cell_type": "code",
   "execution_count": null,
   "metadata": {},
   "outputs": [],
   "source": [
    "# "
   ]
  },
  {
   "cell_type": "markdown",
   "metadata": {},
   "source": [
    "#### Question 2"
   ]
  },
  {
   "cell_type": "code",
   "execution_count": null,
   "metadata": {},
   "outputs": [],
   "source": [
    "#  "
   ]
  },
  {
   "cell_type": "markdown",
   "metadata": {},
   "source": [
    "**Congratulations on completing Exercise 29!**\n",
    "\n",
    "**In Exercise 30, the second to last exercise in this introductory course, we move away from `if`, `elif`, and `else` to introduce one of three remaining new tools for your growing Python skillset - enter the enlightening, electrifying magic of loops!**"
   ]
  }
 ],
 "metadata": {
  "kernelspec": {
   "display_name": "Python 3",
   "language": "python",
   "name": "python3"
  },
  "language_info": {
   "codemirror_mode": {
    "name": "ipython",
    "version": 3
   },
   "file_extension": ".py",
   "mimetype": "text/x-python",
   "name": "python",
   "nbconvert_exporter": "python",
   "pygments_lexer": "ipython3",
   "version": "3.8.8"
  }
 },
 "nbformat": 4,
 "nbformat_minor": 2
}
