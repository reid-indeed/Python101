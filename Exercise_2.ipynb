{
 "cells": [
  {
   "cell_type": "markdown",
   "metadata": {},
   "source": [
    "# Exercise 2 - Comment Lines and Hashtags in Python Code\n",
    "\n",
    "How can you make sure that a colleague or collaborator can read your code? \\\n",
    "The answer - **comment lines!** \n",
    "\n",
    "Comment lines are a form of explanation or narration on your code. They start with a `#` and produce no action when your program is run. In other words, when your prgram is executed, comment lines are ignored.\n",
    "\n",
    "In this exercise, you will modify your first program from **Exercise 1** to demonstrate how comment lines work.\n",
    "\n",
    "Start by hitting `Shift+Enter` in the code block below."
   ]
  },
  {
   "cell_type": "code",
   "execution_count": null,
   "metadata": {},
   "outputs": [],
   "source": [
    "# Print the string 'Hello, World!'\n",
    "print('Hello, World!')"
   ]
  },
  {
   "cell_type": "markdown",
   "metadata": {},
   "source": [
    "We'll come back to what we mean by `string` in a future exercise. For now, just think of a string as some text encapsulated in double quotes `\"` or single quotes `'`.\n",
    "\n",
    "The code block below contains only a comment line. No active code. What is the output when you hit `Shift+Enter` on the code block below?"
   ]
  },
  {
   "cell_type": "code",
   "execution_count": null,
   "metadata": {},
   "outputs": [],
   "source": [
    "# What is the output when you run this code block that contains only a comment line?"
   ]
  },
  {
   "cell_type": "markdown",
   "metadata": {},
   "source": [
    "And what happens when you run the next code block, containing 2 comment lines and 1 line of code?"
   ]
  },
  {
   "cell_type": "code",
   "execution_count": null,
   "metadata": {},
   "outputs": [],
   "source": [
    "# You will not see this line in the output of running this program.\n",
    "# You will also not see this line when the code is run.\n",
    "print(\"On the other hand, you will see this text from inside the PRINT function be displayed when the program runs.\")"
   ]
  },
  {
   "cell_type": "markdown",
   "metadata": {},
   "source": [
    "### Exercise 2 - Playing with the Program\n"
   ]
  },
  {
   "cell_type": "markdown",
   "metadata": {},
   "source": [
    "Try writing some more programs based on `print` statements. Add some comment lines to explain what the lines of your program are supposed to be doing.\n",
    "\n",
    "1. What happens if you put a `#` inside the brackets of one of your `print` statements?\n",
    "2. When you write a comment line, does it make a difference to whether or not your code runs if you put a space after the `#` or not?\n",
    "3. What happens if you take away the `#` from what was supposed to be one of your comment lines. Does your code still run?\n",
    "\n",
    "Use the code block below to provide an answer to questions 1 - 3."
   ]
  },
  {
   "cell_type": "markdown",
   "metadata": {},
   "source": [
    "#### Question 1"
   ]
  },
  {
   "cell_type": "code",
   "execution_count": null,
   "metadata": {},
   "outputs": [],
   "source": [
    "#Add a print statement to answer question 1 here\n",
    "###"
   ]
  },
  {
   "cell_type": "markdown",
   "metadata": {},
   "source": [
    "#### Question 2"
   ]
  },
  {
   "cell_type": "code",
   "execution_count": null,
   "metadata": {},
   "outputs": [],
   "source": [
    "#Mess around with the spacing at the start of this comment line, then hit Shift+Enter to allow you to answer yes or no to question 2.\n",
    "\n",
    "#Delete one response below. If you want to answer 'yes', delete '#No', or vice versa.\n",
    "#Yes\n",
    "#No"
   ]
  },
  {
   "cell_type": "markdown",
   "metadata": {},
   "source": [
    "#### Question 3"
   ]
  },
  {
   "cell_type": "code",
   "execution_count": null,
   "metadata": {},
   "outputs": [],
   "source": [
    "#Show what happens when you remove the '#' from the start of this line and hit Shift+Enter."
   ]
  },
  {
   "cell_type": "markdown",
   "metadata": {},
   "source": [
    "**Exercise 2...done! Great job.**\n",
    "\n",
    "**This hopefully feels like baby steps. It gets harder but it's worth it! Keep going. Keep building your skills in Python.**"
   ]
  }
 ],
 "metadata": {
  "kernelspec": {
   "display_name": "Python 3",
   "language": "python",
   "name": "python3"
  },
  "language_info": {
   "codemirror_mode": {
    "name": "ipython",
    "version": 3
   },
   "file_extension": ".py",
   "mimetype": "text/x-python",
   "name": "python",
   "nbconvert_exporter": "python",
   "pygments_lexer": "ipython3",
   "version": "3.8.8"
  }
 },
 "nbformat": 4,
 "nbformat_minor": 2
}
