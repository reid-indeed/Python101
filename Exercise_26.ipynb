{
 "cells": [
  {
   "cell_type": "markdown",
   "metadata": {},
   "source": [
    "# Exercise 26 - Offline Boolean Practice\n",
    "\n",
    "For **Exercise 26**, use the provided Word file `Exercise 26 - Boolean Practice.docx` and write `True` or `False` (with good old fashioned pen and paper) next to each statement.\n",
    "\n",
    "How many did you get right?\n",
    "\n",
    "### Bring it online\n",
    "\n",
    "Once you have finished scribbling some answers on paper, type out each of the 20 statements from the Word document into the 20 empty code blocks below. Replace the `###` with the statement you type out.\n",
    "\n",
    "Hit `Shift+Enter` on each one and reveal the answer, `True` or `False` in every case."
   ]
  },
  {
   "cell_type": "code",
   "execution_count": null,
   "metadata": {},
   "outputs": [],
   "source": [
    "# Statement 1\n",
    "True and True"
   ]
  },
  {
   "cell_type": "code",
   "execution_count": null,
   "metadata": {},
   "outputs": [],
   "source": [
    "# Statement 2\n",
    "False and True"
   ]
  },
  {
   "cell_type": "code",
   "execution_count": null,
   "metadata": {},
   "outputs": [],
   "source": [
    "# Statement 3\n",
    "1 == 1 and 2 == 1"
   ]
  },
  {
   "cell_type": "code",
   "execution_count": null,
   "metadata": {},
   "outputs": [],
   "source": [
    "# Statement 4\n",
    "\"test\" == \"test\""
   ]
  },
  {
   "cell_type": "code",
   "execution_count": null,
   "metadata": {},
   "outputs": [],
   "source": [
    "# Statement 5\n",
    "1 == 1 or 2 != 1"
   ]
  },
  {
   "cell_type": "code",
   "execution_count": null,
   "metadata": {},
   "outputs": [],
   "source": [
    "# Statement 6\n",
    "True and 1 == 1"
   ]
  },
  {
   "cell_type": "code",
   "execution_count": null,
   "metadata": {},
   "outputs": [],
   "source": [
    "# Statement 7\n",
    "False and 0 != 0"
   ]
  },
  {
   "cell_type": "code",
   "execution_count": null,
   "metadata": {},
   "outputs": [],
   "source": [
    "# Statement 8\n",
    "True or 1 == 1"
   ]
  },
  {
   "cell_type": "code",
   "execution_count": null,
   "metadata": {},
   "outputs": [],
   "source": [
    "# Statement 9\n",
    "\"test\" == \"testing\""
   ]
  },
  {
   "cell_type": "code",
   "execution_count": null,
   "metadata": {},
   "outputs": [],
   "source": [
    "# Statement 10\n",
    "1 != 0 and 2 == 1"
   ]
  },
  {
   "cell_type": "code",
   "execution_count": null,
   "metadata": {},
   "outputs": [],
   "source": [
    "# Statement 11\n",
    "\"test\" != \"testing\""
   ]
  },
  {
   "cell_type": "code",
   "execution_count": null,
   "metadata": {},
   "outputs": [],
   "source": [
    "# Statement 12\n",
    "\"test\" == 1"
   ]
  },
  {
   "cell_type": "code",
   "execution_count": null,
   "metadata": {},
   "outputs": [],
   "source": [
    "# Statement 13\n",
    "not (True and False)"
   ]
  },
  {
   "cell_type": "code",
   "execution_count": null,
   "metadata": {},
   "outputs": [],
   "source": [
    "# Statement 14\n",
    "not (1 == 1 and 0 != 1)"
   ]
  },
  {
   "cell_type": "code",
   "execution_count": null,
   "metadata": {},
   "outputs": [],
   "source": [
    "# Statement 15\n",
    "not (10 == 1 or 1000 == 1000)"
   ]
  },
  {
   "cell_type": "code",
   "execution_count": null,
   "metadata": {},
   "outputs": [],
   "source": [
    "# Statement 16\n",
    "not (1 != 10 or 3 == 4)"
   ]
  },
  {
   "cell_type": "code",
   "execution_count": null,
   "metadata": {},
   "outputs": [],
   "source": [
    "# Statement 17\n",
    "not (\"testing\" == \"testing\" and \"Zed\" == \"Cool Guy\")"
   ]
  },
  {
   "cell_type": "code",
   "execution_count": null,
   "metadata": {},
   "outputs": [],
   "source": [
    "# Statement 18\n",
    "1 == 1 and not (\"testing\" == 1 or 1 == 0)"
   ]
  },
  {
   "cell_type": "code",
   "execution_count": null,
   "metadata": {},
   "outputs": [],
   "source": [
    "# Statement 19\n",
    "\"chunky\" == \"bacon\" and not (3 == 4 or 3 == 3)"
   ]
  },
  {
   "cell_type": "code",
   "execution_count": null,
   "metadata": {},
   "outputs": [],
   "source": [
    "# Statement 20\n",
    "3 == 3 and not (\"testing\" == \"testing\" or \"Python\" == \"Fun\")"
   ]
  },
  {
   "cell_type": "markdown",
   "metadata": {},
   "source": [
    "### Exercise 26 - Play with the Program\n",
    "\n",
    "\n",
    "\n",
    "In the first half of this exercise, you were subtly introduced to the difference in output that can occur when brackets appear in teh logic statement.\n",
    "\n",
    "The code blocks below replicate one example each of brackets and no brackets. Use the **third** code block to write a comment line, in plain English, for what happened when brackets were and were not used. \n",
    "\n",
    "\n"
   ]
  },
  {
   "cell_type": "code",
   "execution_count": null,
   "metadata": {},
   "outputs": [],
   "source": [
    "#with brackets\n",
    "not (1 == 1 and not 0 != 1)"
   ]
  },
  {
   "cell_type": "code",
   "execution_count": null,
   "metadata": {},
   "outputs": [],
   "source": [
    "#without brackets\n",
    "not 1 == 1 and not 0 != 1"
   ]
  },
  {
   "cell_type": "code",
   "execution_count": null,
   "metadata": {},
   "outputs": [],
   "source": [
    "# With brackets, the logic statements inside the brackets are determined first, then the `not` on the outside is applied.\n",
    "# Without brackets, 'not 1==1' is calculated, then 'not 0 !=1'. The `and` between these two logic operations determins the final result."
   ]
  },
  {
   "cell_type": "markdown",
   "metadata": {},
   "source": [
    "**Extra Credit**\\\n",
    "Beyond the logic operations you have learned in this exercise, try writing some statements that use the `<`, `<=`, `>`, and `>=` operators to reveal some `True` or `False` outputs."
   ]
  },
  {
   "cell_type": "markdown",
   "metadata": {},
   "source": [
    "**Great work! This is another one of those exercises that might seem odd or pointless at first. It is neither of those.**\n",
    "\n",
    "**Exercise 27 introduces a new Python operator that takes your skills with producing `True` or `False` outputs to a whole other level.**"
   ]
  }
 ],
 "metadata": {
  "kernelspec": {
   "display_name": "Python 3",
   "language": "python",
   "name": "python3"
  },
  "language_info": {
   "codemirror_mode": {
    "name": "ipython",
    "version": 3
   },
   "file_extension": ".py",
   "mimetype": "text/x-python",
   "name": "python",
   "nbconvert_exporter": "python",
   "pygments_lexer": "ipython3",
   "version": "3.7.6"
  }
 },
 "nbformat": 4,
 "nbformat_minor": 2
}
