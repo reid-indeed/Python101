{
 "cells": [
  {
   "cell_type": "markdown",
   "metadata": {},
   "source": [
    "# Exercise 14 - Imports and Command Line Programs"
   ]
  },
  {
   "cell_type": "markdown",
   "metadata": {},
   "source": [
    "### The Command Line\n",
    "Outside of Jupyter Notebook, it is common for Python code to be executable (i.e. run) on your computer's **command line**.\n",
    "\n",
    "Before you do any coding on your computer, it's rare (these days) that you would ever open the command line on purpose. If you do, it can easily throw up scary assumptions that this is a place where 'only computer wizards' play.\n",
    "\n",
    "The screenshot below shows an example of a **command line interface** with some text written after the `>` indicator:\n",
    "\n",
    "<img src=\"Command-Line-Example.PNG\">"
   ]
  },
  {
   "cell_type": "markdown",
   "metadata": {},
   "source": [
    "It is no coincidence that the exemplar screenshot above contains text very similar to the line of code you ran in **Exercise 13**. Let's run it again, just to make sure it sinks in:"
   ]
  },
  {
   "cell_type": "code",
   "execution_count": null,
   "metadata": {},
   "outputs": [],
   "source": [
    "!python ex-13.py yabba dabba doo"
   ]
  },
  {
   "cell_type": "markdown",
   "metadata": {},
   "source": [
    "The following screenshot shows you what it looks like when you run this code from the command line:"
   ]
  },
  {
   "cell_type": "markdown",
   "metadata": {},
   "source": [
    "<img src=\"Command-Line-Example_CODE EXECUTED.PNG\">"
   ]
  },
  {
   "cell_type": "markdown",
   "metadata": {},
   "source": [
    "The text typed on the command line is almost *exactly* the same as how it appears inside this Jupyter notebook, with one key difference:\n",
    "\n",
    "The notebook uses `!python` whilst the command line simply uses `python`.\n",
    "\n",
    "The `!` is used inside the Jupyter notebook so that Python can be 'called' in the same way it would via the command line.\n",
    "\n",
    "In both cases:\n",
    "\n",
    "* The user types `python` followed by the script file name, `ex-13.py`.\n",
    "* Before hitting `Enter` on the keyboard, the user also writes 3 variables after first typing `python ex-13.py` (or `!python ex-13.py` in this notebook).\n",
    "* After typing all 5 items on the command line (`python ex-13.py` plus 3 other variables), the user hits `Enter` (or `Shift+Enter` in this notebook).\n",
    "* Python opens `ex-13.py`.\n",
    "* Each line of code inside the `ex-13.py` Python script file is run.\n",
    "* Output from the `print` function, called inside `ex-13.py`, is displayed on the command line.\n"
   ]
  },
  {
   "cell_type": "markdown",
   "metadata": {},
   "source": [
    "### Inside the Python script file\n",
    "Let's now look closer at the Python script file `ex-13.py`. The screenshot below shows the file contents:"
   ]
  },
  {
   "cell_type": "markdown",
   "metadata": {},
   "source": [
    "<img src=\"ex-13_imported-script_NO COMMENTS.PNG\">"
   ]
  },
  {
   "cell_type": "markdown",
   "metadata": {},
   "source": [
    "Here is an example version of ex-13.py with some helpful comments added above the active lines of code.\n",
    "\n",
    "Don't worry about the colour scheme in this screenshot of code. It's taken from Notepad ++ (reminding you that Python code can be open and edited in various text editors, with various chosen colour schemes)."
   ]
  },
  {
   "cell_type": "markdown",
   "metadata": {},
   "source": [
    "<img src=\"ex-13_imported-script.PNG\">"
   ]
  },
  {
   "cell_type": "markdown",
   "metadata": {},
   "source": [
    "**Line 1** uses the `import` function we introduced in **Exercise 13**.\n",
    "\n",
    "More than that, it uses the `from` keyword to say:\n",
    "\n",
    "\"*From the `sys` code library, `import` only the `argv` (or argument variable) module.*\"\n",
    "\n",
    "Back to our old analogy, this is like sitting with your blank page in the `sys` library building, and taking the `argv` book off the shelf to use it in what you write on your own blank page.\n",
    "\n",
    "The term **argument variable** related to `argv` refers to the items you type on the command line (the arguments) that are entered in order to get the called Python script `ex-13.py` to work properly."
   ]
  },
  {
   "cell_type": "markdown",
   "metadata": {},
   "source": [
    "### Unpacking arguments\n",
    "\n",
    "The first 2 of 5 command line arguments typed to get `ex-13.py` to run are:\n",
    "\n",
    "1. `python` (or `!python` in Jupyter) - used to call Python itself.\n",
    "2. `ex-13.py` - used to refer to the script file being called. Inside the file, the reserved word `script` is used as a placeholder and denotes where the exact name of the specific script you are calling should be written when you are on the command line."
   ]
  },
  {
   "cell_type": "markdown",
   "metadata": {},
   "source": [
    "On **line 3** of the `ex-13.py` script, 4 variables (the reserved keyword `script` and the 3 user defined variables) are written out and separated by a comma.\n",
    "\n",
    "They are then defined as `argv`. Weird...\n",
    "\n",
    "How can 4 different variables be set to what looks like one value (`argv`)?\n",
    "\n",
    "Well, what this means is that `argv` does **NOT** hold just 1 value. It holds 4, and each value in `argv` is used to define each of the comma-separated variables in turn:\n",
    "\n",
    "* `script` is set to the first value held by `argv`.\n",
    "* `first` is set to the second value held by `argv`.\n",
    "* `second` is set to the thrid value held by `argv`.\n",
    "* `third` is set to the fourth value held by `argv`.\n",
    "\n",
    "This process of defining several comma-separated variables (known formally as a `tuple`) using values stored inside a multi-component variable (like `argv`) is known as **unpacking**.\n",
    "\n",
    "In other words, `argv` holds 4 values, and these can be **unpacked** by assigning the 4 values in `argv` to 4 new variables. One variable for each of the values stored in `argv`."
   ]
  },
  {
   "cell_type": "markdown",
   "metadata": {},
   "source": [
    "Confused? Try adding your own comments to the following copy of the `ex-13.py` file where the `#` have been placed.\n",
    "\n",
    "**NOTE - the code itself will not run if you hit `Shift+Enter`(feel free to try this to see what happens). Don't worry about that here. The main thing to focus on is adding your comment lines.**\n",
    "\n",
    "**Remember, this code is held in the `ex-13.py` and is designed to be run on the command line with `python` or in Jupyter with `!python` to call the script file. That's why it won't work here.**\n",
    "\n",
    "OK, now add some comments! You can use the example comments above and/or add comments in your own words to help you understand whats happening inside `ex-13.py`."
   ]
  },
  {
   "cell_type": "code",
   "execution_count": null,
   "metadata": {},
   "outputs": [],
   "source": [
    "# \n",
    "from sys import argv\n",
    "\n",
    "# \n",
    "script, first, second, third = argv\n",
    "\n",
    "# \n",
    "\n",
    "print(f\"\"\"\n",
    "    The first variable written on the command line, after 'python' and the script name is: {first}\n",
    "    \n",
    "    The first variable written on the command line, after 'python' and the script name is: {second}\n",
    "    \n",
    "    The first variable written on the command line, after 'python' and the script name is: {third}\n",
    "    \"\"\")"
   ]
  },
  {
   "cell_type": "markdown",
   "metadata": {},
   "source": [
    "### Exercise 14 - Play with the Program"
   ]
  },
  {
   "cell_type": "markdown",
   "metadata": {},
   "source": [
    "1. Go online and research the meaning of the word `tuple` as it relates to the Python programming. Do you recognise the use of a `tuple` in one particular line of code in this exercise? Write a definition for a `tuple` in your own words, by typing a comment line in the empty code block below.\n",
    "\n",
    "\n",
    "2. Find out all you can about the Python `import` command. What other interesting libraries can you find beyond `sys`? Use the second empty code block below to list, as comment lines, the names of 2-3 other Python libraries.\n",
    "\n",
    "**Exercises 13 and 14 have been the most detailed and challenging so far. You might even find that going over them again, making more mistakes, testing more variations on the command line arguments, will help things sink in.**\n"
   ]
  },
  {
   "cell_type": "markdown",
   "metadata": {},
   "source": [
    "#### Question 1"
   ]
  },
  {
   "cell_type": "code",
   "execution_count": null,
   "metadata": {},
   "outputs": [],
   "source": [
    "#Tuple\n",
    "#Add defintion here"
   ]
  },
  {
   "cell_type": "markdown",
   "metadata": {},
   "source": [
    "#### Question 2"
   ]
  },
  {
   "cell_type": "code",
   "execution_count": null,
   "metadata": {},
   "outputs": [],
   "source": [
    "# Add answers here"
   ]
  },
  {
   "cell_type": "markdown",
   "metadata": {},
   "source": [
    "#### Extra Credit\n",
    "Do some research to find out more about the **command line interface**. Here is one example:\n",
    "\n",
    "https://www.tutorialspoint.com/python/python_command_line_arguments.htm"
   ]
  },
  {
   "cell_type": "markdown",
   "metadata": {},
   "source": [
    "#### A closing summary on `argv`\n",
    "\n",
    "In Python, `argv` (the focus of Exercise 13 and 14) is a list provided by the `sys` library, which stores command-line arguments passed to a script. \n",
    "\n",
    "When you import argv from sys (using `from sys import argv`), you can access these arguments directly as elements in the argv `list` (we will revisit lists in detail soon). \n",
    "\n",
    "The first element, argv[0], is the script's filename, and any additional elements represent subsequent arguments passed by the user. This is useful for scripts that need to accept user input directly from the command line, enabling flexibility and automation by letting users specify variables or options when running the script."
   ]
  },
  {
   "cell_type": "markdown",
   "metadata": {},
   "source": [
    "**When your ready, Exercise 15 awaits. Well done!**"
   ]
  }
 ],
 "metadata": {
  "kernelspec": {
   "display_name": "Python 3",
   "language": "python",
   "name": "python3"
  },
  "language_info": {
   "codemirror_mode": {
    "name": "ipython",
    "version": 3
   },
   "file_extension": ".py",
   "mimetype": "text/x-python",
   "name": "python",
   "nbconvert_exporter": "python",
   "pygments_lexer": "ipython3",
   "version": "3.8.8"
  }
 },
 "nbformat": 4,
 "nbformat_minor": 2
}
