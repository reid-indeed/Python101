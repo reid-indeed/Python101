{
 "cells": [
  {
   "cell_type": "markdown",
   "metadata": {},
   "source": [
    "# Exercise 4 - Object Types\n",
    "\n",
    "You now know how to use the `print` command in Python with some skill.\n",
    "<br>\n",
    "<br>\n",
    "The previous exercises have also exposed you to a really fundamental part of the Python language.  Let's look at this by reminding ourselves of some example cases:\n",
    "\n",
    "1. When using the `print` function to output, \"Hello World!\" was in quotes and was colour coded in red.\n",
    "<br>\n",
    "<br>\n",
    "2. Numbers outside of any quotes were coloured green. \n",
    "<br>\n",
    "<br>\n",
    "3. Operators were in purple.\n",
    "<br>\n",
    "<br>\n",
    "4. Some numerical outputs gave whole numbers (or an `integer`) and others gave decimal points (or `floating point` numbers).\n",
    "\n",
    "This is Python's way of telling you that there are different **types** of data objects represented in the language. "
   ]
  },
  {
   "cell_type": "markdown",
   "metadata": {},
   "source": [
    "Thankfully, Python has a `type()` function that allows us to check and explore the different types of objects we are dealing with. Let's look at some examples you've already dealt with but not yet named."
   ]
  },
  {
   "cell_type": "code",
   "execution_count": null,
   "metadata": {},
   "outputs": [],
   "source": [
    "# Check the object type of \"Hello World!\"\n",
    "type('Hello World!')"
   ]
  },
  {
   "cell_type": "code",
   "execution_count": null,
   "metadata": {},
   "outputs": [],
   "source": [
    "# Check the object type of some numbers\n",
    "type(3)"
   ]
  },
  {
   "cell_type": "code",
   "execution_count": null,
   "metadata": {},
   "outputs": [],
   "source": [
    "# Check the object type of some numbers\n",
    "type(10.4)"
   ]
  },
  {
   "cell_type": "markdown",
   "metadata": {},
   "source": [
    "Try using the `type` function on some of the simple arithmetic calculations you encountered in **Exercise 3**.\n",
    "\n",
    "In the two code blocks below, the comment line tells you what code to write below it.\n",
    "\n",
    "* Replace each `###` with your code.\n",
    "* What  types do you find?"
   ]
  },
  {
   "cell_type": "code",
   "execution_count": null,
   "metadata": {},
   "outputs": [],
   "source": [
    "# Replace the '###' on the next line with the code below that checks the type output from the calculation of 100 multiplied by 5\n",
    "\n",
    "###"
   ]
  },
  {
   "cell_type": "code",
   "execution_count": null,
   "metadata": {},
   "outputs": [],
   "source": [
    "# Replace the '###' on the next line with the code below that checks the type output from the logical statement 5 > 3\n",
    "\n",
    "###"
   ]
  },
  {
   "cell_type": "markdown",
   "metadata": {},
   "source": [
    "From the above code, you should now have discovered the following Python object types:\n",
    "\n",
    "* **string (str)** = text characters encapsulated in quotes or inverted commas.\n",
    "* **integer (int)** = a whole number with no decimal point.\n",
    "* **floating point (float)** = a number with a decimal point.\n",
    "* **Boolean (bool)** = True or False\n",
    "\n",
    "We will encounter more object types in later exercises."
   ]
  },
  {
   "cell_type": "markdown",
   "metadata": {},
   "source": [
    "### Exercise 4 - Playing with the Program\n",
    "\n",
    "In **Exercise 3**, we used the division operator `/`, but we also used the `%` operator, which we did not name at the time. The `%` operator is used for **modular division**. \\\n",
    "In simpler terms, a calculation involving `%` reports the **whole number remainder** left behind after a division of 2  numbers.\n"
   ]
  },
  {
   "cell_type": "markdown",
   "metadata": {},
   "source": [
    "**What object type do you get from 12 divided by 4?** "
   ]
  },
  {
   "cell_type": "code",
   "execution_count": null,
   "metadata": {},
   "outputs": [],
   "source": [
    "###"
   ]
  },
  {
   "cell_type": "markdown",
   "metadata": {},
   "source": [
    "**What object type do you get from the modulus of 12 divided by 4?**"
   ]
  },
  {
   "cell_type": "code",
   "execution_count": null,
   "metadata": {},
   "outputs": [],
   "source": [
    "# Replace the '###' below to output the type the modular division of 12 divided by 4 (also known as the modulus of 12 divided by 4).\n",
    "\n",
    "###"
   ]
  },
  {
   "cell_type": "markdown",
   "metadata": {},
   "source": [
    "**FOOD FOR THOUGHT** - *Think about when you might want to use a `float` instead of an `int` object type...*"
   ]
  },
  {
   "cell_type": "markdown",
   "metadata": {},
   "source": [
    "**Well done! You've now completed Exercise 4. The next exercise will introduce you on how to take more control of the many Python data types you've just discovered.**"
   ]
  }
 ],
 "metadata": {
  "kernelspec": {
   "display_name": "Python 3",
   "language": "python",
   "name": "python3"
  },
  "language_info": {
   "codemirror_mode": {
    "name": "ipython",
    "version": 3
   },
   "file_extension": ".py",
   "mimetype": "text/x-python",
   "name": "python",
   "nbconvert_exporter": "python",
   "pygments_lexer": "ipython3",
   "version": "3.8.8"
  }
 },
 "nbformat": 4,
 "nbformat_minor": 2
}
