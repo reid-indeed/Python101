{
 "cells": [
  {
   "cell_type": "markdown",
   "metadata": {},
   "source": [
    "# Exercise 3 - Numbers and Math(s) in Python"
   ]
  },
  {
   "cell_type": "markdown",
   "metadata": {},
   "source": [
    "Most programming languages can be used like fancy calculators.\n",
    "It's possible to do all the arithmetic operations you learned about in school (and much, much more).\n",
    "\n",
    "In this exercise, you will see how many of the standard arithmetic operators can be used in the Python programming language."
   ]
  },
  {
   "cell_type": "markdown",
   "metadata": {},
   "source": [
    "Let's list some of the operators:\n",
    "\n",
    "* `+` plus\n",
    "* `-` minus\n",
    "* `/` slash\n",
    "* `*` asterisk\n",
    "* `%` percent\n",
    "* `<` less-than\n",
    "* `>` greater-than\n",
    "* `<=` less-than-or-equal-to\n",
    "* `>=` greater-than-or-equal-to\n",
    "\n",
    "*Do you notice any operator missing that you would expect to see in this list?*"
   ]
  },
  {
   "cell_type": "markdown",
   "metadata": {},
   "source": [
    "To understand how these operators are used, let's run some more programs!\n",
    "\n",
    "Hit `Shift+Enter` on each code block below to see the output from the calculation."
   ]
  },
  {
   "cell_type": "code",
   "execution_count": null,
   "metadata": {},
   "outputs": [],
   "source": [
    "# Add 3 and 5\n",
    "3 + 5"
   ]
  },
  {
   "cell_type": "code",
   "execution_count": null,
   "metadata": {},
   "outputs": [],
   "source": [
    "# Substract 8 from 10\n",
    "10 - 8"
   ]
  },
  {
   "cell_type": "code",
   "execution_count": null,
   "metadata": {},
   "outputs": [],
   "source": [
    "# Multiply 12 by 5\n",
    "12 * 5"
   ]
  },
  {
   "cell_type": "code",
   "execution_count": null,
   "metadata": {},
   "outputs": [],
   "source": [
    "# Divide 100 by 4\n",
    "100 / 4"
   ]
  },
  {
   "cell_type": "markdown",
   "metadata": {},
   "source": [
    "In the above code blocks, notice that some of the operators are the same as those you have used since you first learned how to work with numbers. \n",
    "\n",
    "* `+` is used for addition\n",
    "* `-` is used for subtraction"
   ]
  },
  {
   "cell_type": "markdown",
   "metadata": {},
   "source": [
    "Other arithmetic operations are done using different symbols than you might be used to:\n",
    "\n",
    "* `*` is used for multiplication instead of an 'x'.\n",
    "* `/` is used for division instead of the division symbol."
   ]
  },
  {
   "cell_type": "markdown",
   "metadata": {},
   "source": [
    "Some symbols run arithmetic and logic operations that you might never have encountered before learning to code. See if you can make sense of the following operations by running the code blocks."
   ]
  },
  {
   "cell_type": "code",
   "execution_count": null,
   "metadata": {},
   "outputs": [],
   "source": [
    "# Check if 5 is less than 10\n",
    "5 < 10"
   ]
  },
  {
   "cell_type": "code",
   "execution_count": null,
   "metadata": {},
   "outputs": [],
   "source": [
    "# Check if 1200 is greater than or equal to 13\n",
    "1200 >= 13"
   ]
  },
  {
   "cell_type": "code",
   "execution_count": null,
   "metadata": {},
   "outputs": [],
   "source": [
    "# Check if 3 is greater than 89\n",
    "3 > 89"
   ]
  },
  {
   "cell_type": "markdown",
   "metadata": {},
   "source": [
    "Logic operators like **less-than** or **greater-than** elicit a `boolean` output value. \\\n",
    "That's a fancy way of saying you get an answer that is either `True` or `False`. \n"
   ]
  },
  {
   "cell_type": "markdown",
   "metadata": {},
   "source": [
    "See what happens when you combine some operators into more complex terms.\n",
    "\n",
    "Run the code blocks below. \n"
   ]
  },
  {
   "cell_type": "code",
   "execution_count": null,
   "metadata": {},
   "outputs": [],
   "source": [
    "3 + 2 > 2 + 3"
   ]
  },
  {
   "cell_type": "code",
   "execution_count": null,
   "metadata": {},
   "outputs": [],
   "source": [
    "100*10 <= 1000"
   ]
  },
  {
   "cell_type": "code",
   "execution_count": null,
   "metadata": {},
   "outputs": [],
   "source": [
    "30/3 > 1 + 2"
   ]
  },
  {
   "cell_type": "markdown",
   "metadata": {},
   "source": [
    "You can also combine such arithmetic operations with the `print` statements that you used to write your first programs in **Exercises 1 and 2**."
   ]
  },
  {
   "cell_type": "code",
   "execution_count": null,
   "metadata": {},
   "outputs": [],
   "source": [
    "# Print a text string and the output of 4 multiplied by 4\n",
    "print(\"The answer is: \", 4 * 4)"
   ]
  },
  {
   "cell_type": "markdown",
   "metadata": {},
   "source": [
    "Use the code block below to write a comment line starting with a `#`, and `print` statment to output the answer of 40 divided by 10."
   ]
  },
  {
   "cell_type": "code",
   "execution_count": null,
   "metadata": {},
   "outputs": [],
   "source": [
    "# print a text string and the calculation of 40 divided by 10.\n",
    "print(\"The answer to 40 divided by 10 is: \", 40 / 10)"
   ]
  },
  {
   "cell_type": "markdown",
   "metadata": {},
   "source": [
    "These logic operators are not the only ones to output some (perhaps) unfamiliar results. See if you can understand what the `%` operator is doing by hitting `Shift+Enter` on the following code block."
   ]
  },
  {
   "cell_type": "code",
   "execution_count": null,
   "metadata": {},
   "outputs": [],
   "source": [
    "# Change this comment line to describe what the next line of code is doing.\n",
    "10 % 3"
   ]
  },
  {
   "cell_type": "code",
   "execution_count": null,
   "metadata": {},
   "outputs": [],
   "source": [
    "# Here are some more examples of using the '%' operator\n",
    "\n",
    "print(\"The first example gives this answer: \", 200 % 11)\n",
    "print(\"The second example gives this answer: \", 3 % 3)"
   ]
  },
  {
   "cell_type": "markdown",
   "metadata": {},
   "source": [
    "### Exercise 3 - Playing with the Program\n",
    "\n",
    "It's time again to make up some more examples and explore the new code for yourself. Make some code. Break some code. Tinker with these arithmetic operators and try to understand their use (and misuse) in more detail before moving on. Here's some things to try:\n",
    "\n",
    "1. What changes in the output when you change, say, `10 / 2` to `int(10 / 2)` ? Try both variations in the code block below and write a comment line to describe what you observed in the output.\n",
    "2. Some operators can be 'repeated' to give more new functions. Try setting up two calculations, one each for demonstrating the use of `**` and `//`. Write a comment line above each example to describe the additional Python-enabled maths functions you have discovered.\n",
    "3. For any of your calculations happens if you take out a number and replace it with a letter by mistake?\n",
    "\n",
    "Use the code block below to answer questions 1 and 2."
   ]
  },
  {
   "cell_type": "markdown",
   "metadata": {},
   "source": [
    "#### Question 1"
   ]
  },
  {
   "cell_type": "code",
   "execution_count": null,
   "metadata": {},
   "outputs": [],
   "source": [
    "#The output is in the form of a float (i.e. includes a decimal point)\n",
    "10/2"
   ]
  },
  {
   "cell_type": "code",
   "execution_count": null,
   "metadata": {},
   "outputs": [],
   "source": [
    "#Use of the int() function turns the output into an integer (i.e. no decimal point)\n",
    "int(10 / 2)"
   ]
  },
  {
   "cell_type": "code",
   "execution_count": null,
   "metadata": {},
   "outputs": [],
   "source": [
    "#"
   ]
  },
  {
   "cell_type": "markdown",
   "metadata": {},
   "source": [
    "#### Question 2"
   ]
  },
  {
   "cell_type": "code",
   "execution_count": null,
   "metadata": {},
   "outputs": [],
   "source": [
    "#Comment for the ** calculation here.\n",
    "###Add your code for the ** calculation here"
   ]
  },
  {
   "cell_type": "code",
   "execution_count": null,
   "metadata": {},
   "outputs": [],
   "source": [
    "#Comment for the ** calculation here.\n",
    "###Add your code for the // calculation here"
   ]
  },
  {
   "cell_type": "markdown",
   "metadata": {},
   "source": [
    "**Well done for completing your third introductory lesson to the Python programming language.** \n",
    "\n",
    "**If you're thinking 'What is the point?' - good! These early exercises are the baby steps towards bigger, better, and far more useful stories about what Python programming can do for you, and for Chemistry!**"
   ]
  }
 ],
 "metadata": {
  "kernelspec": {
   "display_name": "Python 3",
   "language": "python",
   "name": "python3"
  },
  "language_info": {
   "codemirror_mode": {
    "name": "ipython",
    "version": 3
   },
   "file_extension": ".py",
   "mimetype": "text/x-python",
   "name": "python",
   "nbconvert_exporter": "python",
   "pygments_lexer": "ipython3",
   "version": "3.8.8"
  }
 },
 "nbformat": 4,
 "nbformat_minor": 2
}
