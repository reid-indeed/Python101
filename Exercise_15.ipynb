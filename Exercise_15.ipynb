{
 "cells": [
  {
   "cell_type": "markdown",
   "metadata": {},
   "source": [
    "# Exercise 15 - Reading Files\n",
    "\n",
    "In **Exercises 11 and 12**, you learned and applied the `input` function to get user input for your programs.\n",
    "\n",
    "In **Exercises 13 and 14**, you learned and applied the `argv` module to take input from the command line.\n",
    "\n",
    "In this exercise, we see how some ways in which `input` and `argv` can be combined.\n",
    "\n",
    "Pushing a little further, you will also learn how to `open` files...and write to them!"
   ]
  },
  {
   "cell_type": "markdown",
   "metadata": {},
   "source": [
    "We will use one Python script file and one text file in this exercise:\n",
    "\n",
    "* `ex-15.py`\n",
    "* `ex-15_sample.txt`\n",
    "\n",
    "Here is `ex-15.py`:"
   ]
  },
  {
   "cell_type": "markdown",
   "metadata": {},
   "source": [
    "<img src=\"ex-15_imported-script.PNG\">"
   ]
  },
  {
   "cell_type": "markdown",
   "metadata": {},
   "source": [
    "And here (spoiler alert) is what is inside the text file `ex-15_sample.txt`:"
   ]
  },
  {
   "cell_type": "markdown",
   "metadata": {},
   "source": [
    "<img src=\"ex-15_sample-text.PNG\">"
   ]
  },
  {
   "cell_type": "markdown",
   "metadata": {},
   "source": [
    "You can run `ex-15.py` from the command line, much like you did in the previous two exercises.\n",
    "\n",
    "**Line 3** in the screenshot of `ex-15.py` above tells you what to type in the command line before hitting `Shift+Enter` in the Jupyter code block that is representing the real comand line.\n",
    "\n",
    "Replace the two `#` below so that the code runs. If you run the code as written, it will not work."
   ]
  },
  {
   "cell_type": "code",
   "execution_count": 2,
   "metadata": {},
   "outputs": [
    {
     "name": "stdout",
     "output_type": "stream",
     "text": [
      "Here's your file ex-15_sample.txt:\n",
      "There's antimony, arsenic, aluminum, selenium,\n",
      "And hydrogen, and oxygen, and nitrogen, and rhenium\n",
      "And nickel, neodymium, neptunium, germanium\n",
      "And iron, americium, ruthenium, uranium\n",
      "Europium, zirconium, lutetium, vanadium\n",
      "And lanthanum, and osmium, and astatine, and radium\n",
      "And gold, protactinium, and indium, and gallium,\n",
      "And iodine, and thorium, and thulium, and thallium\n",
      "\n",
      "There's yttrium, ytterbium, actinium, rubidium\n",
      "And boron, gadolinium, niobium, iridium\n",
      "And strontium, and silicon, and silver, and samarium\n",
      "And bismuth, bromine, lithium, beryllium, and barium\n",
      "\n",
      "There's holmium, and helium, and hafnium, and erbium\n",
      "And phosphorus, and francium, and fluorine, and terbium\n",
      "And manganese, and mercury, molybdenum, magnesium\n",
      "Dysprosium, and scandium, and cerium, and cesium\n",
      "And lead, praseodymium, and platinum, plutonium\n",
      "Palladium, promethium, potassium, polonium\n",
      "And tantalum, technetium, titanium, tellurium\n",
      "And cadmium, and calcium, and chromium, and curium\n",
      "\n",
      "There's sulfur, californium, and fermium, berkelium\n",
      "And also mendelevium, einsteinium, and nobelium\n",
      "And argon, krypton, neon, radon, xenon, zinc, and rhodium\n",
      "And chlorine, carbon, cobalt, copper\n",
      "Tungsten, tin, and sodium.\n"
     ]
    }
   ],
   "source": [
    "!python ex-15.py ex-15_sample.txt"
   ]
  },
  {
   "cell_type": "markdown",
   "metadata": {},
   "source": [
    "If you have been able to get the code block above to run, then it's important to continue making code more readable.\n",
    "\n",
    "Populate the code below with comment lines to help you make sense of the code you have just run. The `#` are in place for you.\n",
    "\n",
    "**NOTE** - again, the code will not run because the script is designed for the command line, not Jupyter notebook. Nonetheless, add the comment lines to enhance your understanding of what each line of code is doing."
   ]
  },
  {
   "cell_type": "code",
   "execution_count": null,
   "metadata": {},
   "outputs": [],
   "source": [
    "# import the sys module (or class) from the argv library\n",
    "from sys import argv \n",
    "\n",
    "#\n",
    "script, filename = argv\n",
    "\n",
    "# \n",
    "txt = open(filename) \n",
    "\n",
    "# print the name of the file (ex-15_sample.txt in this case). And print the file contents.\n",
    "print(f\"Here's your file {filename}:\") \n",
    "print(txt.read()) \n",
    "\n",
    "# \n",
    "txt.close()"
   ]
  },
  {
   "cell_type": "markdown",
   "metadata": {},
   "source": [
    "### What's the deal with the `.read()` and `.close()` syntax?\n",
    "\n",
    "This might help with your commenting task above.\n",
    "\n",
    "#### `txt.read()`\n",
    "When you define a variable using the `open()` function, that variable **inherits** the ability to use some other functions.\n",
    "\n",
    "One of these inherited functions, that becomes available to the variable `txt` holding the open text file, is `read()`.\n",
    "\n",
    "Such inherited functions are accessed by the **dot operator**.\n",
    "\n",
    "When you type `txt.read()` what you are saying to the computer, using the Python language, is this:\n",
    "\n",
    "\"*Hey `txt` variable! Now that your `type` has been set by using `open()` function for the text file, use your inherited `read()` command with - with no additional parameters inside the bracketts - to get at the contents of the file we have opened!*\"\n",
    "\n",
    "**Deep breaths...**\n",
    "\n",
    "#### `txt.close()`\n",
    "Just as `txt`inherited a `read` function, it also inherited a `close()` function. This, too, is accessed by the **dot operator**.\n",
    "\n",
    "When we type `txt.close()` on **Line 10** of `ex-15.py`, we are issuing the computer the follwoing instruction:\n",
    "\n",
    "\"*Hey `txt` variable! We are done using the contents of the file we opened when we defined you by using `open()`. We don't need you open and available in the computer's random access memory (RAM) anymore. You can be closed and returned to the hard disk to be used another time.*\""
   ]
  },
  {
   "cell_type": "markdown",
   "metadata": {},
   "source": [
    "### Exercise 15 - Play with the Program\n",
    "*These exercises are prompts to try in your own time. You do not need to provide answers here.*\n",
    "\n",
    "1. By now, you will realise that an easy way to research what the Python language allows you to do is to search \"Python [insert your function of interest here]\" online. Try doing this for `open()` and find out more about the inherited functions `.read()` and `.close()`.\n",
    "\n",
    "2. If you can access the folder where this Jupyter notebook is stored for use, add a brand new Python script file into that folder. Make your own version of `ex-15.py` (call it something else), save it, and run it as per the instructions in this exercise.\n",
    "\n",
    "**These exercises are becoming ever more complex.**\n",
    "\n",
    "**The apparent brain pain of learning these concepts is overshadowed later by how much scientific power these skills afford you.**\n",
    "\n",
    "**Keep it up, and get ready for Exercise 16!**"
   ]
  },
  {
   "cell_type": "code",
   "execution_count": null,
   "metadata": {},
   "outputs": [],
   "source": []
  }
 ],
 "metadata": {
  "kernelspec": {
   "display_name": "Python 3",
   "language": "python",
   "name": "python3"
  },
  "language_info": {
   "codemirror_mode": {
    "name": "ipython",
    "version": 3
   },
   "file_extension": ".py",
   "mimetype": "text/x-python",
   "name": "python",
   "nbconvert_exporter": "python",
   "pygments_lexer": "ipython3",
   "version": "3.8.8"
  }
 },
 "nbformat": 4,
 "nbformat_minor": 2
}
