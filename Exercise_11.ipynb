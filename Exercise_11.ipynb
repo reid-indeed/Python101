{
 "cells": [
  {
   "cell_type": "markdown",
   "metadata": {},
   "source": [
    "# Exercise 11 - Asking Questions for User Input\n",
    "\n",
    "This exercise presents a bigger step forward in your understanding of Python and programming more generally.\n",
    "\n",
    "From the nice, neat, and almost always well-behaved world of the `print` function, we now look at something much more messy and far more fascinating... \n",
    "<br>\n",
    "<br>\n",
    "...taking input from the end user of your code!\n",
    "\n",
    "In essence, this is your first big step towards one of the most common and powerful workflows that you can automate in Python:\n",
    "\n",
    "1. Take data in.\n",
    "\n",
    "2. Do some stuff to that data.\n",
    "\n",
    "3. Return the output of the stuff you did to the data.\n",
    "\n",
    "Run the code block below by clicking on it and hitting `Shift+Enter` to get started."
   ]
  },
  {
   "cell_type": "code",
   "execution_count": null,
   "metadata": {},
   "outputs": [],
   "source": [
    "print(\"How old are you?\") #\n",
    "age = input() #\n",
    "\n",
    "print(f\"\\nYou input that you are {age} years old.\") #"
   ]
  },
  {
   "cell_type": "markdown",
   "metadata": {},
   "source": [
    "Comment lines starting with the now familiar `#` help with code readability.\n",
    "\n",
    "More than that, they help you commentate on your own code, and describe (as if YOU were the teacher) what each line of code is trying to achieve.\n",
    "\n",
    "That's a long but important way of saying this:\n",
    "\n",
    "***Go back over the code in the last block (above) and add your own comments next to each `#` to say, in your own words, what each line of the code is doing.***"
   ]
  },
  {
   "cell_type": "markdown",
   "metadata": {},
   "source": [
    "Now that you have added comments to the last code block, try writing similar code of your own that collects user **height** rather than **age**..\n",
    "\n",
    "(Forget about units of length for now, just focus on collecting a raw number from the user). Replace the `###` with your code. And don't forget to add your own comments using a `#`."
   ]
  },
  {
   "cell_type": "code",
   "execution_count": null,
   "metadata": {},
   "outputs": [],
   "source": [
    "print(\"How tall are you?\") #print a question on screen for the user\n",
    "### = ###\n",
    "\n",
    "print(###"
   ]
  },
  {
   "cell_type": "markdown",
   "metadata": {},
   "source": [
    "### Exercise 11 - Play with the Program\n",
    "As you continue pushing your coding skills to new heights, the excitement will spark countless ideas in your mind.\n",
    "\n",
    "* *Can I do X in Python?*\n",
    "* *If only there was a way to automate X, then maybe I could...*\n",
    "* *I wonder if there is a Python solution for X*\n",
    "\n",
    "Where X = a boring task that takes you an age to complete manually in Excel! You get the idea.\n",
    "\n",
    "As these thoughts grow, so too will your desire to search for more Python resources, ideas, and code examples. \n",
    "\n",
    "1. For the new `input()` funciton you just used, go the the Python documentation online to read about the function.\n",
    "\n",
    "    https://docs.python.org/3/library/functions.html#input\n",
    "\n",
    "   Use the code block below to type out and test the `input()` the code example that you find at the above URL. (*Hint - you will need to add a `print` command to see the output.*)\n",
    "   \n",
    "   \n",
    "2. It's not 100% necessary to use a separate `print` statement before using `input()`. Try writing an `input()` function that includes a `string` text prompt **inside** the bracketts of the `input()` function.\n",
    "\n",
    "\n",
    "3. What happens when you prompt the user to input their age and they type letters instead of numbers? Write an input function that explores this question and helps you answer it."
   ]
  },
  {
   "cell_type": "markdown",
   "metadata": {},
   "source": [
    "#### Question1"
   ]
  },
  {
   "cell_type": "code",
   "execution_count": null,
   "metadata": {},
   "outputs": [],
   "source": [
    "s = ###\n",
    "\n",
    "###"
   ]
  },
  {
   "cell_type": "markdown",
   "metadata": {},
   "source": [
    "#### Question 2"
   ]
  },
  {
   "cell_type": "code",
   "execution_count": null,
   "metadata": {},
   "outputs": [],
   "source": [
    "###"
   ]
  },
  {
   "cell_type": "markdown",
   "metadata": {},
   "source": [
    "#### Question 3"
   ]
  },
  {
   "cell_type": "code",
   "execution_count": null,
   "metadata": {},
   "outputs": [],
   "source": [
    "x = input(\"Type your age: \")\n",
    "print(\"Your age is: \", x)"
   ]
  },
  {
   "cell_type": "code",
   "execution_count": null,
   "metadata": {},
   "outputs": [],
   "source": []
  },
  {
   "cell_type": "code",
   "execution_count": null,
   "metadata": {},
   "outputs": [],
   "source": [
    "# Add your comment below to state what you observed when you ran an input command and tested text instead of numbers.\n",
    "\n",
    "# "
   ]
  },
  {
   "cell_type": "markdown",
   "metadata": {},
   "source": [
    "**Exercise 11 is a bigger step than you will give yourself credit for. Great job on making it to this stage.**\n",
    "\n",
    "**Remember, this is your first experience of the `data input --> do stuff --> report output` workflow.**\n",
    "\n",
    "**With such great power, comes the great responsibility of tackling Exercise 12...**"
   ]
  }
 ],
 "metadata": {
  "kernelspec": {
   "display_name": "Python 3",
   "language": "python",
   "name": "python3"
  },
  "language_info": {
   "codemirror_mode": {
    "name": "ipython",
    "version": 3
   },
   "file_extension": ".py",
   "mimetype": "text/x-python",
   "name": "python",
   "nbconvert_exporter": "python",
   "pygments_lexer": "ipython3",
   "version": "3.8.8"
  }
 },
 "nbformat": 4,
 "nbformat_minor": 2
}
