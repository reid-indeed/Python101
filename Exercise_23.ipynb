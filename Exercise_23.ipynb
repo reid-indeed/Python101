{
 "cells": [
  {
   "cell_type": "markdown",
   "metadata": {},
   "source": [
    "# Exercise 23 - Read Some Code\n",
    "\n",
    "Before you can ever experience the joy of reading a book, you first need to learn how to read.\n",
    "\n",
    "Just like grade school, you have to learn to read, then you can read to learn.\n",
    "\n",
    "And in learning the Python programming language, you will want to become comfortable reading someone else's code.\n",
    "\n",
    "\n",
    "### Here's what to do\n",
    "\n",
    "Online code repositories like `GitHub` or `BitBucket` hold masses of Python code (as well as work done in other coding languages).\n",
    "\n",
    "Go onto these sites and find some Python code to read.\n",
    "\n",
    "**NOTE - you will likely come across code that is significantly more advanced than what you have learned so far. Don't let that scare you.**\n",
    "\n",
    "\n",
    "The entire point of this reflective exercise is to see what you can pick out, to see what snippets of coding syntax you now recognise that, say just 1 week ago, you would not have had the first clue where to start.\n",
    "\n",
    "***If you skipped Exercise 22...GO BACK TO EXERCISE 22!***\n",
    "\n",
    "Once you have read some code, take notes on what you recognised. Take notes on what seemed like it was still a foreign language.\n",
    "\n",
    "Be aware of what you know. Be aware of what you don't know (yet).\n",
    "\n",
    "You will be back typing some code in **Exercise 24**. See you there!"
   ]
  },
  {
   "cell_type": "code",
   "execution_count": null,
   "metadata": {},
   "outputs": [],
   "source": []
  }
 ],
 "metadata": {
  "kernelspec": {
   "display_name": "Python 3",
   "language": "python",
   "name": "python3"
  },
  "language_info": {
   "codemirror_mode": {
    "name": "ipython",
    "version": 3
   },
   "file_extension": ".py",
   "mimetype": "text/x-python",
   "name": "python",
   "nbconvert_exporter": "python",
   "pygments_lexer": "ipython3",
   "version": "3.7.6"
  }
 },
 "nbformat": 4,
 "nbformat_minor": 2
}
