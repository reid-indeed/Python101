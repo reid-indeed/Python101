{
 "cells": [
  {
   "cell_type": "markdown",
   "metadata": {},
   "source": [
    "# Exercise 9 - Strings, Escape Characters, and Triple Quotes(!)\n",
    "\n",
    "By now, you can appreciate that Python `print` functions and text strings can be formatted in a number of different ways.\n",
    "\n",
    "Whilst the examples here might seem boring or, at best, cute, it is these very tools that can automatically generate all manner of useful scientific reports, in seconds rather than manually in hours.\n",
    "\n",
    "In this exercise, you will learn how to use two more operators that helps format `string` objects.\n"
   ]
  },
  {
   "cell_type": "code",
   "execution_count": null,
   "metadata": {},
   "outputs": [],
   "source": [
    "# Declare some new variables that hold string type objects.\n",
    "days = \"Mon Tue Wed Thu Fri Sat Sun\"\n",
    "months = \"\\nJan\\nFeb\\nMar\\nApr\\nMay\\nJun\\nJul\\nAug\"\n",
    "\n",
    "print(\"Here are the days: \", days)\n",
    "print(\"Here are the months: \", months)\n",
    "print(\"*\" * 30)\n",
    "\n",
    "print(\n",
    "\"\"\"There's something going on here.\n",
    "With the three double-quotes.\n",
    "We'll be able to type as much as we like.\n",
    "Even 4 lines if we want, or 5, or 6.\"\"\"\n",
    ")"
   ]
  },
  {
   "cell_type": "markdown",
   "metadata": {},
   "source": [
    "In the code block below, someone has tried to copy the same code as you used in the block above...but it isn't working. It doesn't run.\n",
    "\n",
    "Can you figure out what's wrong with the code below and debug it?"
   ]
  },
  {
   "cell_type": "code",
   "execution_count": null,
   "metadata": {},
   "outputs": [],
   "source": [
    "days = \"Mon Tue Wed Thu Fri Sat Sun\"\n",
    "months = \"\\nJan\\nFeb\\nMar\\nApr\\nMay\\nJun\\nJul\\nAug\"\n",
    "\n",
    "print(\"Here are the days: \"), days\n",
    "print(\"Here are the months: \", monhts)\n",
    "\n",
    "print \"\"\"\n",
    "There's something going on here.\n",
    "With the three double-quotes.\n",
    "We'll be able to type as much as we like.\n",
    "Even 4 lines if we want, or 5, or 6.\n",
    "\"\"\" "
   ]
  },
  {
   "cell_type": "markdown",
   "metadata": {},
   "source": [
    "Above, we have introduced an example of an **escape sequence** through the use of `\\n` (blackslash n).\n",
    "\n",
    "This is used to introduce a `new line character`.\n",
    "\n",
    "More generally, using `\\` as an **escape character** can be used with `n` and several other letters to format your text string. We'll see more of this in **Exercise 10**. \n",
    "\n",
    "For now, let's consider the *other operator that's just been thrown into the mix...\n",
    "\n",
    "...triple quotes!\n",
    "\n",
    "Using `\"\"\"` is often used to write bigger blocks of text, and to hit `enter` to take new lines within the `\"\"\"`.\n",
    "\n",
    "To find out more about the use of tripple quotes and how they relate to recommended comment styles in Python, check out the following link:\n",
    "\n",
    "https://peps.python.org/pep-0008/#comments"
   ]
  },
  {
   "cell_type": "markdown",
   "metadata": {},
   "source": [
    "### Exercise 9 - Play with the Program\n",
    "\n",
    "1. Try assigning the large text string encapsulated by `\"\"\"` in the above code block to a variable, then `print` that variable. Use the code block below to write your answer. Replace the `###` to complete the code.\n",
    "\n",
    "\n",
    "2. What happens if you use a second blackslash, typing `\\\\n` rather than `\\n`? Using the `months` variable, defined in an above code block, redefine it in the code block below to show what difference it makes by adding in the extra `\\`. `print` the new `months` variable and add a comment line with a `#` to say what happens when `\\\\n` is used in place of `\\n`.\n"
   ]
  },
  {
   "cell_type": "markdown",
   "metadata": {},
   "source": [
    "#### Question 1"
   ]
  },
  {
   "cell_type": "code",
   "execution_count": null,
   "metadata": {},
   "outputs": [],
   "source": [
    "x = \"\"\"###\n",
    "\n",
    "print(###"
   ]
  },
  {
   "cell_type": "markdown",
   "metadata": {},
   "source": [
    "#### Question 2"
   ]
  },
  {
   "cell_type": "code",
   "execution_count": null,
   "metadata": {},
   "outputs": [],
   "source": [
    "months = ###\n",
    "print(months)"
   ]
  },
  {
   "cell_type": "code",
   "execution_count": null,
   "metadata": {},
   "outputs": [],
   "source": [
    "#"
   ]
  },
  {
   "cell_type": "markdown",
   "metadata": {},
   "source": [
    "\n",
    "**Exercise 9 - done, dusted. Gone, but hopefully not forgotten.** \n",
    "\n",
    "**The next exercise is a milestone...number 10. Double figures! Woohoo!**"
   ]
  }
 ],
 "metadata": {
  "kernelspec": {
   "display_name": "Python 3",
   "language": "python",
   "name": "python3"
  },
  "language_info": {
   "codemirror_mode": {
    "name": "ipython",
    "version": 3
   },
   "file_extension": ".py",
   "mimetype": "text/x-python",
   "name": "python",
   "nbconvert_exporter": "python",
   "pygments_lexer": "ipython3",
   "version": "3.8.8"
  }
 },
 "nbformat": 4,
 "nbformat_minor": 2
}
