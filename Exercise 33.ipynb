{
 "cells": [
  {
   "cell_type": "markdown",
   "id": "f07b2db7",
   "metadata": {},
   "source": [
    "# Introduction to NumPy for Chemistry - Part A\n",
    "\n",
    "## Objective\n",
    "This notebook introduces NumPy, a fundamental library for scientific computing in Python, with basic concepts and applications relevant to chemistry."
   ]
  },
  {
   "cell_type": "markdown",
   "id": "ed8d95ec",
   "metadata": {},
   "source": [
    "## 1. Introduction to NumPy\n",
    "\n",
    "NumPy (Numerical Python) is a powerful library that provides support for large, multi-dimensional arrays and matrices, along with a collection of high-level mathematical functions to operate on these arrays. It's the foundation of scientific computing in Python and is used extensively in chemistry research for:\n",
    "\n",
    "- Processing spectroscopic data\n",
    "- Simulating molecular systems\n",
    "- Analyzing experimental results\n",
    "- Statistical analysis of chemical data\n",
    "- Numerical solving of chemical kinetics and thermodynamics equations\n",
    "\n",
    "Let's start by importing NumPy:"
   ]
  },
  {
   "cell_type": "code",
   "execution_count": 1,
   "id": "4a6b4b01",
   "metadata": {},
   "outputs": [
    {
     "name": "stdout",
     "output_type": "stream",
     "text": [
      "NumPy version: 1.21.6\n"
     ]
    }
   ],
   "source": [
    "import numpy as np\n",
    "\n",
    "# Verify NumPy version\n",
    "print(f\"NumPy version: {np.__version__}\")"
   ]
  },
  {
   "cell_type": "markdown",
   "id": "c4cc65f4",
   "metadata": {},
   "source": [
    "## 2. NumPy Arrays vs. Python Lists\n",
    "\n",
    "The core functionality of NumPy is the `ndarray` (n-dimensional array). Let's compare NumPy arrays to Python lists to understand why NumPy is so essential for scientific computing."
   ]
  },
  {
   "cell_type": "code",
   "execution_count": 2,
   "id": "3a6e8a83",
   "metadata": {},
   "outputs": [
    {
     "name": "stdout",
     "output_type": "stream",
     "text": [
      "Python list: [1.008, 4.0026, 6.94, 9.0122, 10.81]\n",
      "NumPy array: [ 1.008   4.0026  6.94    9.0122 10.81  ]\n",
      "Type of Python list: <class 'list'>\n",
      "Type of NumPy array: <class 'numpy.ndarray'>\n"
     ]
    }
   ],
   "source": [
    "# Creating a Python list and a NumPy array\n",
    "# Let's use atomic masses of the first five elements as our example\n",
    "atomic_masses_list = [1.008, 4.0026, 6.94, 9.0122, 10.81]  # H, He, Li, Be, B\n",
    "atomic_masses_array = np.array(atomic_masses_list)\n",
    "\n",
    "print(\"Python list:\", atomic_masses_list)\n",
    "print(\"NumPy array:\", atomic_masses_array)\n",
    "print(\"Type of Python list:\", type(atomic_masses_list))\n",
    "print(\"Type of NumPy array:\", type(atomic_masses_array))"
   ]
  },
  {
   "cell_type": "code",
   "execution_count": 3,
   "id": "c95f05e3",
   "metadata": {},
   "outputs": [
    {
     "name": "stdout",
     "output_type": "stream",
     "text": [
      "Atoms per gram (Python list):\n",
      " [5.974206349206349e+23, 1.5045220606605707e+23, 8.677233429394813e+22, 6.682053216750627e+22, 5.570767807585569e+22]\n",
      "\n",
      "Atoms per gram (NumPy array):\n",
      " [5.97420635e+23 1.50452206e+23 8.67723343e+22 6.68205322e+22\n",
      " 5.57076781e+22]\n"
     ]
    }
   ],
   "source": [
    "# Key difference 1: Mathematical operations\n",
    "# Let's calculate the number of atoms in 1 gram of each element\n",
    "\n",
    "# With Python list - requires a loop\n",
    "avogadro = 6.022e23  # atoms/mol\n",
    "atoms_per_gram_list = []\n",
    "for mass in atomic_masses_list:\n",
    "    atoms_per_gram = avogadro / mass\n",
    "    atoms_per_gram_list.append(atoms_per_gram)\n",
    "\n",
    "# With NumPy array - vectorized operation\n",
    "atoms_per_gram_array = avogadro / atomic_masses_array\n",
    "\n",
    "print(\"Atoms per gram (Python list):\\n\", atoms_per_gram_list)\n",
    "print(\"\\nAtoms per gram (NumPy array):\\n\", atoms_per_gram_array)"
   ]
  },
  {
   "cell_type": "code",
   "execution_count": 4,
   "id": "9c5dd06f",
   "metadata": {},
   "outputs": [
    {
     "name": "stdout",
     "output_type": "stream",
     "text": [
      "Time for Python list operation: 0.060319 seconds\n",
      "Time for NumPy array operation: 0.003901 seconds\n",
      "NumPy is 15.5x faster\n"
     ]
    }
   ],
   "source": [
    "# Key difference 2: Speed\n",
    "import time\n",
    "\n",
    "# Create larger data sets for speed comparison\n",
    "large_list = list(range(1000000))\n",
    "large_array = np.array(large_list)\n",
    "\n",
    "# Multiply each element by 2\n",
    "# Python list\n",
    "start_time = time.time()\n",
    "result_list = [x * 2 for x in large_list]\n",
    "list_time = time.time() - start_time\n",
    "\n",
    "# NumPy array\n",
    "start_time = time.time()\n",
    "result_array = large_array * 2\n",
    "array_time = time.time() - start_time\n",
    "\n",
    "print(f\"Time for Python list operation: {list_time:.6f} seconds\")\n",
    "print(f\"Time for NumPy array operation: {array_time:.6f} seconds\")\n",
    "print(f\"NumPy is {list_time/array_time:.1f}x faster\")"
   ]
  },
  {
   "cell_type": "markdown",
   "id": "0c1b6a8c",
   "metadata": {},
   "source": [
    "As we can see, NumPy offers significant advantages over regular Python lists:\n",
    "\n",
    "1. **Vectorized operations**: Mathematical operations can be applied to entire arrays without explicit loops\n",
    "2. **Performance**: NumPy operations are significantly faster, especially for large datasets\n",
    "3. **Memory efficiency**: NumPy uses fixed datatypes, making storage more efficient than Python's dynamic types\n",
    "4. **Scientific functionality**: NumPy includes many mathematical functions relevant to scientific computing\n",
    "\n",
    "These advantages make NumPy essential for chemistry applications involving large datasets or intensive calculations."
   ]
  },
  {
   "cell_type": "markdown",
   "id": "61a1ce51",
   "metadata": {},
   "source": [
    "## 3. Creating NumPy Arrays\n",
    "\n",
    "Let's explore different ways to create NumPy arrays for chemistry applications:"
   ]
  },
  {
   "cell_type": "code",
   "execution_count": 5,
   "id": "9ca9bc0d",
   "metadata": {},
   "outputs": [
    {
     "name": "stdout",
     "output_type": "stream",
     "text": [
      "From list: [18.02 44.01 32.   28.01]\n",
      "\n",
      "pH values: [ 0.  1.  2.  3.  4.  5.  6.  7.  8.  9. 10. 11. 12. 13. 14.]\n",
      "\n",
      "Temperatures (°C): [  0.  10.  20.  30.  40.  50.  60.  70.  80.  90. 100.]\n",
      "\n",
      "Zeros array: [0. 0. 0. 0. 0.]\n",
      "Ones array: [1. 1. 1. 1. 1.]\n"
     ]
    }
   ],
   "source": [
    "# 1. From a Python list\n",
    "molar_masses = np.array([18.02, 44.01, 32.00, 28.01])  # H2O, CO2, O2, N2\n",
    "print(\"From list:\", molar_masses)\n",
    "\n",
    "# 2. Using np.arange (like Python's range)\n",
    "# Create array for a range of pH values from 0 to 14 with step size 1\n",
    "ph_values = np.arange(0, 14.1, 1.0)\n",
    "print(\"\\npH values:\", ph_values)\n",
    "\n",
    "# 3. Using np.linspace (linearly spaced values)\n",
    "# Create array for a temperature range from 0°C to 100°C with 11 points (10°C steps)\n",
    "temperatures = np.linspace(0, 100, 11)\n",
    "print(\"\\nTemperatures (°C):\", temperatures)\n",
    "\n",
    "# 4. Using common arrays\n",
    "zeroes = np.zeros(5)  # Array of 5 zeros\n",
    "ones = np.ones(5)    # Array of 5 ones\n",
    "print(\"\\nZeros array:\", zeroes)\n",
    "print(\"Ones array:\", ones)"
   ]
  },
  {
   "cell_type": "markdown",
   "id": "c25a3b40",
   "metadata": {},
   "source": [
    "### 3.1 Chemistry Application: Dilution Series\n",
    "\n",
    "Let's use NumPy to create a concentration dilution series, something commonly needed in laboratory work:"
   ]
  },
  {
   "cell_type": "code",
   "execution_count": 6,
   "id": "b23f62c1",
   "metadata": {},
   "outputs": [
    {
     "name": "stdout",
     "output_type": "stream",
     "text": [
      "Dilution series (loop): [1.0, 0.5, 0.25, 0.125, 0.0625, 0.03125, 0.015625, 0.0078125, 0.00390625, 0.001953125]\n",
      "Dilution series (NumPy): [1.         0.5        0.25       0.125      0.0625     0.03125\n",
      " 0.015625   0.0078125  0.00390625 0.00195312]\n"
     ]
    }
   ],
   "source": [
    "# Create a 2-fold dilution series starting from 1 M\n",
    "initial_concentration = 1.0  # mol/L\n",
    "dilution_factor = 2\n",
    "num_dilutions = 10\n",
    "\n",
    "# Method 1: Using a loop (the old way)\n",
    "dilution_series_loop = [initial_concentration]\n",
    "for i in range(1, num_dilutions):\n",
    "    next_conc = dilution_series_loop[i-1] / dilution_factor\n",
    "    dilution_series_loop.append(next_conc)\n",
    "\n",
    "# Method 2: Using NumPy (the more elegant way)\n",
    "dilution_powers = np.arange(0, num_dilutions)\n",
    "dilution_series_numpy = initial_concentration / (dilution_factor ** dilution_powers)\n",
    "\n",
    "print(\"Dilution series (loop):\", dilution_series_loop)\n",
    "print(\"Dilution series (NumPy):\", dilution_series_numpy)"
   ]
  },
  {
   "cell_type": "code",
   "execution_count": 7,
   "id": "721c4f39",
   "metadata": {},
   "outputs": [
    {
     "data": {
      "image/png": "[encoded data removed]",
      "text/plain": [
       "<Figure size 720x432 with 1 Axes>"
      ]
     },
     "metadata": {
      "needs_background": "light"
     },
     "output_type": "display_data"
    }
   ],
   "source": [
    "# Let's visualize this dilution series\n",
    "import matplotlib.pyplot as plt\n",
    "\n",
    "plt.figure(figsize=(10, 6))\n",
    "plt.plot(range(num_dilutions), dilution_series_numpy, 'o-', color='blue', linewidth=2)\n",
    "plt.xlabel('Dilution Number')\n",
    "plt.ylabel('Concentration (mol/L)')\n",
    "plt.title('2-fold Dilution Series')\n",
    "plt.grid(True, alpha=0.3)\n",
    "plt.xticks(range(num_dilutions))\n",
    "\n",
    "# Adding concentration values as text\n",
    "for i, conc in enumerate(dilution_series_numpy):\n",
    "    plt.text(i, conc + 0.02, f\"{conc:.6f}\", ha='center')\n",
    "\n",
    "plt.tight_layout()\n",
    "plt.show()"
   ]
  },
  {
   "cell_type": "markdown",
   "id": "a71aa4c7",
   "metadata": {},
   "source": [
    "## 4. Array Operations and Broadcasting\n",
    "\n",
    "NumPy allows efficient operations on arrays without explicit loops, which is called \"broadcasting\". This is particularly useful for scientific calculations."
   ]
  },
  {
   "cell_type": "code",
   "execution_count": 8,
   "id": "fea6d7d6",
   "metadata": {},
   "outputs": [
    {
     "name": "stdout",
     "output_type": "stream",
     "text": [
      "Volumes (mL): [ 10  25  50 100 250]\n",
      "Concentrations (mol/L): [0.1   0.05  0.01  0.005 0.001]\n",
      "Moles of solute (mol): [0.001   0.00125 0.0005  0.0005  0.00025]\n"
     ]
    }
   ],
   "source": [
    "# Basic arithmetic operations\n",
    "# Let's consider volumes (in mL) and concentrations (in mol/L) for different solutions\n",
    "volumes = np.array([10, 25, 50, 100, 250])\n",
    "concentrations = np.array([0.1, 0.05, 0.01, 0.005, 0.001])\n",
    "\n",
    "# Calculate moles = volume (L) × concentration (mol/L)\n",
    "# First convert mL to L\n",
    "volumes_L = volumes / 1000\n",
    "moles = volumes_L * concentrations\n",
    "\n",
    "print(\"Volumes (mL):\", volumes)\n",
    "print(\"Concentrations (mol/L):\", concentrations)\n",
    "print(\"Moles of solute (mol):\", moles)"
   ]
  },
  {
   "cell_type": "code",
   "execution_count": 9,
   "id": "4ddcb61a",
   "metadata": {},
   "outputs": [
    {
     "name": "stdout",
     "output_type": "stream",
     "text": [
      "Volumes in different units:\n",
      "mL: [ 10.  25.  50. 100. 250.]\n",
      "L: [0.01  0.025 0.05  0.1   0.25 ]\n",
      "μL: [ 10000.  25000.  50000. 100000. 250000.]\n",
      "fl.oz.: [ 338.14  845.35 1690.7  3381.4  8453.5 ]\n"
     ]
    }
   ],
   "source": [
    "# Broadcasting: operations between arrays of different shapes\n",
    "# Let's convert our volumes to different units\n",
    "\n",
    "# Conversion factors\n",
    "conversion_factors = np.array([1, 0.001, 1000, 33.814])  # mL, L, μL, fl.oz.\n",
    "\n",
    "# Broadcasting volumes across conversion factors\n",
    "# This will create a 2D array where each row is the volumes in a different unit\n",
    "volumes_in_different_units = volumes * conversion_factors[:, np.newaxis]\n",
    "\n",
    "# Create a table showing the results\n",
    "unit_names = ['mL', 'L', 'μL', 'fl.oz.']\n",
    "print(\"Volumes in different units:\")\n",
    "for i, unit in enumerate(unit_names):\n",
    "    print(f\"{unit}: {volumes_in_different_units[i]}\")"
   ]
  },
  {
   "cell_type": "markdown",
   "id": "ff0f6a33",
   "metadata": {},
   "source": [
    "### 4.1 Chemistry Application: Stoichiometric Calculations\n",
    "\n",
    "Let's use NumPy to solve stoichiometry problems, which are fundamental in chemistry:"
   ]
  },
  {
   "cell_type": "code",
   "execution_count": 10,
   "id": "9cf60bda",
   "metadata": {},
   "outputs": [
    {
     "name": "stdout",
     "output_type": "stream",
     "text": [
      "Stoichiometric calculations for 2H₂ + O₂ → 2H₂O:\n",
      "\n",
      "Mass H₂ (g) | Mass O₂ (g) | Mass H₂O (g) | Limiting Reactant\n",
      "-----------------------------------------------------------------\n",
      "      1.00 |      16.00 |        8.94 |        H₂        \n",
      "      2.00 |      20.00 |       17.87 |        H₂        \n",
      "      5.00 |      40.00 |       44.68 |        H₂        \n",
      "     10.00 |      80.00 |       89.36 |        H₂        \n"
     ]
    }
   ],
   "source": [
    "# Reaction: 2H₂ + O₂ → 2H₂O\n",
    "# Calculate mass of water formed from given masses of reactants\n",
    "\n",
    "# Molar masses (g/mol)\n",
    "molar_masses = np.array([2.016, 31.998, 18.015])  # H₂, O₂, H₂O\n",
    "\n",
    "# Stoichiometric coefficients\n",
    "coefficients = np.array([2, 1, 2])  # 2H₂ + O₂ → 2H₂O\n",
    "\n",
    "# Test case: calculate with different masses of reactants\n",
    "masses_hydrogen = np.array([1.0, 2.0, 5.0, 10.0])  # grams of H₂\n",
    "masses_oxygen = np.array([16.0, 20.0, 40.0, 80.0])  # grams of O₂\n",
    "\n",
    "# Calculate moles of each reactant\n",
    "moles_hydrogen = masses_hydrogen / molar_masses[0]\n",
    "moles_oxygen = masses_oxygen / molar_masses[1]\n",
    "\n",
    "# Determine the limiting reactant (in terms of H₂O production)\n",
    "moles_water_from_hydrogen = moles_hydrogen * (coefficients[2] / coefficients[0])\n",
    "moles_water_from_oxygen = moles_oxygen * (coefficients[2] / coefficients[1])\n",
    "\n",
    "# The limiting reactant gives the lower moles of product\n",
    "moles_water = np.minimum(moles_water_from_hydrogen, moles_water_from_oxygen)\n",
    "\n",
    "# Calculate mass of water produced\n",
    "mass_water = moles_water * molar_masses[2]\n",
    "\n",
    "# Create a table of results\n",
    "print(\"Stoichiometric calculations for 2H₂ + O₂ → 2H₂O:\")\n",
    "print(\"\\nMass H₂ (g) | Mass O₂ (g) | Mass H₂O (g) | Limiting Reactant\")\n",
    "print(\"-\" * 65)\n",
    "for i in range(len(masses_hydrogen)):\n",
    "    limiting = \"H₂\" if moles_water_from_hydrogen[i] < moles_water_from_oxygen[i] else \"O₂\"\n",
    "    print(f\"{masses_hydrogen[i]:10.2f} | {masses_oxygen[i]:10.2f} | {mass_water[i]:11.2f} | {limiting:^17}\")"
   ]
  },
  {
   "cell_type": "markdown",
   "id": "a1cf0c03",
   "metadata": {},
   "source": [
    "Let's visualize this data to better understand the relationship between reactant masses and product formation:"
   ]
  },
  {
   "cell_type": "code",
   "execution_count": 11,
   "id": "3b7e891c",
   "metadata": {},
   "outputs": [
    {
     "data": {
      "image/png": "[encoded data removed]",
      "text/plain": [
       "<Figure size 864x432 with 2 Axes>"
      ]
     },
     "metadata": {
      "needs_background": "light"
     },
     "output_type": "display_data"
    }
   ],
   "source": [
    "import matplotlib.pyplot as plt\n",
    "\n",
    "# Plot water yield vs reactant masses\n",
    "plt.figure(figsize=(12, 6))\n",
    "\n",
    "# Create two subplots side by side\n",
    "plt.subplot(1, 2, 1)\n",
    "plt.plot(masses_hydrogen, mass_water, 'o-', color='blue', linewidth=2)\n",
    "plt.xlabel('Mass of H₂ (g)')\n",
    "plt.ylabel('Mass of H₂O produced (g)')\n",
    "plt.title('Water Yield vs. Hydrogen Mass')\n",
    "plt.grid(True, alpha=0.3)\n",
    "\n",
    "plt.subplot(1, 2, 2)\n",
    "plt.plot(masses_oxygen, mass_water, 'o-', color='red', linewidth=2)\n",
    "plt.xlabel('Mass of O₂ (g)')\n",
    "plt.ylabel('Mass of H₂O produced (g)')\n",
    "plt.title('Water Yield vs. Oxygen Mass')\n",
    "plt.grid(True, alpha=0.3)\n",
    "\n",
    "plt.tight_layout()\n",
    "plt.show()"
   ]
  },
  {
   "cell_type": "markdown",
   "id": "9b56d4af",
   "metadata": {},
   "source": [
    "## 5. NumPy's Boolean Indexing and Filtering\n",
    "\n",
    "NumPy allows you to filter arrays using Boolean conditions, which is very useful for analyzing scientific data."
   ]
  },
  {
   "cell_type": "code",
   "execution_count": 12,
   "id": "c1e7ddbe",
   "metadata": {},
   "outputs": [
    {
     "name": "stdout",
     "output_type": "stream",
     "text": [
      "All temperatures (°C): [22.5 25.1 23.4 19.8 26.3 22.9 24.7 20.5 25.8 21.2]\n",
      "Boolean mask for T > 24°C: [False  True False False  True False  True False  True False]\n",
      "Temperatures above 24°C: [25.1 26.3 24.7 25.8]\n",
      "Average of high temperatures: 25.48°C\n"
     ]
    }
   ],
   "source": [
    "# Let's create a dataset of temperature readings (°C) from an experiment\n",
    "temperatures = np.array([22.5, 25.1, 23.4, 19.8, 26.3, 22.9, 24.7, 20.5, 25.8, 21.2])\n",
    "\n",
    "# Find all temperatures above 24°C\n",
    "high_temps_mask = temperatures > 24.0\n",
    "high_temps = temperatures[high_temps_mask]\n",
    "\n",
    "print(\"All temperatures (°C):\", temperatures)\n",
    "print(\"Boolean mask for T > 24°C:\", high_temps_mask)\n",
    "print(\"Temperatures above 24°C:\", high_temps)\n",
    "print(f\"Average of high temperatures: {np.mean(high_temps):.2f}°C\")"
   ]
  },
  {
   "cell_type": "code",
   "execution_count": 13,
   "id": "fd2ee4c4",
   "metadata": {},
   "outputs": [
    {
     "name": "stdout",
     "output_type": "stream",
     "text": [
      "Temperatures between 22°C and 24°C: [22.5 23.4 22.9]\n",
      "Average of moderate temperatures: 22.93°C\n",
      "\n",
      "Temperatures below 21°C or above 25°C: [25.1 19.8 26.3 20.5 25.8]\n"
     ]
    }
   ],
   "source": [
    "# Combining multiple conditions\n",
    "# Find temperatures between 22°C and 24°C\n",
    "moderate_temps_mask = (temperatures >= 22.0) & (temperatures <= 24.0)\n",
    "moderate_temps = temperatures[moderate_temps_mask]\n",
    "\n",
    "print(\"Temperatures between 22°C and 24°C:\", moderate_temps)\n",
    "print(f\"Average of moderate temperatures: {np.mean(moderate_temps):.2f}°C\")\n",
    "\n",
    "# Find temperatures either below 21°C or above 25°C\n",
    "extreme_temps_mask = (temperatures < 21.0) | (temperatures > 25.0)\n",
    "extreme_temps = temperatures[extreme_temps_mask]\n",
    "\n",
    "print(\"\\nTemperatures below 21°C or above 25°C:\", extreme_temps)"
   ]
  },
  {
   "cell_type": "markdown",
   "id": "d7f01e3c",
   "metadata": {},
   "source": [
    "### 5.1 Chemistry Application: Quality Control\n",
    "\n",
    "Let's use boolean indexing for a quality control application in a chemistry lab:"
   ]
  },
  {
   "cell_type": "code",
   "execution_count": 14,
   "id": "e5abd2bc",
   "metadata": {},
   "outputs": [
    {
     "name": "stdout",
     "output_type": "stream",
     "text": [
      "Total batches: 20\n",
      "Batches in specification: 15 (75.0%)\n",
      "Batches out of specification: 5 (25.0%)\n",
      "\n",
      "Out-of-spec batch IDs and their pH values:\n",
      "Batch #4: pH 7.33 (too acidic)\n",
      "Batch #8: pH 7.46 (too basic)\n",
      "Batch #13: pH 7.47 (too basic)\n",
      "Batch #14: pH 7.32 (too acidic)\n",
      "Batch #20: pH 7.34 (too acidic)\n"
     ]
    }
   ],
   "source": [
    "# Lab data: pH measurements for a batch of buffer solutions\n",
    "# Target pH: 7.4 (physiological pH)\n",
    "# Acceptable range: 7.35 - 7.45\n",
    "batch_ids = np.arange(1, 21)  # 20 batches\n",
    "ph_values = np.array([7.42, 7.38, 7.36, 7.33, 7.41, 7.39, 7.37, 7.46, 7.40, 7.35,\n",
    "                      7.39, 7.43, 7.47, 7.32, 7.44, 7.38, 7.40, 7.41, 7.36, 7.34])\n",
    "\n",
    "# Create a boolean mask for acceptable pH range\n",
    "in_spec_mask = (ph_values >= 7.35) & (ph_values <= 7.45)\n",
    "out_of_spec_mask = ~in_spec_mask  # Negation of in_spec_mask\n",
    "\n",
    "# Apply masks to find batch IDs that are in/out of specification\n",
    "in_spec_batches = batch_ids[in_spec_mask]\n",
    "out_of_spec_batches = batch_ids[out_of_spec_mask]\n",
    "out_of_spec_pH = ph_values[out_of_spec_mask]\n",
    "\n",
    "# Print results\n",
    "print(f\"Total batches: {len(batch_ids)}\")\n",
    "print(f\"Batches in specification: {len(in_spec_batches)} ({len(in_spec_batches)/len(batch_ids)*100:.1f}%)\")\n",
    "print(f\"Batches out of specification: {len(out_of_spec_batches)} ({len(out_of_spec_batches)/len(batch_ids)*100:.1f}%)\")\n",
    "print(\"\\nOut-of-spec batch IDs and their pH values:\")\n",
    "for batch, ph in zip(out_of_spec_batches, out_of_spec_pH):\n",
    "    print(f\"Batch #{batch}: pH {ph} {'(too acidic)' if ph < 7.35 else '(too basic)'}\")"
   ]
  },
  {
   "cell_type": "code",
   "execution_count": 15,
   "id": "d2e35a34",
   "metadata": {},
   "outputs": [
    {
     "data": {
      "image/png": "[encoded data removed]",
      "text/plain": [
       "<Figure size 864x432 with 1 Axes>"
      ]
     },
     "metadata": {
      "needs_background": "light"
     },
     "output_type": "display_data"
    }
   ],
   "source": [
    "# Visualize the pH data\n",
    "plt.figure(figsize=(12, 6))\n",
    "\n",
    "# Plot all pH values\n",
    "plt.scatter(batch_ids[in_spec_mask], ph_values[in_spec_mask], \n",
    "            color='green', label='In spec', s=80)\n",
    "plt.scatter(batch_ids[out_of_spec_mask], ph_values[out_of_spec_mask], \n",
    "            color='red', label='Out of spec', s=80)\n",
    "\n",
    "# Add target and range lines\n",
    "plt.axhline(y=7.4, color='blue', linestyle='-', label='Target pH (7.4)')\n",
    "plt.axhline(y=7.35, color='orange', linestyle='--', label='Lower limit (7.35)')\n",
    "plt.axhline(y=7.45, color='orange', linestyle='--', label='Upper limit (7.45)')\n",
    "\n",
    "# Add labels and title\n",
    "plt.xlabel('Batch ID')\n",
    "plt.ylabel('pH')\n",
    "plt.title('Buffer Solution Quality Control')\n",
    "plt.grid(True, alpha=0.3)\n",
    "plt.legend()\n",
    "plt.xticks(batch_ids)\n",
    "\n",
    "# Highlight the acceptable range\n",
    "plt.axhspan(7.35, 7.45, alpha=0.2, color='green')\n",
    "\n",
    "plt.tight_layout()\n",
    "plt.show()"
   ]
  },
  {
   "cell_type": "markdown",
   "id": "6dad3ca7",
   "metadata": {},
   "source": [
    "## 6. Summary and Practice Exercises\n",
    "\n",
    "In this notebook, we've covered several fundamental aspects of NumPy for chemistry applications:\n",
    "\n",
    "1. Basics of NumPy arrays and their advantages over Python lists\n",
    "2. Creating arrays with various methods\n",
    "3. Performing vectorized operations and broadcasting\n",
    "4. Using NumPy for stoichiometric calculations\n",
    "5. Boolean indexing for data filtering\n",
    "\n",
    "These concepts form the foundation for scientific computing in Python and are essential for chemistry data analysis."
   ]
  },
  {
   "cell_type": "markdown",
   "id": "2f8a0e83",
   "metadata": {},
   "source": [
    "### Practice Exercises\n",
    "\n",
    "Try these exercises to reinforce what you've learned:\n",
    "\n",
    "1. Create a NumPy array of temperatures in Celsius from 0 to 100 in steps of 5. Convert these temperatures to Fahrenheit using the formula F = C × 9/5 + 32.\n",
    "\n",
    "2. You have the following solution concentrations in mol/L: [0.1, 0.2, 0.5, 1.0, 2.0]. Calculate the mass of solute (in grams) needed to prepare 250 mL of each solution if the solute's molar mass is 58.44 g/mol (NaCl).\n",
    "\n",
    "3. For a reaction A + 2B → C, where the molar masses are: A = 50 g/mol, B = 30 g/mol, and C = 110 g/mol, calculate the percentage yield if 25 g of A reacts with 35 g of B to produce 40 g of C.\n",
    "\n",
    "Use the cells below to solve these exercises."
   ]
  },
  {
   "cell_type": "code",
   "execution_count": null,
   "id": "d9b32ab1",
   "metadata": {},
   "outputs": [],
   "source": [
    "# Exercise 1: Temperature conversion\n",
    "# Your code here"
   ]
  },
  {
   "cell_type": "code",
   "execution_count": null,
   "id": "89c93e17",
   "metadata": {},
   "outputs": [],
   "source": [
    "# Exercise 2: Solution preparation\n",
    "# Your code here"
   ]
  },
  {
   "cell_type": "code",
   "execution_count": null,
   "id": "3b01b5d1",
   "metadata": {},
   "outputs": [],
   "source": [
    "# Exercise 3: Percentage yield\n",
    "# Your code here"
   ]
  },
  {
   "cell_type": "markdown",
   "id": "0b9a9cb7",
   "metadata": {},
   "source": [
    "## Next Steps\n",
    "\n",
    "In Part B of our NumPy introduction, we'll explore:\n",
    "\n",
    "1. NumPy's advanced mathematical and statistical functions\n",
    "2. Working with multidimensional arrays\n",
    "3. More chemistry applications including calibration curves and titration analysis\n",
    "4. File I/O with NumPy\n",
    "\n",
    "These advanced topics will build on the foundation we've established in this notebook."
   ]
  }
 ],
 "metadata": {
  "kernelspec": {
   "display_name": "Python 3",
   "language": "python",
   "name": "python3"
  },
  "language_info": {
   "codemirror_mode": {
    "name": "ipython",
    "version": 3
   },
   "file_extension": ".py",
   "mimetype": "text/x-python",
   "name": "python",
   "nbconvert_exporter": "python",
   "pygments_lexer": "ipython3",
   "version": "3.7.6"
  }
 },
 "nbformat": 4,
 "nbformat_minor": 5
}
