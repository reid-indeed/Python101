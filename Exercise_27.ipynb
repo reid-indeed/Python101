{
 "cells": [
  {
   "cell_type": "markdown",
   "metadata": {},
   "source": [
    "# Exercise 27 - `if` this, then...\n",
    "\n",
    "A lot of what you have learned in this course has led up to this moment.\n",
    "\n",
    "You will learn how to use the `if` statement.\n",
    "\n",
    "This is Python's way of letting you design those possible forks in the road. How you determine where the program goes is determined by what you state should be done in the case that certain statements are `True`, `False`, or some combination of such outcomes.\n",
    "\n",
    "`if` statements enable you to run code only when certain conditions are met.\n",
    "\n",
    "Let's dive in with an example."
   ]
  },
  {
   "cell_type": "code",
   "execution_count": null,
   "metadata": {},
   "outputs": [],
   "source": [
    "#Define some variables, assigning integer values to each\n",
    "people = 20\n",
    "cats = 30\n",
    "dogs = 15\n",
    "\n",
    "#If the integer value of people is less than cats, run the indented print statement \n",
    "if people < cats:\n",
    "    print(\"Too many cats! The world is doomed!\")\n",
    "\n",
    "#If the integer value of people is greater than cats, run the indented print statement     \n",
    "if people > cats:\n",
    "    print(\"Not many cats! The world is saved!\")\n",
    "\n",
    "#\n",
    "if people < dogs:\n",
    "    print(\"The world is overrun by dogs!\")\n",
    "\n",
    "#    \n",
    "if people > dogs:\n",
    "    print(\"We need more dogs!\")\n",
    "\n",
    "# Increment the value of the dogs variable by 5.\n",
    "dogs += 5\n",
    "\n",
    "#\n",
    "if people >= dogs:\n",
    "    print(\"People are greater than or equal to dogs in number.\")\n",
    "\n",
    "#\n",
    "if people <= dogs:\n",
    "    print(\"People are less than or equal to dogs in number.\")\n",
    "\n",
    "#    \n",
    "if people == dogs:\n",
    "    print(\"People are dogs.\")\n"
   ]
  },
  {
   "cell_type": "markdown",
   "metadata": {},
   "source": [
    "Now, having read your first code containing `if` statements, add a comment line next to each `#`.\n",
    "\n",
    "**Be sure to point out any use of `==` versus `=` and what makes them different.**"
   ]
  },
  {
   "cell_type": "markdown",
   "metadata": {},
   "source": [
    "### A link to the previous exercise\n",
    "\n",
    "In the last 2 exercises, you learned a lot about `bool` (or boolean) data types and how to output `True` or `False`.\n",
    "\n",
    "In the code block below, replace the `###` with one of the statements from **Exercise 25**. \n",
    "\n",
    "Hit `Shift+Enter` to show the code block below in action."
   ]
  },
  {
   "cell_type": "code",
   "execution_count": null,
   "metadata": {},
   "outputs": [],
   "source": [
    "if ###:\n",
    "    print(\"Python just keeps getting better and better!\")"
   ]
  },
  {
   "cell_type": "markdown",
   "metadata": {},
   "source": [
    "### Exercise 27 - Play with the Program\n",
    "\n",
    "You would be forgiven for thinking the `if` statement on its own doesn't contribute much. In **Exercise 28**, you will see another new piece of Python code that takes `if` statements to another level.\n",
    "\n",
    "For now, here's some mini-exercises to help you understand the syntax of the `if` statement.\n",
    "\n",
    "Considering the code blocks below:\n",
    "\n",
    "1. What happens if you remove the `:` at the end of the line containing the `if`?\n",
    "\n",
    "2. What happens if the code under the line containing `if` is not indented?\n",
    "\n",
    "Hit `Shift+Enter` on the first block below. Then, answers **Questions 1 and 2** by changing the code in the second and third code blocks below. \n",
    "\n",
    "Hit `Shift+Enter` on all the code blocks to fully answer these questions."
   ]
  },
  {
   "cell_type": "code",
   "execution_count": null,
   "metadata": {},
   "outputs": [],
   "source": [
    "x =10\n",
    "y = 20"
   ]
  },
  {
   "cell_type": "code",
   "execution_count": null,
   "metadata": {},
   "outputs": [],
   "source": [
    "# Answer question 1 by modifying this code.\n",
    "if x == y:\n",
    "    print(\"All the things are equal!\")"
   ]
  },
  {
   "cell_type": "code",
   "execution_count": null,
   "metadata": {},
   "outputs": [],
   "source": [
    "# Answer question 2 by modifying this code.\n",
    "if x < y:\n",
    "    print(\"y wins!\")"
   ]
  },
  {
   "cell_type": "markdown",
   "metadata": {},
   "source": [
    "**You aren't far from the end of the course. Once you have all the tools in here, you have most of what you need to produce some truly helpful programs of your own design. The rest is merely syntax (the grammar of the coding universe).**\n",
    "\n",
    "**Go onto Exercise 28 to take another step into your brand new skill set.**"
   ]
  }
 ],
 "metadata": {
  "kernelspec": {
   "display_name": "Python 3",
   "language": "python",
   "name": "python3"
  },
  "language_info": {
   "codemirror_mode": {
    "name": "ipython",
    "version": 3
   },
   "file_extension": ".py",
   "mimetype": "text/x-python",
   "name": "python",
   "nbconvert_exporter": "python",
   "pygments_lexer": "ipython3",
   "version": "3.8.8"
  }
 },
 "nbformat": 4,
 "nbformat_minor": 2
}
