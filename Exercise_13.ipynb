{
 "cells": [
  {
   "cell_type": "markdown",
   "metadata": {},
   "source": [
    "# Exercise 13 - Running Command Line Programs\n",
    "\n",
    "***NOTE - this exercise is a little longer than earlier exercises.***\n",
    "\n",
    "\n",
    "*You might not need it right now, but it is a very worthwhile skill to have in your broader programming adventures.*\n",
    "\n",
    "*Take the time to tackle this exercise when you are at peak excitement for enhancing your Python skills!*\n",
    "\n",
    "Everything that you have learned about Python and applied in this exercise book has been (hopefully) well-behaved and self-contained inside the exercise book itself.\n",
    "\n",
    "However, one of the most powerful tools in Python and related programming languages is the ability to **reuse chunks of code from elsewhere**. In other words, you can `import` existing code into your own program and use it as part of your own program.\n",
    "\n",
    "In coding terminology, we say that you can `import` a **module** into your program. This keeps your own program as small and simple as possible while, at the same time, unleashing the power of the pre-prepared code written in the **module** you have just imported.\n",
    "\n",
    "### An analogy that might help you understand `import`\n",
    "\n",
    "As you explore the Python language beyond your initial training, you will also hear people in the community refer to importing a **library** as well as importing a **module**.\n",
    "\n",
    "Think about this like you are a writer visiting a library.\n",
    "\n",
    "* You have a blank page that you want to fill with your own creative thoughts and spellbinding words.\n",
    "\n",
    "* To write your own words on the blank page, you borrow and seek inspiration from certain passages from books available in the library you are sitting in. \n",
    "\n",
    "* You take some books from the shelves, you take notes on the passages in those books that are helpful to you, and then you write on your own blank page. \n",
    "\n",
    "* Once you're finished with the books you borrowed, you can put them back on the shelf.\n",
    "\n",
    "And if the library you are sitting in doesn't have a book you are looking for, you can go to another library to find it. \n",
    "In the second library, you can once again borrow quotes and passages and styles from books on the shelves, using them to fill your own pages with your own creative combinations of words. \n",
    "Once you're finished with the books in the second library, you can return them to the shelf.\n",
    "\n",
    "**Your Python program can be written using creative combinations of functions (book and passages) available in code modules (libraries) that you `import` into your program.**"
   ]
  },
  {
   "cell_type": "markdown",
   "metadata": {},
   "source": [
    "Run the following line of code and see what happens..."
   ]
  },
  {
   "cell_type": "markdown",
   "metadata": {},
   "source": [
    "#### Note\n",
    "The code below requires this notebook to be present **in the same folder** as the `ex-13.py` file. \n",
    "\n",
    "It will not work otherwise!"
   ]
  },
  {
   "cell_type": "code",
   "execution_count": 5,
   "metadata": {},
   "outputs": [
    {
     "name": "stdout",
     "output_type": "stream",
     "text": [
      "\n",
      "    The first variable written on the command line, after 'python' and the script name is: yabba\n",
      "    \n",
      "    The first variable written on the command line, after 'python' and the script name is: dabba\n",
      "    \n",
      "    The first variable written on the command line, after 'python' and the script name is: doo\n",
      "    \n"
     ]
    }
   ],
   "source": [
    "!python ex-13.py yabba dabba doo"
   ]
  },
  {
   "cell_type": "markdown",
   "metadata": {},
   "source": [
    "### What just happened?!\n",
    "\n",
    "Let's break it down:\n",
    "\n",
    "1. You ran the line of code that contained 5 different items in it: `!python`, `ex-13.py`, `yabba`, `dabba`, and `doo`.\n",
    "2. You should have seen 3 lines of output printed on-screen above.\n",
    "3. The last word in each of the 3 printed lines of output corresponds to the 3 last items on the line of code: `yabba`, `dabba`, and `doo`.\n",
    "\n",
    "Before we go on, try running that same code again (duplicated in the code block below) and replace the `#` for 3 new text strings instead of `yabba`, `dabba`, and `doo`.\n",
    "\n",
    "What is different in the output below versus the exemplar above? Press `Shift+Enter` on your code to show that it works."
   ]
  },
  {
   "cell_type": "code",
   "execution_count": 6,
   "metadata": {},
   "outputs": [
    {
     "name": "stdout",
     "output_type": "stream",
     "text": [
      "\n",
      "    The first variable written on the command line, after 'python' and the script name is: Dr\n",
      "    \n",
      "    The first variable written on the command line, after 'python' and the script name is: Marc\n",
      "    \n",
      "    The first variable written on the command line, after 'python' and the script name is: Reid\n",
      "    \n"
     ]
    }
   ],
   "source": [
    "!python ex-13.py ### ### ###"
   ]
  },
  {
   "cell_type": "markdown",
   "metadata": {},
   "source": [
    "### The hidden code...\n",
    "\n",
    "You may have noticed in the previous 2 blocks of code you that there is a mysterious `ex-13.py` term as part of the 5 terms on the line of code. Here it is again as a quick reminder:\n",
    "\n",
    "`!python` **ex-13.py** `yabba dabba doo`\n",
    "\n",
    "`ex-13.py` looks like a file name, right?\n",
    "\n",
    "Well, that's because it is!\n",
    "\n",
    "Python programs can be written, stored, and recognised using the file extension `.py`. \n",
    "\n",
    "Just as:\n",
    "* `.docx` is a Word file, \n",
    "* `.eml` is an email file, \n",
    "* `.xlsx` is an Excel spreadsheet, \n",
    "* `.mp4` is a video file, and \n",
    "* `.txt` is a plain text file...\n",
    "\n",
    "\n",
    "...a `.py` is the file type reserved for Python code."
   ]
  },
  {
   "cell_type": "markdown",
   "metadata": {},
   "source": [
    "What you cannot see in the line of code above is the `ex-13.py` file itself. Below is a screenshot of what is contained within `ex-13.py`:\n",
    "\n",
    "<img src=\"ex-13_imported-script_NO COMMENTS.PNG\">"
   ]
  },
  {
   "cell_type": "markdown",
   "metadata": {},
   "source": [
    "You will recognise some of this code but perhaps not all of it. We will add comments to this code later.\n",
    "\n",
    "For now, there is one important point to realise:\n",
    "\n",
    "*When you ran `!python ex-13.py yabba dabba doo` above, you ran all 11 lines of code in `ex-13.py` without having to type out any of the code in that file!*\n",
    "\n",
    "So huge is this revelation that **Exercise 14** will be dedicated to explaining what we haven't yet covered in this exercise. "
   ]
  },
  {
   "cell_type": "markdown",
   "metadata": {},
   "source": [
    "### Exercise 13 - Play with the Program\n",
    "\n",
    "Below is another code block containing the new code presented in this exercise.\n",
    "\n",
    "1. What happens if you take the `!` away?\n",
    "2. What happens if you type `ex-12.py` (or some other typo) instead of `ex-13.py` by accident? \n",
    "\n",
    "Use the two code blocks below to modify the code and test out each modification suggested modification.\n",
    "\n",
    "Hit `Shift+Enter` to demonstrate that you've attempted both code changes."
   ]
  },
  {
   "cell_type": "markdown",
   "metadata": {},
   "source": [
    "#### Question 1"
   ]
  },
  {
   "cell_type": "code",
   "execution_count": 8,
   "metadata": {},
   "outputs": [
    {
     "name": "stdout",
     "output_type": "stream",
     "text": [
      "\n",
      "    The first variable written on the command line, after 'python' and the script name is: yabba\n",
      "    \n",
      "    The first variable written on the command line, after 'python' and the script name is: dabba\n",
      "    \n",
      "    The first variable written on the command line, after 'python' and the script name is: doo\n",
      "    \n"
     ]
    }
   ],
   "source": [
    "python ex-13.py yabba dabba doo"
   ]
  },
  {
   "cell_type": "code",
   "execution_count": null,
   "metadata": {},
   "outputs": [],
   "source": [
    "# Replace this comment with your observation"
   ]
  },
  {
   "cell_type": "markdown",
   "metadata": {},
   "source": [
    "#### Question 2"
   ]
  },
  {
   "cell_type": "code",
   "execution_count": 10,
   "metadata": {},
   "outputs": [
    {
     "name": "stdout",
     "output_type": "stream",
     "text": [
      "\n",
      "    The first variable written on the command line, after 'python' and the script name is: A\n",
      "    \n",
      "    The first variable written on the command line, after 'python' and the script name is: B\n",
      "    \n",
      "    The first variable written on the command line, after 'python' and the script name is: £\n",
      "    \n"
     ]
    }
   ],
   "source": [
    "!python ex-12.py yabba dabba doo"
   ]
  },
  {
   "cell_type": "code",
   "execution_count": null,
   "metadata": {},
   "outputs": [],
   "source": [
    "# Replace this comment with your observation"
   ]
  },
  {
   "cell_type": "markdown",
   "metadata": {},
   "source": [
    "Carry on to **Exercise 14** to continue learning about what has been introduced in **Exercise 13**. \n",
    "\n",
    "**Exercise 13** really has been a mind-bending big step, so don't be concerned if you found it difficult. That is to be expected.\n",
    "\n",
    "**Well done for giving it a try. Keep going!**"
   ]
  }
 ],
 "metadata": {
  "kernelspec": {
   "display_name": "Python 3",
   "language": "python",
   "name": "python3"
  },
  "language_info": {
   "codemirror_mode": {
    "name": "ipython",
    "version": 3
   },
   "file_extension": ".py",
   "mimetype": "text/x-python",
   "name": "python",
   "nbconvert_exporter": "python",
   "pygments_lexer": "ipython3",
   "version": "3.8.8"
  }
 },
 "nbformat": 4,
 "nbformat_minor": 2
}
