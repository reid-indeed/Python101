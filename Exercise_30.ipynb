{
 "cells": [
  {
   "cell_type": "markdown",
   "metadata": {},
   "source": [
    "# Exercise 30 - Loops and Lists"
   ]
  },
  {
   "cell_type": "markdown",
   "metadata": {},
   "source": [
    "Oftentimes in scientific programming, all you *reallly* want to do is automate the boring stuff. Why spend a few hours manually editing a spreadsheet full of numbers when a Python program will do the same job in a few seconds? More on spreadsheets another time.\n",
    "\n",
    "For now, you will be introduced to 2 new and connected concepts:\n",
    "\n",
    "1. The `list` - a Python data type (just as `string` and `integer` are datatypes) that stores a collection of items that can be added to, taken from, referred to, and ordered. Just as a `string` is defined by the use of `\"..\" `, a `list` is defined in Python code by the use of square brackets `[]`.\n",
    "\n",
    "\n",
    "2. The `for` loop - a means by which **to iterate through the items in a list** and other such containers.\n",
    "\n"
   ]
  },
  {
   "cell_type": "markdown",
   "metadata": {},
   "source": [
    "### `for` loops\n",
    "Debug and then run the following code block using `Shift+Enter`.\n",
    "\n",
    "Add comment lines next to each `#` to describe, in your own words, what you think is going on here.\\\n",
    "*(Hint - the code involves defining list variables, iterating over items in lists, printing, and adding items to lists. Your comments should be along these lines.)*"
   ]
  },
  {
   "cell_type": "code",
   "execution_count": 9,
   "metadata": {},
   "outputs": [],
   "source": [
    "#  Declare some list type variables\n",
    "the_count = [1,2,3,4,5]\n",
    "fruits = ['apples','oranges','pears','apricots']\n",
    "change = [1, 'pennies', 2, 'dimes', 3, 'quarters']\n",
    "\n"
   ]
  },
  {
   "cell_type": "code",
   "execution_count": 10,
   "metadata": {},
   "outputs": [
    {
     "name": "stdout",
     "output_type": "stream",
     "text": [
      "This is count 1\n",
      "This is count 2\n",
      "This is count 3\n",
      "This is count 4\n",
      "This is count 5\n",
      "\n",
      "\n",
      "A fruit of type: apples\n",
      "A fruit of type: oranges\n",
      "A fruit of type: pears\n",
      "A fruit of type: apricots\n",
      "\n",
      "\n",
      "I got 1\n",
      "I got pennies\n",
      "I got 2\n",
      "I got dimes\n",
      "I got 3\n",
      "I got quarters\n",
      "\n",
      "\n"
     ]
    }
   ],
   "source": [
    "#  \n",
    "for number in the_count:\n",
    "    print(f\"This is count {number}\")\n",
    "\n",
    "print(\"\\n\")\n",
    "\n"
   ]
  },
  {
   "cell_type": "code",
   "execution_count": 11,
   "metadata": {},
   "outputs": [
    {
     "name": "stdout",
     "output_type": "stream",
     "text": [
      "A fruit of type: apples\n",
      "A fruit of type: oranges\n",
      "A fruit of type: pears\n",
      "A fruit of type: apricots\n",
      "\n",
      "\n"
     ]
    }
   ],
   "source": [
    "# Use a for loop to iterate over each item in the fruits list and print each item.\n",
    "for fruit in fruits:\n",
    "    print(f\"A fruit of type: {fruit}\")\n",
    "\n",
    "print(\"\\n\")\n",
    "\n",
    "\n"
   ]
  },
  {
   "cell_type": "code",
   "execution_count": 12,
   "metadata": {},
   "outputs": [
    {
     "name": "stdout",
     "output_type": "stream",
     "text": [
      "I got 1\n",
      "I got pennies\n",
      "I got 2\n",
      "I got dimes\n",
      "I got 3\n",
      "I got quarters\n",
      "\n",
      "\n"
     ]
    }
   ],
   "source": [
    "#  \n",
    "for i in change:\n",
    "    print(f\"I got {i}\")\n",
    "\n",
    "print(\"\\n\")\n",
    "\n"
   ]
  },
  {
   "cell_type": "code",
   "execution_count": 13,
   "metadata": {},
   "outputs": [
    {
     "name": "stdout",
     "output_type": "stream",
     "text": [
      "Adding 0 to the list.\n",
      "Adding 1 to the list.\n",
      "Adding 2 to the list.\n",
      "Adding 3 to the list.\n",
      "Adding 4 to the list.\n",
      "Adding 5 to the list.\n",
      "\n",
      "\n",
      "Element was: 0\n",
      "\n",
      "\n",
      "Element was: 1\n",
      "\n",
      "\n",
      "Element was: 2\n",
      "\n",
      "\n",
      "Element was: 3\n",
      "\n",
      "\n",
      "Element was: 4\n",
      "\n",
      "\n",
      "Element was: 5\n",
      "\n",
      "\n",
      "The entire list 'Elements' now looks like this:\n",
      "\n",
      "[0, 1, 2, 3, 4, 5]\n"
     ]
    }
   ],
   "source": [
    "# We can also build lists, first start with an empty one, assigned here to a variable called elements\n",
    "elements = []\n",
    "\n",
    "# Use the range function to create a temporary list [0,1,2,3,4,5] and iterate through each number\n",
    "for i in range(0,6):\n",
    "    print(f\"Adding {i} to the list.\")\n",
    "    #append is a function that enables us to add new items to a list\n",
    "    elements.append(i)\n",
    "\n",
    "print(\"\\n\")\n",
    "\n",
    "# \n",
    "for i in elements:\n",
    "    print(f\"Element was: {i}\")\n",
    "\n",
    "    print(\"\\n\")\n",
    "\n",
    "    \n",
    "print(\"The entire list \\'Elements\\' now looks like this:\\n\")\n",
    "print(elements)"
   ]
  },
  {
   "cell_type": "markdown",
   "metadata": {},
   "source": [
    "### `while` loops\n",
    "\n",
    "Where `for` loops enable you to iterate through a known group of items, one at a time, `while` puts a different spin on looping in Python.\n",
    "\n",
    "The `while` loop keeps going until a particular condition in met that breaks the loop.\n",
    "\n",
    "Add comments next to each `#` below, then hit `Shift+Enter` to see what the code does."
   ]
  },
  {
   "cell_type": "code",
   "execution_count": 8,
   "metadata": {},
   "outputs": [
    {
     "name": "stdout",
     "output_type": "stream",
     "text": [
      "Please enter the minimum value for your list: 1\n",
      "Please enter the maximum value for your list: 3\n",
      "\n",
      "#####THE WHILE LOOP BEGINS####\n",
      "The vairable 'start' remains less than or equal to 'end'.\n",
      "At the top of the loop, 'start' is 1\n",
      "The list called 'numbers' now: [1]\n",
      "At the bottom of the loop, start is 2\n",
      "WE GO ROUND AGAIN!\n",
      "\n",
      "#####THE WHILE LOOP BEGINS####\n",
      "The vairable 'start' remains less than or equal to 'end'.\n",
      "At the top of the loop, 'start' is 2\n",
      "The list called 'numbers' now: [1, 2]\n",
      "At the bottom of the loop, start is 3\n",
      "WE GO ROUND AGAIN!\n",
      "\n",
      "#####THE WHILE LOOP BEGINS####\n",
      "The vairable 'start' remains less than or equal to 'end'.\n",
      "At the top of the loop, 'start' is 3\n",
      "The list called 'numbers' now: [1, 2, 3]\n",
      "At the bottom of the loop, start is 4\n",
      "WE GO ROUND AGAIN!\n",
      "###########################\n",
      "\n",
      "The 'variable 'start is now greater than the variable 'end'.\n",
      "\n",
      "The final list of numbers:\n",
      "1\n",
      "2\n",
      "3\n"
     ]
    }
   ],
   "source": [
    "# Prompt the user to enter the minimum and maximum values for the list\n",
    "min_value = int(input(\"Please enter the minimum value for your list: \"))\n",
    "max_value = int(input(\"Please enter the maximum value for your list: \"))\n",
    "\n",
    "# Initialize an empty list to store the numbers\n",
    "numbers = []\n",
    "\n",
    "def while_loop(start, end):\n",
    "    \"\"\"Generates a list of numbers from start to end using a while loop.\"\"\"\n",
    "    while start <= end:\n",
    "        \n",
    "        print(\"\\n#####THE WHILE LOOP BEGINS####\")\n",
    "        print(\"The vairable 'start' remains less than or equal to 'end'.\")\n",
    "        print(f\"At the top of the loop, 'start' is {start}\")\n",
    "        \n",
    "        # Add the current value to the list and increment start by 1\n",
    "        numbers.append(start)\n",
    "        start += 1\n",
    "        \n",
    "        # Print the current state of the list and the updated start value\n",
    "        print(\"The list called 'numbers' now:\", numbers)\n",
    "        print(f\"At the bottom of the loop, start is {start}\")\n",
    "        print(\"WE GO ROUND AGAIN!\")\n",
    "\n",
    "    print(\"###########################\")\n",
    "    print(\"\\nThe 'variable 'start is now greater than the variable 'end'.\")\n",
    "    print(\"\\nThe final list of numbers:\")\n",
    "    \n",
    "    for num in numbers:\n",
    "        print(num)\n",
    "\n",
    "# Call the function while_loop with the specified range\n",
    "while_loop(min_value, max_value)\n"
   ]
  },
  {
   "cell_type": "markdown",
   "metadata": {},
   "source": [
    "### Exercise 30 - Play with the Program\n",
    "\n",
    "In the context of loops, search online for the definition of the keywords `break`, `continue`, and `pass`.\n",
    "\n",
    "Use the three empty code blocks below to write a short defintion of each."
   ]
  },
  {
   "cell_type": "code",
   "execution_count": null,
   "metadata": {},
   "outputs": [],
   "source": [
    "# break\n",
    "# Write your short definition here."
   ]
  },
  {
   "cell_type": "code",
   "execution_count": null,
   "metadata": {},
   "outputs": [],
   "source": [
    "# continue\n",
    "# Write your short definition here."
   ]
  },
  {
   "cell_type": "code",
   "execution_count": null,
   "metadata": {},
   "outputs": [],
   "source": [
    "# pass\n",
    "# Write your short definition here."
   ]
  }
 ],
 "metadata": {
  "kernelspec": {
   "display_name": "Python 3",
   "language": "python",
   "name": "python3"
  },
  "language_info": {
   "codemirror_mode": {
    "name": "ipython",
    "version": 3
   },
   "file_extension": ".py",
   "mimetype": "text/x-python",
   "name": "python",
   "nbconvert_exporter": "python",
   "pygments_lexer": "ipython3",
   "version": "3.8.8"
  }
 },
 "nbformat": 4,
 "nbformat_minor": 2
}
