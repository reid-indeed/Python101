{
 "cells": [
  {
   "cell_type": "markdown",
   "id": "6d3dc72d",
   "metadata": {},
   "source": [
    "# Exercise 32: An Introduction to Scientific Computing in Python\n",
    "\n",
    "## Objective\n",
    "This notebook introduces the fundamentals of scientific computing using Python, focusing on its relevance to chemistry research."
   ]
  },
  {
   "cell_type": "markdown",
   "id": "a00211be",
   "metadata": {},
   "source": [
    "# 1. Introduction\n",
    "Scientific computing involves using computational methods to analyze data, simulate processes, and visualize results. Python, with its powerful libraries, offers a robust environment for scientific research, including chemistry. In this notebook, we'll explore the basics of scientific computing and understand how Python can support your research projects.\n",
    "\n",
    "### Why Python for Chemists?\n",
    "- Easy to learn and use.\n",
    "- Powerful libraries for data analysis and visualization.\n",
    "- Widely used in academia and industry.\n",
    "- Ideal for automating repetitive tasks and managing experimental data."
   ]
  },
  {
   "cell_type": "markdown",
   "id": "30f461cb",
   "metadata": {},
   "source": [
    "# 2. Setting Up the Environment\n",
    "Before we begin, ensure you have the following libraries installed.\n",
    "\n",
    "**NOTE - if you are looking at this notebook from a university PC, the chances are you can skip this step. That's why the one line of code starts with a `#`, to comment out the active line that would otherwise attempt to install these Python libraries.**"
   ]
  },
  {
   "cell_type": "code",
   "execution_count": null,
   "id": "f0d3e29e",
   "metadata": {},
   "outputs": [],
   "source": [
    "#!pip install numpy pandas matplotlib"
   ]
  },
  {
   "cell_type": "markdown",
   "id": "06e17343",
   "metadata": {},
   "source": [
    "# 3. Scientific Computing Libraries Overview\n",
    "We'll introduce three essential libraries for scientific computing in Python and demonstrate their use:\n",
    "- **NumPy** for numerical operations.\n",
    "- **Pandas** for data manipulation.\n",
    "- **Matplotlib** for data visualization."
   ]
  },
  {
   "cell_type": "code",
   "execution_count": null,
   "id": "78cdd394",
   "metadata": {},
   "outputs": [],
   "source": [
    "import numpy as np\n",
    "import pandas as pd\n",
    "import matplotlib.pyplot as plt"
   ]
  },
  {
   "cell_type": "markdown",
   "id": "ff8f07c8",
   "metadata": {},
   "source": [
    "# 4. (But First...a Basic Python Refresher)\n",
    "We'll start with a quick recap of essential Python concepts that will be useful for scientific computing."
   ]
  },
  {
   "cell_type": "markdown",
   "id": "9b68390c",
   "metadata": {},
   "source": [
    "### Defining different variable types"
   ]
  },
  {
   "cell_type": "code",
   "execution_count": null,
   "id": "92a8e625",
   "metadata": {},
   "outputs": [],
   "source": [
    "# Defining variables with different data types\n",
    "molecular_weight_H2O = 18.015  # float\n",
    "chemical_name = \"Water\"  # string\n",
    "num_molecules = 6.022e23  # scientific notation\n",
    "\n",
    "print(f\"Molecular weight of {chemical_name}: {molecular_weight_H2O} g/mol\")"
   ]
  },
  {
   "cell_type": "markdown",
   "id": "0c64a94f",
   "metadata": {},
   "source": [
    "### Using variables as placeholders for simple arithmetic"
   ]
  },
  {
   "cell_type": "code",
   "execution_count": null,
   "id": "a41dcfe6",
   "metadata": {},
   "outputs": [],
   "source": [
    "# Simple stoichiometry example\n",
    "moles = 2  # mol\n",
    "mass = moles * molecular_weight_H2O\n",
    "print(f\"Mass of {moles} mol of {chemical_name}: {mass} g\")"
   ]
  },
  {
   "cell_type": "markdown",
   "id": "ec01aea3",
   "metadata": {},
   "source": [
    "### Using the `list` data type"
   ]
  },
  {
   "cell_type": "code",
   "execution_count": null,
   "id": "e447cbab",
   "metadata": {},
   "outputs": [],
   "source": [
    "# Example of handling experimental data\n",
    "concentrations = [0.1, 0.2, 0.3, 0.4, 0.5]  # mol/L\n",
    "print(\"Concentration data:\", concentrations)\n",
    "print()\n",
    "print(\"The fourth item on the list is:\", concentrations[3])"
   ]
  },
  {
   "cell_type": "markdown",
   "id": "80d79de2",
   "metadata": {},
   "source": [
    "### Using the `for` loop"
   ]
  },
  {
   "cell_type": "code",
   "execution_count": null,
   "id": "f4c646e5",
   "metadata": {},
   "outputs": [],
   "source": [
    "for i in concentrations:\n",
    "    print(f\"The current value of 'i' is: {i} \\n\")"
   ]
  },
  {
   "cell_type": "markdown",
   "id": "be584171",
   "metadata": {},
   "source": [
    "### Using `enumerate` with the `for` loop"
   ]
  },
  {
   "cell_type": "code",
   "execution_count": null,
   "id": "c61a2f4f",
   "metadata": {},
   "outputs": [],
   "source": [
    "#Use a for loop to cycle through the concentrations list, and partner each item on the list with an index, starting from 0.\n",
    "\n",
    "for i,j in enumerate(concentrations):\n",
    "    print(f\"The current index position on the list is: ###\")\n",
    "    print(f\"The current value of 'i' is: ### \\n\")\n",
    "    "
   ]
  },
  {
   "cell_type": "markdown",
   "id": "02d5c5cd",
   "metadata": {},
   "source": [
    "### Using dictionaries to store experimental data"
   ]
  },
  {
   "cell_type": "code",
   "execution_count": null,
   "id": "265ef93c",
   "metadata": {},
   "outputs": [],
   "source": [
    "# Example of using a dictionary to store experimental data\n",
    "decay_rates = {'Time': [0,1,2,3,4,5,6,7,8,9,10,11,12], 'A': [100,74,55,41,30,22,17,12,9,7,5,4,3]}\n",
    "\n",
    "print(\"Data type = \", type(decay_rates)\n",
    "print()\n",
    "\n"
   ]
  },
  {
   "cell_type": "code",
   "execution_count": null,
   "id": "fd328d16",
   "metadata": {},
   "outputs": [],
   "source": [
    "# Print the time values from the dictionary, by references the 'Time' keyword to print the values associated with that keyword.\n",
    "print(\"The time values in the dictionary are: \", decay_rates['Time'])\n",
    "\n",
    "# Print the 'A' values from the dictionary, by references the 'A' keyword to print the values associated with that keyword.\n",
    "###"
   ]
  },
  {
   "cell_type": "markdown",
   "id": "f61cbfee",
   "metadata": {},
   "source": [
    "# 5. Using `numpy` arrays\n",
    "\n",
    "### **Introduction to NumPy Arrays**\n",
    "\n",
    "**NumPy arrays** are a core feature of the **NumPy** library, providing a powerful and efficient way to store and manipulate large datasets in Python. Unlike Python's built-in lists, NumPy arrays support advanced mathematical operations, efficient memory usage, and fast performance, making them ideal for scientific computing.\n",
    "\n",
    "#### **Why Use NumPy Arrays in Scientific Computing?**\n",
    "\n",
    "1. **Performance:** NumPy arrays are implemented in C, which makes array operations significantly faster compared to standard Python lists, especially for large datasets.\n",
    "\n",
    "2. **Memory Efficiency:** Arrays are stored as contiguous blocks of memory, allowing for faster data access and manipulation. This is crucial when handling large experimental datasets in chemistry.\n",
    "\n",
    "3. **Vectorized Operations:** Instead of looping through elements manually, NumPy allows for operations to be applied to entire arrays simultaneously (e.g., multiplying an array by a scalar). This approach not only improves code readability but also enhances performance.\n",
    "\n",
    "4. **Mathematical Functions:** NumPy provides a broad range of mathematical functions (e.g., linear algebra, statistical operations) that operate directly on arrays.\n",
    "\n",
    "5. **Multidimensional Data Handling:** NumPy arrays can be 1D, 2D, or even higher dimensions, which is useful for representing complex data structures like matrices, time series, or multidimensional datasets from chemical experiments.\n",
    "\n",
    "#### **Example Use Cases in Chemistry:**\n",
    "- **Storing Time Series Data:** Storing concentration or reaction rate data over time.\n",
    "- **Simulations:** Running kinetic or thermodynamic simulations where large numerical datasets need to be processed efficiently.\n",
    "- **Data Analysis:** Applying mathematical and statistical operations to datasets, such as calculating average molecular weights or analyzing spectroscopy data.\n",
    "\n",
    "In this notebook, we are exploring how to create and manipulate NumPy arrays and see why they are a powerful tool for scientific research and chemical data analysis.\n"
   ]
  },
  {
   "cell_type": "code",
   "execution_count": null,
   "id": "cb3e19c8",
   "metadata": {},
   "outputs": [],
   "source": [
    "# Convert the dictionary into a NumPy array\n",
    "# First, convert the dictionary values to a list of lists and then to an array\n",
    "#Code lines 11 - 16 are deliberating spread across more lines that you are used to seeing so that you can more easily see what a 'list of lists' means).\n",
    "decay_array = np.array(\n",
    "    [\n",
    "        decay_rates['Time'], \n",
    "     decay_rates['A']\n",
    "    ]\n",
    ")\n",
    "\n",
    "# Display the array\n",
    "print(\"Decay Array:\\n\", decay_array)\n",
    "\n"
   ]
  },
  {
   "cell_type": "markdown",
   "id": "dbc132aa",
   "metadata": {},
   "source": [
    "### Printing out the properties of your `numpy` array"
   ]
  },
  {
   "cell_type": "code",
   "execution_count": null,
   "id": "a6f4e9d7",
   "metadata": {},
   "outputs": [],
   "source": [
    "# Print out properties of the NumPy array\n",
    "print(\"\\nArray Properties:\")\n",
    "print(\"Shape:\", decay_array.shape)       # Shape of the array (rows, columns)\n",
    "print(\"Size:\", decay_array.size)         # Total number of elements\n",
    "print(\"Dimensions:\", decay_array.ndim)   # Number of dimensions (e.g., 1D, 2D)\n",
    "print(\"Data Type:\", decay_array.dtype)   # Data type of array elements\n",
    "print(\"Memory Size (bytes):\", decay_array.nbytes)  # Memory size of the array\n"
   ]
  },
  {
   "cell_type": "markdown",
   "id": "89d70e2c",
   "metadata": {},
   "source": [
    "### Using NumPy for Simple Calculations"
   ]
  },
  {
   "cell_type": "code",
   "execution_count": null,
   "id": "f668d17e",
   "metadata": {},
   "outputs": [],
   "source": [
    "# Generate an array of concentrations and perform arithmetic operations\n",
    "concentrations_np = np.array([0.1, 0.2, 0.3, 0.4, 0.5])\n",
    "doubled_concentrations = concentrations_np * 2\n",
    "print(\"Original concentrations:\", concentrations)\n",
    "print(\"Doubled concentrations:\", doubled_concentrations)"
   ]
  },
  {
   "cell_type": "markdown",
   "id": "legal-burner",
   "metadata": {},
   "source": [
    "### What data type?\n",
    "\n",
    "#### Using `numpy` might look like it produces a `list` but that's not what is happening..."
   ]
  },
  {
   "cell_type": "code",
   "execution_count": null,
   "id": "infinite-wisdom",
   "metadata": {},
   "outputs": [],
   "source": [
    "#Show what data type the above variables are being stored as\n",
    "\n",
    "print(\"The concentrations variable is data type:\", type(concentrations))\n",
    "\n",
    "print(\"The concentrations_np variable is data type:\", type(concentrations_np))\n"
   ]
  },
  {
   "cell_type": "markdown",
   "id": "1fddf218",
   "metadata": {},
   "source": [
    "# 6. Using Pandas to Create and Display a Simple DataFrame\n",
    "\n",
    "### **Introduction to Pandas**\n",
    "\n",
    "**Pandas** is a powerful open-source data analysis and manipulation library for Python. It is particularly well-suited for handling structured data, such as tables or time series data, and offers functionality similar to spreadsheet tools like Excel but with much greater flexibility and performance. \n",
    "\n",
    "#### **Why Use Pandas in Scientific Computing?**\n",
    "\n",
    "1. **Data Structures:** Pandas provides two primary data structures:\n",
    "   - **Series:** A one-dimensional array with labeled indices, perfect for single columns of data.\n",
    "   - **DataFrame:** A two-dimensional, tabular data structure with labeled rows and columns, akin to a spreadsheet or SQL table.\n",
    "\n",
    "2. **Data Import and Export:** Pandas makes it easy to import data from various formats, including:\n",
    "   - **CSV files:** Common for experimental data export (`pd.read_csv()`).\n",
    "   - **Excel files:** For laboratory data and results (`pd.read_excel()`).\n",
    "   - **Other formats:** Including JSON, SQL databases, and more.\n",
    "\n",
    "3. **Data Cleaning:** Tools for handling missing values, filtering data, and transforming datasets. This is invaluable when working with experimental data that may require preprocessing before analysis.\n",
    "\n",
    "4. **Data Analysis:** Supports descriptive statistics, grouping data, and applying mathematical operations directly to DataFrames. This is useful for analyzing experimental results or processing large datasets.\n",
    "\n",
    "5. **Data Visualization:** Pandas integrates well with visualization libraries like **Matplotlib**, allowing for quick and easy generation of plots and graphs directly from DataFrames.\n",
    "\n",
    "#### **Example Use Cases in Chemistry:**\n",
    "- **Analyzing Time Series Data:** Such as reaction rates over time or monitoring experimental conditions.\n",
    "- **Handling Experimental Datasets:** Importing data from instruments, cleaning it, and performing initial analysis.\n",
    "- **Data Export:** Saving processed data back to a CSV or Excel file for further reporting or sharing with collaborators.\n",
    "\n",
    "In this notebook, we will explore how to load, manipulate, and visualize data using **Pandas**, showing how it can simplify and enhance data-driven research in chemistry.\n"
   ]
  },
  {
   "cell_type": "code",
   "execution_count": null,
   "id": "87090109",
   "metadata": {},
   "outputs": [],
   "source": [
    "# Create a simple DataFrame to manage chemical data\n",
    "data = {\n",
    "    \"Sample\": [\"A\", \"B\", \"C\"],\n",
    "    \"Concentration (mol/L)\": [0.1, 0.2, 0.3],\n",
    "    \"pH\": [7, 8, 6]\n",
    "}\n",
    "\n",
    "#Create a pandas dataframe from the dictionary called 'data'\n",
    "df = pd.DataFrame(data)\n",
    "print(df)"
   ]
  },
  {
   "cell_type": "code",
   "execution_count": null,
   "id": "971fe00f",
   "metadata": {},
   "outputs": [],
   "source": [
    "# Create another dataframe, this time from the 'decay_rates' dictionary\n",
    "\n",
    "decay_df = pd.DataFrame(decay_rates)\n",
    "\n",
    "print(decay_df)"
   ]
  },
  {
   "cell_type": "code",
   "execution_count": null,
   "id": "391c8069",
   "metadata": {},
   "outputs": [],
   "source": [
    "# For larger dataframes, you may wihs to just take a 'seank peak' at the content structure, using the 'head()' function in pandas.\n",
    "# Write out the code below that will print out the top of the decay_df dataframe, using the head() function. \n",
    "\n",
    "###"
   ]
  },
  {
   "cell_type": "markdown",
   "id": "developmental-yorkshire",
   "metadata": {},
   "source": [
    "### What data type (again)?\n",
    "\n",
    "#### Let's more deeply understand the variables we've used in the above code block..."
   ]
  },
  {
   "cell_type": "code",
   "execution_count": null,
   "id": "sustained-token",
   "metadata": {},
   "outputs": [],
   "source": [
    "#Show what data type the above variables are being stored as\n",
    "\n",
    "print(\"The data variable is data type:\", type(data))\n",
    "\n",
    "print(\"The df variable is data type:\", type(df))\n"
   ]
  },
  {
   "cell_type": "markdown",
   "id": "93f9e7a9",
   "metadata": {},
   "source": [
    "# 7. Plotting with Matplotlib\n",
    "\n",
    "### **Introduction to Matplotlib**\n",
    "\n",
    "**Matplotlib** is a comprehensive library for creating static, animated, and interactive visualizations in Python. It is particularly valuable in scientific computing for generating high-quality graphs and plots to visualize data effectively. Whether you are analyzing experimental results, presenting data, or exploring trends, **Matplotlib** offers the tools needed to create clear and informative graphics.\n",
    "\n",
    "#### **Why Use Matplotlib in Scientific Computing?**\n",
    "\n",
    "1. **Versatile Plotting Capabilities:** Matplotlib supports a wide variety of plots, including:\n",
    "   - **Line plots:** Ideal for showing trends over time or continuous data.\n",
    "   - **Scatter plots:** Useful for examining relationships between variables.\n",
    "   - **Bar charts:** Good for categorical data comparisons.\n",
    "   - **Histograms:** Excellent for displaying data distributions.\n",
    "   - **Heatmaps and more:** Advanced visualizations for complex datasets.\n",
    "\n",
    "2. **Customization:** Almost every aspect of a plot can be customized, from colors and labels to tick marks and grid lines. This level of control ensures that your data is presented clearly and professionally.\n",
    "\n",
    "3. **Integration with Other Libraries:** Matplotlib works seamlessly with **Pandas** and **NumPy**, allowing you to plot data directly from **DataFrames** or **arrays** with minimal code.\n",
    "\n",
    "4. **Publication-Quality Figures:** The library supports vector graphics output (e.g., PDF, SVG), which is ideal for creating figures for scientific publications and presentations.\n",
    "\n",
    "5. **Interactive Plots:** When used in Jupyter notebooks, Matplotlib can generate interactive plots that enhance data exploration.\n",
    "\n",
    "#### **Example Use Cases in Chemistry:**\n",
    "- **Visualizing Reaction Kinetics:** Plotting concentration vs. time data for chemical reactions.\n",
    "- **Comparing Experimental Conditions:** Using bar charts to compare yields or efficiencies under different conditions.\n",
    "- **Analyzing Spectroscopy Data:** Creating line plots of absorbance vs. wavelength.\n",
    "\n",
    "In this notebook, we will explore how to create and customize plots using **Matplotlib**, demonstrating how effective data visualization can enhance the interpretation and communication of research findings.\n"
   ]
  },
  {
   "cell_type": "code",
   "execution_count": null,
   "id": "2dee64e9",
   "metadata": {},
   "outputs": [],
   "source": [
    "# Simple plot to visualize concentration data, stored in numpy arrays\n",
    "plt.plot(concentrations_np, doubled_concentrations, marker='o')\n",
    "plt.xlabel('Initial Concentration (mol/L)')\n",
    "plt.ylabel('Doubled Concentration (mol/L)')\n",
    "plt.title('Concentration Doubling Example')\n",
    "plt.grid(True)\n",
    "plt.show()"
   ]
  },
  {
   "cell_type": "markdown",
   "id": "important-blend",
   "metadata": {},
   "source": [
    "### Formatting `matplotlib` plots\n",
    "\n",
    "#### In the code block below, we will remove the `#` that is sitting in front of the input arguments inside the brackets of each `plt` code line.\n",
    "\n",
    "#### In this way, you will see some examples of how we can improve on the basic graph example above."
   ]
  },
  {
   "cell_type": "code",
   "execution_count": null,
   "id": "computational-enlargement",
   "metadata": {},
   "outputs": [],
   "source": [
    "# Simple plot to visualize concentration data\n",
    "plt.plot(\n",
    "    concentrations, \n",
    "    doubled_concentrations, \n",
    "    marker='o',           # Marker style (e.g., 'o', 's', '^')\n",
    "    #linestyle='--',        # Line style (e.g., '-', '--', '-.')\n",
    "    #color='b',             # Line color (e.g., 'b' for blue, 'r' for red)\n",
    "    #label='Concentration Data' # Label for the legend\n",
    ")\n",
    "\n",
    "plt.xlabel(\n",
    "    'Initial Concentration (mol/L)', \n",
    "    #fontsize=12,           # Font size of the label\n",
    "    #color='darkblue'        # Font color\n",
    ")\n",
    "\n",
    "plt.ylabel(\n",
    "    'Doubled Concentration (mol/L)', \n",
    "    #fontsize=12, \n",
    "    #color='darkgreen'\n",
    ")\n",
    "\n",
    "plt.title(\n",
    "    'Concentration Doubling Example', \n",
    "    #fontsize=14, \n",
    "    #fontweight='bold'       # Make the title bold\n",
    ")\n",
    "\n",
    "plt.grid(True)              # Show grid lines\n",
    "#plt.legend()                # Show the legend (if labels are used)\n",
    "plt.show()\n"
   ]
  },
  {
   "cell_type": "markdown",
   "id": "15b3b421",
   "metadata": {},
   "source": [
    "### One more plotting example"
   ]
  },
  {
   "cell_type": "code",
   "execution_count": null,
   "id": "95e511b7",
   "metadata": {},
   "outputs": [],
   "source": [
    "# Simple plot to visualize concentration data, stored in numpy arrays\n",
    "plt.plot(decay_df['Time'].to_numpy(), #convert the pandas dataframe column to a numpy array before plotting x-axis\n",
    "         decay_df['A'].to_numpy(), #convert the pandas dataframe column to a numpy array before plotting y-axis\n",
    "         marker='o',\n",
    "         markersize=10,\n",
    "         mfc='red', #marker foreground colour\n",
    "         mec='black',\n",
    "        linestyle='--'\n",
    "        )\n",
    "plt.xlabel('Initial Concentration (mol/L)')\n",
    "plt.ylabel('Doubled Concentration (mol/L)')\n",
    "plt.title('Concentration Doubling Example')\n",
    "plt.grid(True)\n",
    "plt.show()"
   ]
  },
  {
   "cell_type": "markdown",
   "id": "4e747d32",
   "metadata": {},
   "source": [
    "# 7. Summary and Reflection\n",
    "In this notebook, we covered:\n",
    "- The importance of scientific computing in chemistry.\n",
    "- How Python's basic features can be used for simple scientific tasks.\n",
    "- Demonstrated practical use of NumPy, Pandas, and Matplotlib.\n",
    "\n",
    "### Next Steps\n",
    "- Dive deeper into **NumPy** for numerical computing with **Exercises 33A and 33B**, handling larger datasets with **Pandas**, and creating informative plots using **Matplotlib**.\n",
    "\n",
    "- Feel free to experiment with the code and explore how these tools can help you in your own research!"
   ]
  },
  {
   "cell_type": "code",
   "execution_count": null,
   "id": "9ee01a3f",
   "metadata": {},
   "outputs": [],
   "source": []
  }
 ],
 "metadata": {
  "kernelspec": {
   "display_name": "Python 3",
   "language": "python",
   "name": "python3"
  },
  "language_info": {
   "codemirror_mode": {
    "name": "ipython",
    "version": 3
   },
   "file_extension": ".py",
   "mimetype": "text/x-python",
   "name": "python",
   "nbconvert_exporter": "python",
   "pygments_lexer": "ipython3",
   "version": "3.8.8"
  }
 },
 "nbformat": 4,
 "nbformat_minor": 5
}
