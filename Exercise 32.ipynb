{
 "cells": [
  {
   "cell_type": "markdown",
   "id": "6d3dc72d",
   "metadata": {},
   "source": [
    "# An Introduction to Scientific Computing in Python\n",
    "\n",
    "## Objective\n",
    "This notebook introduces the fundamentals of scientific computing using Python, focusing on its relevance to chemistry research."
   ]
  },
  {
   "cell_type": "markdown",
   "id": "a00211be",
   "metadata": {},
   "source": [
    "## 1. Introduction\n",
    "Scientific computing involves using computational methods to analyze data, simulate processes, and visualize results. Python, with its powerful libraries, offers a robust environment for scientific research, including chemistry. In this notebook, we'll explore the basics of scientific computing and understand how Python can support your research projects.\n",
    "\n",
    "### Why Python for Chemists?\n",
    "- Easy to learn and use.\n",
    "- Powerful libraries for data analysis and visualization.\n",
    "- Widely used in academia and industry.\n",
    "- Ideal for automating repetitive tasks and managing experimental data."
   ]
  },
  {
   "cell_type": "markdown",
   "id": "30f461cb",
   "metadata": {},
   "source": [
    "## 2. Setting Up the Environment\n",
    "Before we begin, ensure you have the following libraries installed:"
   ]
  },
  {
   "cell_type": "code",
   "execution_count": null,
   "id": "f0d3e29e",
   "metadata": {},
   "outputs": [],
   "source": [
    "!pip install numpy pandas matplotlib"
   ]
  },
  {
   "cell_type": "markdown",
   "id": "ff8f07c8",
   "metadata": {},
   "source": [
    "## 3. Basic Python Refresher\n",
    "We'll start with a quick recap of essential Python concepts that will be useful for scientific computing."
   ]
  },
  {
   "cell_type": "code",
   "execution_count": 25,
   "id": "92a8e625",
   "metadata": {},
   "outputs": [
    {
     "name": "stdout",
     "output_type": "stream",
     "text": [
      "Molecular weight of Water: 18.015 g/mol\n"
     ]
    }
   ],
   "source": [
    "# Defining variables with different data types\n",
    "molecular_weight_H2O = 18.015  # float\n",
    "chemical_name = \"Water\"  # string\n",
    "num_molecules = 6.022e23  # scientific notation\n",
    "is_organic = False  # boolean\n",
    "\n",
    "print(f\"Molecular weight of {chemical_name}: {molecular_weight_H2O} g/mol\")"
   ]
  },
  {
   "cell_type": "code",
   "execution_count": 26,
   "id": "a41dcfe6",
   "metadata": {},
   "outputs": [
    {
     "name": "stdout",
     "output_type": "stream",
     "text": [
      "Mass of 2 mol of Water: 36.03 g\n"
     ]
    }
   ],
   "source": [
    "# Simple stoichiometry example\n",
    "moles = 2  # mol\n",
    "mass = moles * molecular_weight_H2O\n",
    "print(f\"Mass of {moles} mol of {chemical_name}: {mass} g\")"
   ]
  },
  {
   "cell_type": "code",
   "execution_count": 27,
   "id": "e447cbab",
   "metadata": {},
   "outputs": [
    {
     "name": "stdout",
     "output_type": "stream",
     "text": [
      "Concentration data: [0.1, 0.2, 0.3, 0.4, 0.5]\n"
     ]
    }
   ],
   "source": [
    "# Example of handling experimental data\n",
    "concentrations = [0.1, 0.2, 0.3, 0.4, 0.5]  # mol/L\n",
    "print(\"Concentration data:\", concentrations)"
   ]
  },
  {
   "cell_type": "markdown",
   "id": "06e17343",
   "metadata": {},
   "source": [
    "## 4. Scientific Computing Libraries Overview\n",
    "We'll introduce three essential libraries for scientific computing in Python and demonstrate their use:\n",
    "- **NumPy** for numerical operations.\n",
    "- **Pandas** for data manipulation.\n",
    "- **Matplotlib** for data visualization."
   ]
  },
  {
   "cell_type": "code",
   "execution_count": 16,
   "id": "78cdd394",
   "metadata": {},
   "outputs": [],
   "source": [
    "import numpy as np\n",
    "import pandas as pd\n",
    "import matplotlib.pyplot as plt"
   ]
  },
  {
   "cell_type": "markdown",
   "id": "89d70e2c",
   "metadata": {},
   "source": [
    "### Using NumPy for Simple Calculations"
   ]
  },
  {
   "cell_type": "code",
   "execution_count": 28,
   "id": "f668d17e",
   "metadata": {},
   "outputs": [
    {
     "name": "stdout",
     "output_type": "stream",
     "text": [
      "Original concentrations: [0.1, 0.2, 0.3, 0.4, 0.5]\n",
      "Doubled concentrations: [0.2 0.4 0.6 0.8 1. ]\n"
     ]
    }
   ],
   "source": [
    "# Generate an array of concentrations and perform arithmetic operations\n",
    "concentrations_np = np.array([0.1, 0.2, 0.3, 0.4, 0.5])\n",
    "doubled_concentrations = concentrations_np * 2\n",
    "print(\"Original concentrations:\", concentrations)\n",
    "print(\"Doubled concentrations:\", doubled_concentrations)"
   ]
  },
  {
   "cell_type": "markdown",
   "id": "legal-burner",
   "metadata": {},
   "source": [
    "### What data type?\n",
    "\n",
    "#### Using `numpy` might look like it produces a `list` but that's not what is happening..."
   ]
  },
  {
   "cell_type": "code",
   "execution_count": 29,
   "id": "infinite-wisdom",
   "metadata": {},
   "outputs": [
    {
     "name": "stdout",
     "output_type": "stream",
     "text": [
      "The concentrations variable is data type: <class 'list'>\n",
      "The concentrations_np variable is data type: <class 'numpy.ndarray'>\n"
     ]
    }
   ],
   "source": [
    "#Show what data type the above variables are being stored as\n",
    "\n",
    "print(\"The concentrations variable is data type:\", type(concentrations))\n",
    "\n",
    "print(\"The concentrations_np variable is data type:\", type(concentrations_np))\n"
   ]
  },
  {
   "cell_type": "markdown",
   "id": "1fddf218",
   "metadata": {},
   "source": [
    "### Using Pandas to Create and Display a Simple DataFrame"
   ]
  },
  {
   "cell_type": "code",
   "execution_count": 30,
   "id": "87090109",
   "metadata": {},
   "outputs": [
    {
     "name": "stdout",
     "output_type": "stream",
     "text": [
      "  Sample  Concentration (mol/L)  pH\n",
      "0      A                    0.1   7\n",
      "1      B                    0.2   8\n",
      "2      C                    0.3   6\n"
     ]
    }
   ],
   "source": [
    "# Create a simple DataFrame to manage chemical data\n",
    "data = {\n",
    "    \"Sample\": [\"A\", \"B\", \"C\"],\n",
    "    \"Concentration (mol/L)\": [0.1, 0.2, 0.3],\n",
    "    \"pH\": [7, 8, 6]\n",
    "}\n",
    "df = pd.DataFrame(data)\n",
    "print(df)"
   ]
  },
  {
   "cell_type": "markdown",
   "id": "developmental-yorkshire",
   "metadata": {},
   "source": [
    "### What data type (again)?\n",
    "\n",
    "#### Let's more deeply understand the variables we've used in the above code block..."
   ]
  },
  {
   "cell_type": "code",
   "execution_count": 33,
   "id": "sustained-token",
   "metadata": {},
   "outputs": [
    {
     "name": "stdout",
     "output_type": "stream",
     "text": [
      "The data variable is data type: <class 'dict'>\n",
      "The df variable is data type: <class 'pandas.core.frame.DataFrame'>\n"
     ]
    }
   ],
   "source": [
    "#Show what data type the above variables are being stored as\n",
    "\n",
    "print(\"The data variable is data type:\", type(data))\n",
    "\n",
    "print(\"The df variable is data type:\", type(df))\n"
   ]
  },
  {
   "cell_type": "markdown",
   "id": "93f9e7a9",
   "metadata": {},
   "source": [
    "### Plotting with Matplotlib"
   ]
  },
  {
   "cell_type": "code",
   "execution_count": 32,
   "id": "2dee64e9",
   "metadata": {},
   "outputs": [
    {
     "data": {
      "image/png": "[encoded data removed]",
      "text/plain": [
       "<Figure size 432x288 with 1 Axes>"
      ]
     },
     "metadata": {
      "needs_background": "light"
     },
     "output_type": "display_data"
    }
   ],
   "source": [
    "# Simple plot to visualize concentration data\n",
    "plt.plot(concentrations_np, doubled_concentrations, marker='o')\n",
    "plt.xlabel('Initial Concentration (mol/L)')\n",
    "plt.ylabel('Doubled Concentration (mol/L)')\n",
    "plt.title('Concentration Doubling Example')\n",
    "plt.grid(True)\n",
    "plt.show()"
   ]
  },
  {
   "cell_type": "markdown",
   "id": "important-blend",
   "metadata": {},
   "source": [
    "# Formatting `matplotlib` plots\n",
    "\n",
    "#### In the code block below, we will remove the `#` that is sitting in front of the input arguments inside the brackets of each `plt` code line.\n",
    "\n",
    "#### In this way, you will see some examples of how we can improve on the basic graph example above."
   ]
  },
  {
   "cell_type": "code",
   "execution_count": 15,
   "id": "computational-enlargement",
   "metadata": {},
   "outputs": [
    {
     "name": "stderr",
     "output_type": "stream",
     "text": [
      "No handles with labels found to put in legend.\n"
     ]
    },
    {
     "data": {
      "image/png": "[encoded data removed]",
      "text/plain": [
       "<Figure size 432x288 with 1 Axes>"
      ]
     },
     "metadata": {
      "needs_background": "light"
     },
     "output_type": "display_data"
    }
   ],
   "source": [
    "# Simple plot to visualize concentration data\n",
    "plt.plot(\n",
    "    concentrations, \n",
    "    doubled_concentrations, \n",
    "    marker='o',           # Marker style (e.g., 'o', 's', '^')\n",
    "    linestyle='--',        # Line style (e.g., '-', '--', '-.')\n",
    "    #color='b',             # Line color (e.g., 'b' for blue, 'r' for red)\n",
    "    #label='Concentration Data' # Label for the legend\n",
    ")\n",
    "\n",
    "plt.xlabel(\n",
    "    'Initial Concentration (mol/L)', \n",
    "    #fontsize=12,           # Font size of the label\n",
    "    #color='darkblue'        # Font color\n",
    ")\n",
    "\n",
    "plt.ylabel(\n",
    "    'Doubled Concentration (mol/L)', \n",
    "    #fontsize=12, \n",
    "    #color='darkgreen'\n",
    ")\n",
    "\n",
    "plt.title(\n",
    "    'Concentration Doubling Example', \n",
    "    #fontsize=14, \n",
    "    #fontweight='bold'       # Make the title bold\n",
    ")\n",
    "\n",
    "plt.grid(True)              # Show grid lines\n",
    "plt.legend()                # Show the legend (if labels are used)\n",
    "plt.show()\n"
   ]
  },
  {
   "cell_type": "markdown",
   "id": "4e747d32",
   "metadata": {},
   "source": [
    "## 5. Summary and Reflection\n",
    "In this notebook, we covered:\n",
    "- The importance of scientific computing in chemistry.\n",
    "- How Python's basic features can be used for simple scientific tasks.\n",
    "- Demonstrated practical use of NumPy, Pandas, and Matplotlib.\n",
    "\n",
    "### Next Steps\n",
    "- Dive deeper into **NumPy** for numerical computing.\n",
    "- Learn how to handle larger datasets with **Pandas**.\n",
    "- Create informative plots using **Matplotlib**.\n",
    "\n",
    "Feel free to experiment with the code and explore how these tools can help you in your own research!"
   ]
  },
  {
   "cell_type": "markdown",
   "id": "hollow-boost",
   "metadata": {},
   "source": [
    "# Play with the Program"
   ]
  },
  {
   "cell_type": "code",
   "execution_count": null,
   "id": "affecting-underwear",
   "metadata": {},
   "outputs": [],
   "source": []
  }
 ],
 "metadata": {
  "kernelspec": {
   "display_name": "Python 3",
   "language": "python",
   "name": "python3"
  },
  "language_info": {
   "codemirror_mode": {
    "name": "ipython",
    "version": 3
   },
   "file_extension": ".py",
   "mimetype": "text/x-python",
   "name": "python",
   "nbconvert_exporter": "python",
   "pygments_lexer": "ipython3",
   "version": "3.7.6"
  }
 },
 "nbformat": 4,
 "nbformat_minor": 5
}
