{
 "cells": [
  {
   "cell_type": "markdown",
   "id": "07a359bf",
   "metadata": {},
   "source": [
    "\n",
    "# Exercise 35: Introduction to Data Handling and Visualization with Pandas and Matplotlib using Spreadsheet Data\n",
    "\n",
    "## Objective\n",
    "This notebook introduces you to fundamental data handling techniques using **pandas** and data visualization with **matplotlib**. You will learn how to:\n",
    "\n",
    "1. **Read spreadsheet data** from CSV files into **pandas** DataFrames.\n",
    "2. **Perform operations** on existing data, including adding columns, calculating **rolling averages**, and **interpolating** missing data.\n",
    "3. **Visualize data** using **matplotlib** to better understand trends and changes.\n",
    "4. **Write processed data** back to a new CSV file for further use.\n",
    "\n",
    "We will use three example datasets:\n",
    "- **First_Order_Decay_With_Noise_2.csv**: Simulates a first-order decay with noise and missing data.\n",
    "- **Second_Order_Decay_With_Noise.csv**: Simulates a second-order decay with noise and missing data.\n",
    "- **colour.csv**: Contains time-series data derived from color/computer vision analysis.\n",
    "\n",
    "Let's get started!\n"
   ]
  },
  {
   "cell_type": "markdown",
   "id": "5f4144b9",
   "metadata": {},
   "source": [
    "# 1. Import Libraries"
   ]
  },
  {
   "cell_type": "code",
   "execution_count": null,
   "id": "becba20e",
   "metadata": {},
   "outputs": [],
   "source": [
    "#import your scientific computing libraries\n",
    "import pandas as pd\n",
    "import numpy as np\n",
    "import matplotlib.pyplot as plt\n",
    "\n",
    "# Set a consistent style for plots\n",
    "plt.style.use('seaborn-darkgrid')\n"
   ]
  },
  {
   "cell_type": "markdown",
   "id": "008ba190",
   "metadata": {},
   "source": [
    "# 2. Import data"
   ]
  },
  {
   "cell_type": "code",
   "execution_count": null,
   "id": "2cef46dd",
   "metadata": {},
   "outputs": [],
   "source": [
    "\n",
    "# Load the datasets\n",
    "second_order_data = pd.read_csv('Second_Order_Decay.csv')\n",
    "colour_data = pd.read_csv('colour.csv')\n",
    "\n",
    "\n",
    "print(\"\\nSecond Order Decay Data:\")\n",
    "display(second_order_data.head())\n",
    "\n",
    "print(\"\\nColour Data:\")\n",
    "display(colour_data.head())\n"
   ]
  },
  {
   "cell_type": "markdown",
   "id": "39b64c91",
   "metadata": {},
   "source": [
    "\n",
    "# 3. Data Processing\n",
    "\n",
    "We will perform the following operations on the data:\n",
    "1. **Handling missing data** by interpolation.\n",
    "2. **Calculating rolling averages** to smooth noisy data.\n",
    "3. **Adding new columns** to the DataFrames based on these operations."
   ]
  },
  {
   "cell_type": "markdown",
   "id": "505a0332",
   "metadata": {},
   "source": [
    "## Visualise some raw data\n",
    "\n",
    "Whenever you are working with new data, it is always important to get a visual sense of what you are working with, and how you later manipulate these data."
   ]
  },
  {
   "cell_type": "code",
   "execution_count": null,
   "id": "8a0715c0",
   "metadata": {},
   "outputs": [],
   "source": [
    "# Visualize the raw data\n",
    "plt.figure(figsize=(10, 6))\n",
    "plt.scatter(second_order_data['Time'], second_order_data['Concentration'], color='blue', alpha=0.6, label=\"Raw Data\")\n",
    "plt.title(\"Raw Time Series Data\", fontsize=16, weight='bold')\n",
    "plt.xlabel(\"Time (s)\", fontsize=14, weight='bold')\n",
    "plt.ylabel(\"Concentration [A]\", fontsize=14, weight='bold')\n",
    "plt.legend()\n",
    "plt.grid()\n",
    "plt.show()\n"
   ]
  },
  {
   "cell_type": "markdown",
   "id": "992ba9ae",
   "metadata": {},
   "source": [
    "### Handling Missing Data with Interpolation\n",
    "\n",
    "In experimental datasets, it is common to encounter **missing values**, which can disrupt analysis and visualization. The **pandas** library offers the **interpolate()** method to fill these gaps by estimating values based on surrounding data. \n",
    "\n",
    "In this example, we apply **linear interpolation** to the **Concentration** column, generating a smooth dataset for visualization and analysis. The plot compares the **raw data** (with missing values) to the **interpolated data**, demonstrating how interpolation can enhance data continuity.\n"
   ]
  },
  {
   "cell_type": "code",
   "execution_count": null,
   "id": "c1a48ad5",
   "metadata": {},
   "outputs": [],
   "source": [
    "\n",
    "# Interpolate missing values using default linear interpolation method\n",
    "second_order_data['Interpolated'] = second_order_data['Concentration'].interpolate()\n",
    "\n",
    "\n",
    "# Visualize interpolated data\n",
    "plt.figure(figsize=(10, 6))\n",
    "plt.scatter(second_order_data['Time'], second_order_data['Interpolated'], color='green', label=\"Interpolated Data\")\n",
    "plt.scatter(second_order_data['Time'], second_order_data['Concentration'], color='blue', alpha=0.5, label=\"Raw Data\")\n",
    "plt.title(\"Interpolated Data\", fontsize=16, weight='bold')\n",
    "plt.xlabel(\"Time (s)\", fontsize=14, weight='bold')\n",
    "plt.ylabel(\"Concentration [A]\", fontsize=14, weight='bold')\n",
    "plt.legend()\n",
    "plt.grid()\n",
    "plt.show()\n"
   ]
  },
  {
   "cell_type": "code",
   "execution_count": null,
   "id": "6e48e2d9",
   "metadata": {},
   "outputs": [],
   "source": [
    "#Calcul\n",
    "\n",
    "# Apply rolling average\n",
    "window_size = 5\n",
    "second_order_data['Smoothed'] = data['Interpolated'].rolling(window=window_size, center=True).mean()\n",
    "\n",
    "\n",
    "# Visualize interpolated data\n",
    "plt.figure(figsize=(10, 6))\n",
    "plt.scatter(second_order_data['Time'], second_order_data['Interpolated'], color='green', label=\"Interpolated Data\")\n",
    "plt.scatter(second_order_data['Time'], second_order_data['Concentration'], color='blue', alpha=0.5, label=\"Raw Data\")\n",
    "plt.title(\"Interpolated Data\", fontsize=16, weight='bold')\n",
    "plt.xlabel(\"Time (s)\", fontsize=14, weight='bold')\n",
    "plt.ylabel(\"Concentration [A]\", fontsize=14, weight='bold')\n",
    "plt.legend()\n",
    "plt.grid()\n",
    "plt.show()"
   ]
  },
  {
   "cell_type": "markdown",
   "id": "9b7c5566",
   "metadata": {},
   "source": [
    "\n",
    "## Visualization of data manipulations\n",
    "\n",
    "Visualizing data can help identify trends, assess the effect of data processing steps, and provide insights into the behavior of chemical systems.\n",
    "\n",
    "In the example below, we are plotting the effect of 'smoothing' the raw data using a rolling average.\n"
   ]
  },
  {
   "cell_type": "code",
   "execution_count": null,
   "id": "0e427eaa",
   "metadata": {},
   "outputs": [],
   "source": [
    "\n",
    "# Plotting the raw and smoothed data for the first-order decay\n",
    "plt.figure(figsize=(8, 6))\n",
    "plt.scatter(second_order_data['Time'].to_numpy(), second_order_data['Interpolated'].to_numpy(), label='Raw Data', alpha=0.7)\n",
    "plt.plot(second_order_data['Time'].to_numpy(), second_order_data['Smoothed'].to_numpy(), label='Rolling Average', linewidth=2, color='red')\n",
    "plt.xlabel('Time (s)')\n",
    "plt.ylabel('Concentration (mol/L)')\n",
    "plt.title('First Order Decay with Rolling Average')\n",
    "plt.legend()\n",
    "plt.show()\n",
    "\n",
    "\n"
   ]
  },
  {
   "cell_type": "markdown",
   "id": "1ead925e",
   "metadata": {},
   "source": [
    "# 4. Working with larger datasets\n",
    "\n",
    "The example below uses the `colour.csv` dataset provided.\n",
    "\n",
    "This contains a collection of time series (i.e. kinetics data) based on measuring different characteristics of colour recorded during a chemical reaction."
   ]
  },
  {
   "cell_type": "code",
   "execution_count": null,
   "id": "e75286fc",
   "metadata": {},
   "outputs": [],
   "source": [
    "#colour_data.interpolate(method='linear', inplace=True)\n",
    "\n",
    "# Example of adding a derived column in the colour data\n",
    "colour_data['Red_to_Blue_Ratio'] = colour_data['red'] / (colour_data['blue'] + 1e-5)  # Avoid division by zero\n",
    "\n",
    "\n",
    "print(\"\\nColour Data with Red to Blue Ratio:\")\n",
    "display(colour_data.head())\n",
    "\n",
    "# Plotting the Red to Blue ratio from the colour data\n",
    "plt.figure(figsize=(8, 6))\n",
    "plt.scatter(colour_data['Time'].to_numpy(), colour_data['Red_to_Blue_Ratio'].to_numpy(), label='Red to Blue Ratio', color='purple')\n",
    "plt.xlabel('Time (s)')\n",
    "plt.ylabel('Red to Blue Ratio')\n",
    "plt.title('Red to Blue Ratio Over Time')\n",
    "plt.legend()\n",
    "plt.show()\n"
   ]
  },
  {
   "cell_type": "markdown",
   "id": "a4809378",
   "metadata": {},
   "source": [
    "\n",
    "# 5. Saving Processed Data to CSV Files\n",
    "\n",
    "After processing and analyzing data, it is often useful to **export the results** to a new CSV file for further analysis or sharing with collaborators.\n"
   ]
  },
  {
   "cell_type": "code",
   "execution_count": null,
   "id": "974d654e",
   "metadata": {},
   "outputs": [],
   "source": [
    "\n",
    "# Write the processed data to new CSV files\n",
    "second_order_data.to_csv('Processed_Second_Order_Data.csv', index=False)\n",
    "colour_data.to_csv('Processed_Colour_Data.csv', index=False)\n",
    "\n",
    "print(\"Processed data files have been saved as:\")\n",
    "print(\"- Processed_First_Order_Data.csv\")\n",
    "print(\"- Processed_Second_Order_Data.csv\")\n",
    "print(\"- Processed_Colour_Data.csv\")\n"
   ]
  },
  {
   "cell_type": "markdown",
   "id": "817cd51f",
   "metadata": {},
   "source": [
    "\n",
    "## Conclusion\n",
    "\n",
    "In this notebook, we have:\n",
    "- **Loaded data** from CSV files into **pandas** DataFrames.\n",
    "- **Processed the data**, including interpolation of missing values and calculation of rolling averages.\n",
    "- **Visualized the data** using **matplotlib**, enhancing our understanding of trends and patterns.\n",
    "- **Saved the processed data** back to new CSV files for future use.\n",
    "\n",
    "These skills are fundamental for working with **experimental data** in **chemistry research**, enabling better data management, analysis, and presentation.\n"
   ]
  },
  {
   "cell_type": "markdown",
   "id": "c319c483",
   "metadata": {},
   "source": [
    "# Play with the Program\n",
    "\n",
    "You have also been provided with a third data set, `First_Order_Decay.csv` which has not featured in the example workflow above.\n",
    "\n",
    "Replace `Second_Order_Decay.csv` with `First_Order_Decay.csv` for the relevant code blocks above, and get a feeling for what's different about the two datasets.\n",
    "\n",
    "Can you combine what you learn here with what you learned in earlier exercises (e.g. 32 - 34)?"
   ]
  },
  {
   "cell_type": "code",
   "execution_count": null,
   "id": "25cb9260",
   "metadata": {},
   "outputs": [],
   "source": []
  }
 ],
 "metadata": {
  "kernelspec": {
   "display_name": "Python 3",
   "language": "python",
   "name": "python3"
  },
  "language_info": {
   "codemirror_mode": {
    "name": "ipython",
    "version": 3
   },
   "file_extension": ".py",
   "mimetype": "text/x-python",
   "name": "python",
   "nbconvert_exporter": "python",
   "pygments_lexer": "ipython3",
   "version": "3.8.8"
  }
 },
 "nbformat": 4,
 "nbformat_minor": 5
}
