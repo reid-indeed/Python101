{
 "cells": [
  {
   "cell_type": "markdown",
   "metadata": {},
   "source": [
    "# Exercise 28 - `if` and `else`\n",
    "\n",
    "When we make choices, it's rarely just about one scenario; A or B.\n",
    "\n",
    "If this happens, then we do that...but what if **this** doesn't happen? Then what?\n",
    "\n",
    "We need an `else`! \n",
    "\n",
    "We need to allow for **other scenarios** to play out to truly create forks in the road. Not just A or B, but A or B or C or D, and so on.\n",
    "\n",
    "In the code blocks below, you will learn to apply `if` alongside its two partner terms: `else` and `elif` (meaning else if).\n",
    "\n",
    "**NOTE - the code below introduces the new keywords `else` and `elif`...but it will not run right away. There are some bugs in this code that you will need to fix. Treat this part as an exercise in reinforcing what you know about the syntax of using the `if` statement.**"
   ]
  },
  {
   "cell_type": "code",
   "execution_count": null,
   "metadata": {},
   "outputs": [],
   "source": [
    "people = 30\n",
    "cars = 40\n",
    "trucks == 15\n",
    "\n",
    "if cars > people:\n",
    "    print(\"We should take the cars.\")\n",
    "\n",
    "elif cars < people\n",
    "    print(\"We should not take the cars.\")\n",
    "    \n",
    "else:\n",
    "    print(\"We can't decide.\"\n",
    "\n",
    "if trucks > cars:\n",
    "    print(\"That's too many trucks.\")\n",
    "    \n",
    "elif trucks < cars:\n",
    "    print(\"Maybe we could take the trucks.\")\n",
    "    \n",
    "else:\n",
    "    print(\"We still can't decide.\")\n",
    "\n",
    "if people > trucks:\n",
    "    print(\"Alright, let's just take the trucks.\")\n",
    "    \n",
    "else:\n",
    "    print(\"Fine, let's stay home then.)\n",
    "\n"
   ]
  },
  {
   "cell_type": "markdown",
   "metadata": {},
   "source": [
    "### A chemistry-focused example"
   ]
  },
  {
   "cell_type": "code",
   "execution_count": null,
   "metadata": {},
   "outputs": [],
   "source": [
    "# Chemical properties\n",
    "is_hcl_acid = True\n",
    "is_hcl_strong_base = False\n",
    "\n",
    "is_naoh_acid = False\n",
    "is_naoh_strong_base = True\n",
    "\n",
    "is_water_acid = False\n",
    "is_water_strong_base = False"
   ]
  },
  {
   "cell_type": "code",
   "execution_count": null,
   "metadata": {},
   "outputs": [],
   "source": [
    "# Mixing Hydrochloric Acid and Sodium Hydroxide\n",
    "if is_hcl_acid and is_naoh_strong_base:\n",
    "    \n",
    "    print(\"Warning: Mixing Hydrochloric Acid with Sodium Hydroxide is dangerous!\")\n",
    "    \n",
    "else:\n",
    "    \n",
    "    print(\"It is safe to mix Hydrochloric Acid with Sodium Hydroxide.\")\n"
   ]
  },
  {
   "cell_type": "code",
   "execution_count": null,
   "metadata": {},
   "outputs": [],
   "source": [
    "# Mixing Hydrochloric Acid and Water\n",
    "if is_hcl_acid and is_water_strong_base:\n",
    "    \n",
    "    print(\"Warning: Mixing Hydrochloric Acid with Water is dangerous!\")\n",
    "    \n",
    "else:\n",
    "    \n",
    "    print(\"It is safe to mix Hydrochloric Acid with Water.\")\n"
   ]
  },
  {
   "cell_type": "markdown",
   "metadata": {},
   "source": [
    "For the last example below, replace the '###' in the `if` statement below so that it whether NaOH is a base AND whether water is an acid."
   ]
  },
  {
   "cell_type": "code",
   "execution_count": null,
   "metadata": {},
   "outputs": [],
   "source": [
    "# Mixing Sodium Hydroxide and Water\n",
    "if '###' and '###':\n",
    "    \n",
    "    print(\"Warning: Mixing Sodium Hydroxide with Water is dangerous!\")\n",
    "    \n",
    "else:\n",
    "    \n",
    "    print(\"It is safe to mix Sodium Hydroxide with Water.\")\n",
    "\n"
   ]
  },
  {
   "cell_type": "markdown",
   "metadata": {},
   "source": [
    "### Exercise 28 - Play with the Program\n",
    "\n",
    "* Beyond the simple boolean statements above, try writing some code with compound boolean statements. This applies the logic you learned in the **Play with the Program (Logic)** section of **Exercise 25**. \n",
    "\n",
    "\n",
    "* Replace the `###` with your chosen logic statements.\n",
    "\n",
    "*Hint - your logic statements will include at least one of `==`, `>`, `<`, `<=`, or `>=`. Both Exercises 25 and 26 have lots of examples to choose from.*"
   ]
  },
  {
   "cell_type": "code",
   "execution_count": null,
   "metadata": {},
   "outputs": [],
   "source": [
    "if ### and ###:\n",
    "    print(\"It's True!!!\")"
   ]
  },
  {
   "cell_type": "markdown",
   "metadata": {},
   "source": [
    "**Great job on finishing Exercise 28!**\n",
    "\n",
    "**Exercise 29 will help you make even more complex use of `if`, `else`, and `elif`.**"
   ]
  }
 ],
 "metadata": {
  "kernelspec": {
   "display_name": "Python 3",
   "language": "python",
   "name": "python3"
  },
  "language_info": {
   "codemirror_mode": {
    "name": "ipython",
    "version": 3
   },
   "file_extension": ".py",
   "mimetype": "text/x-python",
   "name": "python",
   "nbconvert_exporter": "python",
   "pygments_lexer": "ipython3",
   "version": "3.8.8"
  }
 },
 "nbformat": 4,
 "nbformat_minor": 2
}
