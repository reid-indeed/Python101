{
 "cells": [
  {
   "cell_type": "markdown",
   "metadata": {},
   "source": [
    "# Exercise 24 - More Practice, More Pesky Bugs!\n",
    "\n",
    "All your exercises, 1 - 21, encouraged you to ***Play with the Program***, to make some code, break some code, and clear out some bugs. All to improve your skill and understanding of Python.\n",
    "\n",
    "As another means of reflectiving on what you have learned, the following code blocks **all possess bugs**.\n",
    "\n",
    "Find them, extinguish them, run the code, and banish the error messages.\n",
    "\n",
    "**NOTE** - not all bugs cause the code to fail or to print out error messages. Some bugs are sneaky. The code will run as if nothing is wrong, but the output will not be what is expected. This is where being able to read code and comments comes into a skillset all on its own."
   ]
  },
  {
   "cell_type": "code",
   "execution_count": null,
   "metadata": {},
   "outputs": [],
   "source": [
    "print \"Hello, World! It's me again.\""
   ]
  },
  {
   "cell_type": "code",
   "execution_count": null,
   "metadata": {},
   "outputs": [],
   "source": [
    "# Multiply 7 and 5\n",
    "7 x 5"
   ]
  },
  {
   "cell_type": "code",
   "execution_count": null,
   "metadata": {},
   "outputs": [],
   "source": [
    "mass = 10.0\n",
    "\n",
    "print(\"Mass = \", mass"
   ]
  },
  {
   "cell_type": "code",
   "execution_count": null,
   "metadata": {},
   "outputs": [],
   "source": [
    "x =  100\n",
    "\n",
    "print(\"The x variable is holding the value: {x}\")"
   ]
  },
  {
   "cell_type": "code",
   "execution_count": null,
   "metadata": {},
   "outputs": [],
   "source": [
    "print(\"Something about the way this string is written is not quite right...')"
   ]
  },
  {
   "cell_type": "code",
   "execution_count": null,
   "metadata": {},
   "outputs": [],
   "source": [
    "print(\"This line should have a blank line to space it from the next line of text... /n\")\n",
    "\n",
    "print(\"But it doesn't yet. What about the code syntax in this block needs to be fixed?\")"
   ]
  },
  {
   "cell_type": "code",
   "execution_count": null,
   "metadata": {},
   "outputs": [],
   "source": [
    "raw_input(\"Enter the number 10 here --> \")"
   ]
  },
  {
   "cell_type": "markdown",
   "metadata": {},
   "source": [
    "The following code blocks (all containing buggy code) refer to a sample text file called `ex-24_sample.txt`. The file sits in the same folder as this Jupyter notebook. Here's a screenshot of what it contains:"
   ]
  },
  {
   "cell_type": "markdown",
   "metadata": {},
   "source": [
    "<img src=\"ex-24_sample-text.PNG\">"
   ]
  },
  {
   "cell_type": "markdown",
   "metadata": {},
   "source": [
    "Hit `Shift+Enter` on the code block below."
   ]
  },
  {
   "cell_type": "code",
   "execution_count": null,
   "metadata": {},
   "outputs": [],
   "source": [
    "sample_file = open(\"ex-24_sample.txt\")\n",
    "\n",
    "all_text = sample_file.read()\n",
    "\n",
    "print(all_text)"
   ]
  },
  {
   "cell_type": "markdown",
   "metadata": {},
   "source": [
    "OK, here come the bug-filled code blocks. Happy debugging!"
   ]
  },
  {
   "cell_type": "code",
   "execution_count": null,
   "metadata": {},
   "outputs": [],
   "source": [
    "sample_file = open(\"ex-24_sample.xt\", 'r')"
   ]
  },
  {
   "cell_type": "code",
   "execution_count": null,
   "metadata": {},
   "outputs": [],
   "source": [
    "sample_file = open(\"ex-24_sample.txt\", 'r')\n",
    "\n",
    "sample_file.readline("
   ]
  },
  {
   "cell_type": "code",
   "execution_count": null,
   "metadata": {},
   "outputs": [],
   "source": [
    "print(\"\"\"\n",
    "\n",
    "The following code attempts to open a file, as introduced\n",
    "by this very long print statement, formatted in a particular\n",
    "way...\n",
    "\"\"\"\n",
    "     )\n",
    "\n",
    "text_file = open(\"ex-24_sample.txt\",'a')\n",
    "\n",
    "text_file.write(\"\\n A brand new line for an existing file filled with text!\")"
   ]
  },
  {
   "cell_type": "code",
   "execution_count": null,
   "metadata": {},
   "outputs": [],
   "source": [
    "# This function, print_none, takes no arguments\n",
    "def print_none()\n",
    "    print(\"There is nothing to show.\")\n",
    "\n",
    "#call the function\n",
    "print_none()    "
   ]
  },
  {
   "cell_type": "code",
   "execution_count": null,
   "metadata": {},
   "outputs": [],
   "source": [
    "def celsius_to_kelvin(celsius):\n",
    "    \n",
    "    kelvin = celsius + 273.15\n",
    "    \n",
    "    return kelvin\n",
    "\n",
    "temp = celsius_to_kelvin(25)\n",
    "\n",
    "print(f\"Temperature in Kelvin is: {temp})"
   ]
  },
  {
   "cell_type": "markdown",
   "metadata": {},
   "source": [
    "### Exercise 24 - Keep Playing\n",
    "\n",
    "Keep finding excuses to revise, rework, and redo all the elements of Python programming you have done so well to pick up so far. This whole exercise has been like any other **Play with the Program** section, so there's no more here!\n",
    "\n",
    "In **Exercise 25**, we get back to learning new Python concepts. See you there!"
   ]
  }
 ],
 "metadata": {
  "kernelspec": {
   "display_name": "Python 3",
   "language": "python",
   "name": "python3"
  },
  "language_info": {
   "codemirror_mode": {
    "name": "ipython",
    "version": 3
   },
   "file_extension": ".py",
   "mimetype": "text/x-python",
   "name": "python",
   "nbconvert_exporter": "python",
   "pygments_lexer": "ipython3",
   "version": "3.7.6"
  }
 },
 "nbformat": 4,
 "nbformat_minor": 2
}
