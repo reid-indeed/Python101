{
 "cells": [
  {
   "cell_type": "markdown",
   "metadata": {},
   "source": [
    "# Exercise 18 - Defining Functions in Python\n",
    "\n",
    "Every piece of code you have written in this course has shared one major point in common:\n",
    "\n",
    "All the code is written linearly, and is executed from the first line, in order, all the way to the very last line of code.\n",
    "\n",
    "That changes here.\n",
    "\n",
    "Now, you learn about **writing your own functions** in Python. Before we go there, let's look at some familiar code through a new lense. Hit `Shift+Enter` on the code block below."
   ]
  },
  {
   "cell_type": "code",
   "execution_count": 1,
   "metadata": {},
   "outputs": [
    {
     "name": "stdout",
     "output_type": "stream",
     "text": [
      "Hello world!\n"
     ]
    }
   ],
   "source": [
    "print(\"Hello world!\")"
   ]
  },
  {
   "cell_type": "markdown",
   "metadata": {},
   "source": [
    "In the beginning, we never stopped to pick this code apart. We were too busy with the excitement of writing our very first program.\n",
    "\n",
    "Now, we will pay a little more attention to how the above line of code is constructed.\n",
    "\n",
    "* The name of the function is `print`\n",
    "\n",
    "* We signal its execution (we click 'go!') by the use of brackets `()`.\n",
    "\n",
    "* The `print()` function, like many others, accepts **arguments** - extra stuff inside the brackets that gets fed into the function to tune what it does.\n",
    "\n",
    "* The `print` function also works *without* any extra arguments. However, we still needs the `()` to signal that we want to *call* the function and run it."
   ]
  },
  {
   "cell_type": "markdown",
   "metadata": {},
   "source": [
    "Hit `Shift+Enter` on the following code blocks."
   ]
  },
  {
   "cell_type": "code",
   "execution_count": 3,
   "metadata": {},
   "outputs": [
    {
     "name": "stdout",
     "output_type": "stream",
     "text": [
      "TEST\n"
     ]
    }
   ],
   "source": [
    "# This print command has no input arguments between the brackets. It prints a blank line.\n",
    "print(\"TEST\")"
   ]
  },
  {
   "cell_type": "code",
   "execution_count": 4,
   "metadata": {},
   "outputs": [
    {
     "name": "stdout",
     "output_type": "stream",
     "text": [
      "This line of text is separated from another line of text by two blank lines, each blank line printed by a different technique.\n",
      "\n",
      "\n",
      "\n",
      "Here's the second line of text!\n"
     ]
    }
   ],
   "source": [
    "print(\"This line of text is separated from another line of text by two blank lines, each blank line printed by a different technique.\")\n",
    "\n",
    "print(\"\\n\")\n",
    "\n",
    "print()\n",
    "\n",
    "print(\"Here's the second line of text!\")"
   ]
  },
  {
   "cell_type": "markdown",
   "metadata": {},
   "source": [
    "Whilst you use `print` as a punchy, single line of code, there is much more under the hood.\n",
    "\n",
    "The `print()` function is **defined** by a bunch of code that we don't see. It's hidden in the Python background.\n",
    "\n",
    "Whilst we won't be coding `print()` from scratch, you *will* **learn how to write a function** and call it into action in your program.\n",
    "\n",
    "Hit `Shift+Enter` on teh code block below."
   ]
  },
  {
   "cell_type": "code",
   "execution_count": 9,
   "metadata": {},
   "outputs": [
    {
     "name": "stdout",
     "output_type": "stream",
     "text": [
      "First argument in print_two function definition is: Jane\n",
      "Second argument in print_two function definition is: Bloggs\n",
      "\n",
      "\n",
      "This function takes just one argument, x, in this example defined by you as:  Testing the print_one function!\n",
      "\n",
      "\n",
      "I got nothing.\n"
     ]
    }
   ],
   "source": [
    "# This function is called print_two and takes two arguments\n",
    "def print_two(a,b):\n",
    "    print(f\"First argument in print_two function definition is: {a}\")\n",
    "    print(f\"Second argument in print_two function definition is: {b}\")\n",
    "    print(\"\\n\")\n",
    "\n",
    "\n",
    "# This next function is called print_one and takes just one argument\n",
    "def print_one(x):\n",
    "    print(\"This function takes just one argument, x, in this example defined by you as: \", x)\n",
    "    print(\"\\n\")\n",
    "\n",
    "\n",
    "# This function, print_none, takes no arguments\n",
    "def print_none():\n",
    "    print(\"I got nothing.\")\n",
    "\n",
    "# Call the functions\n",
    "print_two(\"Jane\",\"Bloggs\")\n",
    "print_one(\"Testing the print_one function!\")\n",
    "print_none()"
   ]
  },
  {
   "cell_type": "markdown",
   "metadata": {},
   "source": [
    "Whilst some comments are provided in the code block above, **do not worry if this doesn't make any sense yet**! Here are some things to note right away:\n",
    "\n",
    "* We use `def` to **define** a function.\n",
    "* The name of the funciton (whatever you like) follows the `def` keyword.\n",
    "* Brackets follow the function name.\n",
    "* If your function needs some input to work properly, these can be included as **arguments** inside the brackets.\n",
    "* All opening lines of a function definition (i.e. the line that has `def` on it) ends with a colon `:`.\n",
    "* Everything inside a function is **indented** in order to signify what is in the function defintion and what is not."
   ]
  },
  {
   "cell_type": "markdown",
   "metadata": {},
   "source": [
    "### Why bother with functions?\n",
    "\n",
    "Throughout this introductory course, you have been asked to fix some bugs in your code.\n",
    "\n",
    "The odd typo here, the missing bracket there...once you get to grips with the language, bugs are relatively easy to spot in code that's less than, say, 20 lines long.\n",
    "\n",
    "Manually scanning for code bugs *will not* work when you get to more complex scientific code that can be thousands, or even *millions* of lines long!\n",
    "\n",
    "Functions enable you to create little 'bubbles' of self-contained code. You can pass stuff in and get new stuff out.\n",
    "\n",
    "The useful thing is that, if your program has a bug, functions make it much easier to track the bug and fix it!"
   ]
  },
  {
   "cell_type": "markdown",
   "metadata": {},
   "source": [
    "### The world's first ever computer code bug!\n",
    "\n",
    "It's easy to use the term 'bug' as it relates to computer code without ever questioning *why* such code errors are called bugs. There is a reason!\n",
    "\n",
    "In 1947, a computer at Harvard University malfunctioned because a moth (a real life bug) got stuck inside."
   ]
  },
  {
   "cell_type": "markdown",
   "metadata": {},
   "source": [
    "<img src='first-bug.jpg'>\n",
    "\n",
    "*Photograph credit: NAVAL SURFACE WARFARE CENTER, DAHLGREN, VIRGINIA*\n",
    "\n",
    "Now back to learning about functions. Here's the same exemplar code as shown earlier in this exercise. Two questions:\n",
    "\n"
   ]
  },
  {
   "cell_type": "markdown",
   "metadata": {},
   "source": [
    "1. What lines are missing in the following code compared to the code shown earlier in the exercise? Write your answer as a comment line in the empty code block below.\n",
    "\n",
    "2. What effect do these missing lines have on the output compared to the otherwise identical code block above? Hit `Shift+Enter` on the block below..."
   ]
  },
  {
   "cell_type": "code",
   "execution_count": 11,
   "metadata": {},
   "outputs": [
    {
     "name": "stdout",
     "output_type": "stream",
     "text": [
      "First argument in print_two function definition is: Jane\n",
      "Second argument in print_two function definition is: Bloggs\n",
      "\n",
      "\n",
      "This function takes just one argument, x, in this example defined by you as:  Testing the print_one function!\n",
      "\n",
      "\n",
      "I got nothin.\n"
     ]
    }
   ],
   "source": [
    "# This function is called print_two and takes two arguments\n",
    "def print_two(a,b):\n",
    "    print(f\"First argument in print_two function definition is: {a}\")\n",
    "    print(f\"Second argument in print_two function definition is: {b}\")\n",
    "    print(\"\\n\")\n",
    "\n",
    "\n",
    "# This next function is called print_one and takes just one argument\n",
    "def print_one(x):\n",
    "    print(\"This function takes just one argument, x, in this example defined by you as: \", x)\n",
    "    print(\"\\n\")\n",
    "\n",
    "\n",
    "# This function, print_none, takes no arguments\n",
    "def print_none():\n",
    "    print(\"I got nothin.\")\n",
    "    \n",
    "print_two(\"Jane\",\"Bloggs\")\n",
    "print_one(\"Testing the print_one function!\")\n",
    "print_none()"
   ]
  },
  {
   "cell_type": "code",
   "execution_count": null,
   "metadata": {},
   "outputs": [],
   "source": [
    "#Comment on your observations for question 1 here."
   ]
  },
  {
   "cell_type": "markdown",
   "metadata": {},
   "source": [
    "Spolier alert - a whole lot of nothing! There is nothing printed when you run this code block.\n",
    "\n",
    "But we still have `print` statements in this code...so why is nothing printing from this code block?\n",
    "\n",
    "Hmmm...\n"
   ]
  },
  {
   "cell_type": "markdown",
   "metadata": {},
   "source": [
    "Here is the most important new point to learn about functions, as demonstrated by the lack of any output from the last code block:\n",
    "\n",
    "The functions have been **defined**...but **not called**!\n",
    "\n",
    "Look again at the lines that were removed from the second version of the code above."
   ]
  },
  {
   "cell_type": "markdown",
   "metadata": {},
   "source": [
    "### Time to call your functions\n",
    "Here is the exact same code again.\n",
    "\n",
    "1. The following version of the same code has a few bugs (no actual moths, thankfully). Find the bugs, and fix them so the code will run without any error messages.\n",
    "<br>\n",
    "<br>\n",
    "2. Define a third function in the code block below. Write this function below the `#` comment line that describes what the new function is supposed to do. \\**Hint - earlier code blocks show you some code that could be reused here*.\n",
    "<br>\n",
    "<br>\n",
    "3. Next to the final `#`, call the new function you added from question 2.\n",
    "\n",
    "As you work through these three questions, you can run and re-run the code with `Shift+Enter` as many times as you need to in order to fix the bugs and add new code.\n",
    "\n",
    "Hit `Shift+Enter` one last time when you're done to show that your final code works."
   ]
  },
  {
   "cell_type": "code",
   "execution_count": 18,
   "metadata": {},
   "outputs": [
    {
     "name": "stdout",
     "output_type": "stream",
     "text": [
      "This function takes just one argument, x, in this example defined by you as:  TEST TEXT TO FIX THE BUG IN MY CODE.\n",
      "\n",
      "\n"
     ]
    },
    {
     "ename": "NameError",
     "evalue": "name 'print_no' is not defined",
     "output_type": "error",
     "traceback": [
      "\u001b[1;31m---------------------------------------------------------------------------\u001b[0m",
      "\u001b[1;31mNameError\u001b[0m                                 Traceback (most recent call last)",
      "\u001b[1;32m<ipython-input-18-a8ab95a2277e>\u001b[0m in \u001b[0;36m<module>\u001b[1;34m\u001b[0m\n\u001b[0;32m     18\u001b[0m \u001b[1;33m\u001b[0m\u001b[0m\n\u001b[0;32m     19\u001b[0m \u001b[1;31m# Call your new function\u001b[0m\u001b[1;33m\u001b[0m\u001b[1;33m\u001b[0m\u001b[1;33m\u001b[0m\u001b[0m\n\u001b[1;32m---> 20\u001b[1;33m \u001b[0mprint_no\u001b[0m\u001b[1;33m(\u001b[0m\u001b[1;33m)\u001b[0m\u001b[1;33m\u001b[0m\u001b[1;33m\u001b[0m\u001b[0m\n\u001b[0m",
      "\u001b[1;31mNameError\u001b[0m: name 'print_no' is not defined"
     ]
    }
   ],
   "source": [
    "# This function is called print_two and takes two arguments\n",
    "def print_two(a,b):\n",
    "    print(f\"First argument in print_two function definition is: {a}\")\n",
    "    print(f\"Second argument in print_two function definition is: {b}\")\n",
    "    print(\"\\n\")\n",
    "\n",
    "# This next function is called print_one and takes just one argument. The easiest way to call this function is with a string inside the brackets.\n",
    "def print_one(x):\n",
    "    print(\"This function takes just one argument, x, in this example defined by you as: \", x)\n",
    "    print(\"\\n\")\n",
    "\n",
    "# Define a new function below that takes no arguments and prints one line of text...much like the function directly above!\n",
    "def print_non():\n",
    "    print(\"Here is some test text for my first function definition!\")\n",
    "    \n",
    "# Call print_one\n",
    "print_one(\"TEST TEXT TO FIX THE BUG IN MY CODE.\")\n",
    "\n",
    "# Call your new function\n",
    "print_no()"
   ]
  },
  {
   "cell_type": "markdown",
   "metadata": {},
   "source": [
    "### Exercise 18 - Play with the Program\n",
    "\n",
    "Learning `def` for defining functions has been another significant step forward. Congratulations!\n",
    "\n",
    "Here is a helpful list of things to check off when you are making more functions:\n",
    "\n",
    "1. Did you start your function definition with `def`?\n",
    "\n",
    "2. Did you put an open parenthesis `(` right after the function name?\n",
    "\n",
    "3. Did you put your arguments after the parenthesis `(` separated by commas `,`?\n",
    "\n",
    "4. Did you make each argument unique (meaning no duplicated names)?\n",
    "\n",
    "5. Did you put a close parenthesis and a colon `):` after the arguments?\n",
    "\n",
    "6. Did you indent all lines of code you want in the function by the same amount (typically 4 spaces)? No more, no less?\n",
    "\n",
    "7. Did you “end” your function by going back to writing with no indent?\n",
    "\n",
    "8. Have you called (in other words 'ran' or 'used') your function, or have you just defined it?\n",
    "\n",
    "**Extra Credit**\\\n",
    "If you are feeling extra ambitious, search online for the meanings of `*args` and `**kwargs` as they would appear in a function definition.\n",
    "\n",
    "For example: `my_function(*args)` or `my_other_function(*args, **kwargs)`."
   ]
  },
  {
   "cell_type": "markdown",
   "metadata": {},
   "source": [
    "**Exercise 18 was another big step forward. Take your time. Defining and using functions is quite different to simply running one line of code after the other, the way all earlier exercises were written.**\n",
    "\n",
    "**When you're ready, we will sharpen your `def` skills in the next exercise.**\n",
    "\n",
    "**Well done on completing Exercise 18!**"
   ]
  }
 ],
 "metadata": {
  "kernelspec": {
   "display_name": "Python 3",
   "language": "python",
   "name": "python3"
  },
  "language_info": {
   "codemirror_mode": {
    "name": "ipython",
    "version": 3
   },
   "file_extension": ".py",
   "mimetype": "text/x-python",
   "name": "python",
   "nbconvert_exporter": "python",
   "pygments_lexer": "ipython3",
   "version": "3.8.8"
  }
 },
 "nbformat": 4,
 "nbformat_minor": 2
}
