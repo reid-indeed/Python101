{
 "cells": [
  {
   "cell_type": "markdown",
   "metadata": {},
   "source": [
    "# Exercise 5 - Assigning Objects to Variables\n",
    "\n",
    "**Variables** are an essential part of your Python toolkit.\n",
    "\n",
    "A Python object (such as a `string`, a `float`, an `int`, or a `bool`) can be **assigned to** (or stored in) a **variable**.\n",
    "\n",
    "The variable can be thought of as a useful placeholder for an object.\n",
    "\n",
    "Let's assign some objects to variables. Read and hit `Shift+Enter` on the code blocks below.\n",
    "\n",
    "Next to each `#` add your own comment to describe what you think is going on. One comment has been completed for you."
   ]
  },
  {
   "cell_type": "code",
   "execution_count": null,
   "metadata": {},
   "outputs": [],
   "source": [
    "# Add comments to describe the type of object assigned to each variable below.\n",
    "\n",
    "mol_weight = 105    # \n",
    "mass_total = 21.1    #  \n",
    "mass_empty_flask = 20.4    #  \n",
    "mass_after_transfer = 20.45    #  \n"
   ]
  },
  {
   "cell_type": "markdown",
   "metadata": {},
   "source": [
    "Once you assign objects to variables, you can use the variables to represent those objects in more complex operations.\n",
    "\n",
    "Hit `Shift+Enter` on the code block below to define some more variables based on those defined in the block above."
   ]
  },
  {
   "cell_type": "code",
   "execution_count": null,
   "metadata": {},
   "outputs": [],
   "source": [
    "#Use the variables defined above to do some calculations.\n",
    "\n",
    "mass_transferred = round(mass_total - mass_after_transfer,5)\n",
    "mass_left_behind = round(mass_after_transfer - mass_empty_flask,5)\n",
    "num_moles = round(mass_transferred / mol_weight,5)"
   ]
  },
  {
   "cell_type": "markdown",
   "metadata": {},
   "source": [
    "The calculations above have been run, but we have written no code prompting the results to be displayed. \\\n",
    "We can combine the variable assignments and calculations from the two code blocks above with `print` statements. \\\n",
    "This helps us follow otherwise hidden code operations.\n",
    "\n",
    "There is a single typo in the code block below. Find it, fix it, then hit `Shift+Enter` to run the code.\n",
    "\n",
    "**NOTE** - If you run the code and see an error, don't worry! You can fix the typo (known in coding terms as a 'bug') and then run the code block again."
   ]
  },
  {
   "cell_type": "code",
   "execution_count": null,
   "metadata": {},
   "outputs": [],
   "source": [
    "#Combine print statements with assigned variables.\n",
    "print(\"Mass transferred to reaction vessel = \", mass_transferred, \" g\")\n",
    "print(\"Mass left behind in weigh boat = \", mass_left_behind, \" g\")\n",
    "print(\"Number of millimoles used in reaction = \", num_moles*1000, \" mmol\""
   ]
  },
  {
   "cell_type": "markdown",
   "metadata": {},
   "source": [
    "**ONE MORE THING BEFORE MOVING ON**\n",
    "\n",
    "Now that you've ran all this code, go back and add comment lines that express your understanding of what the `round` function is doing."
   ]
  },
  {
   "cell_type": "markdown",
   "metadata": {},
   "source": [
    "### Exercise 5 - Play with the Program\n",
    "\n",
    "Assigning objects to variables introduces us to a subtle but crucial operator, the equals sign `=`. Much like the arithmetic operators from **Exercise 3**, the `=` sign can create a new operator when duplicated, i.e. `==`. We will revist the `==` in a later exercise.\n",
    "\n",
    "#### Question 1\n",
    "What happens if you replace the `=` operator with a 'double equals' `==` ?\n",
    "\n",
    "Try it out in the code block below, deleting the `#` to activate the code. What happens when you replace `=` with `==`"
   ]
  },
  {
   "cell_type": "code",
   "execution_count": null,
   "metadata": {},
   "outputs": [],
   "source": [
    "# buses_driven = 2"
   ]
  },
  {
   "cell_type": "code",
   "execution_count": null,
   "metadata": {},
   "outputs": [],
   "source": [
    "# Replace this text with a note on what you observed by changing = to == in the above block."
   ]
  },
  {
   "cell_type": "markdown",
   "metadata": {},
   "source": [
    "#### Question 2"
   ]
  },
  {
   "cell_type": "markdown",
   "metadata": {},
   "source": [
    "What happens if you take an already-assigned variable (that already holds a value and particular object type) and assign it again?\n",
    "\n",
    "Explore what happens when you redefine a previously assigned variable with the `cars` variable."
   ]
  },
  {
   "cell_type": "code",
   "execution_count": null,
   "metadata": {},
   "outputs": [],
   "source": [
    "cars = 5    \n",
    "\n",
    "print(\"The new value assigned to the cars variable is: \", cars)\n",
    "\n",
    "cars = 1300\n",
    "\n",
    "print(\"The new value assigned to the cars variable is: \", cars)\n",
    "\n",
    "cars = drivers\n",
    "\n",
    "print(\"The new value assigned to the cars variable is: \", cars)\n"
   ]
  },
  {
   "cell_type": "markdown",
   "metadata": {},
   "source": [
    "What is happening to the `cars` variable here? We will be playing with variables much more in the exercises to come.\n",
    "For now, write your observation as a comment line in the code block below.\n"
   ]
  },
  {
   "cell_type": "code",
   "execution_count": null,
   "metadata": {},
   "outputs": [],
   "source": [
    "# "
   ]
  },
  {
   "cell_type": "markdown",
   "metadata": {},
   "source": [
    "\n",
    "**Exercise 5 complete. Well done!**\n",
    "**You are slowly ramping up the complexity of your code. You are now starting to combine some Python programming tools to automate calculations and report data in an understandble way. Let's keep going!**"
   ]
  }
 ],
 "metadata": {
  "kernelspec": {
   "display_name": "Python 3",
   "language": "python",
   "name": "python3"
  },
  "language_info": {
   "codemirror_mode": {
    "name": "ipython",
    "version": 3
   },
   "file_extension": ".py",
   "mimetype": "text/x-python",
   "name": "python",
   "nbconvert_exporter": "python",
   "pygments_lexer": "ipython3",
   "version": "3.8.8"
  }
 },
 "nbformat": 4,
 "nbformat_minor": 2
}
