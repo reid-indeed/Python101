{
 "cells": [
  {
   "cell_type": "markdown",
   "metadata": {},
   "source": [
    "# Exercise 20 - Functions and Files\n",
    "\n",
    "In **Exercise 19**, you learned how to define functions and their input arguments. You also got the first glimpse at the difference between variables defined inside a function (**local variables**) and variables defined outside a function, running in the main, unindented script (**global variables**).\n",
    "\n",
    "You will take the chance in **Exercise 20** to practice more with functions and variables.\n",
    "\n",
    "You will also learn to combine these skills with what you learned in **Exercises 14 and 15** about reading and writing files. Where **Exercise 19** passed *variables* into functions as an input argument between the brackets, **Exercise 20** looks at how to pass *files* into functions as input arguments.\n",
    "\n",
    "For this exercise, a sample text file called `ex-20_sample.txt` has been provided in the folder holding this Jupyter notebook. A Screenshot of what is in the file is shown below:"
   ]
  },
  {
   "cell_type": "markdown",
   "metadata": {},
   "source": [
    "<img src=\"ex-20_sample-text.PNG\">"
   ]
  },
  {
   "cell_type": "markdown",
   "metadata": {},
   "source": [
    "The code block below contains some function definitions, functions being called, global variables, and local variables.\n",
    "\n",
    "1. Find the bugs in the code syntax. Fix them. Make sure you can run the code with no error messages being displayed.\n",
    "<br>\n",
    "<br>\n",
    "2. Add comments next to every `#` to describe what's going on. Where are the function `def`initions? Where are the functions called? Which variables are **local (i.e. in a function)** and which variables are **global (i.e. outside a function)**?\n",
    "<br>\n",
    "<br>\n",
    "3. Understand and then research online what is being performed by the functions `.seek(0)` and `.readline()`. Add comment lines to the following code block to demonstrate that you have found a definition for these functions and put it in your own words."
   ]
  },
  {
   "cell_type": "code",
   "execution_count": null,
   "metadata": {},
   "outputs": [],
   "source": [
    "# Define a function called print_all that takes one input argument (our text file) and prints the contents of that file plus a blank line.\n",
    "def print_all(f):           \n",
    "    print(f.read(),\"\\n\")\n",
    "\n",
    "# \n",
    "def rewind(f):\n",
    "    f.seek(0)\n",
    "\n",
    "# \n",
    "def print_a_line(line_count, f) \n",
    "    print(line_count, f.readline())\n",
    "\n",
    "# \n",
    "current_file = open(\"ex-20_sample.txt\") \n",
    "\n",
    "# \n",
    "printFirst let's print the whole file using the print_all function defined at the top of this code block:\\n\")\n",
    "\n",
    "# Call the print_all function using the file stored in current_file as the input argument\n",
    "print_all(current_file)\n",
    "\n",
    "# Print another user update.\n",
    "print(\"Now let's rewind, kind of like a tape.\")\n",
    "\n",
    "# Call the rewind function, using the file stored in current_file as the input argument.\n",
    "rewind(current_file)\n",
    "\n",
    "# Print a user update\n",
    "print(\"Let's print three lines:\")\n",
    "\n",
    "# \n",
    "current_line == 1\n",
    "\n",
    "# call the print_a_line function, using the global variables current_line and current_file as the 2 input arguments.\n",
    "print_a_line(current_line, current_file)\n",
    "\n",
    "# \n",
    "current_line = current_line + 1\n",
    "\n",
    "# call the print_a_line function again.\n",
    "print_a_line(current_line,current_file)\n",
    "\n",
    "# Increment the value of current_line by 1.\n",
    "current_line = current_line + 1\n",
    "\n",
    "# call the print_a_line function again.\n",
    "print_a_line(current_line,current_file)\n"
   ]
  },
  {
   "cell_type": "markdown",
   "metadata": {},
   "source": [
    "### More on local versus global variables\n",
    "\n",
    "Here's a short example to help further clarify the difference between variables defined inside a function (**local variables**) and those defined outside a function (**global variables**)."
   ]
  },
  {
   "cell_type": "code",
   "execution_count": null,
   "metadata": {},
   "outputs": [],
   "source": [
    "#\n",
    "def multiplier(x,y):\n",
    "    \n",
    "    #\n",
    "    answer = x * y\n",
    "    \n",
    "    print(f\"The local variable 'answer' is holding the value: {answer}\")\n",
    "\n",
    "#\n",
    "multiplier(2,3)\n",
    "\n",
    "#\n",
    "answer = 12 * 12\n",
    "\n",
    "print(f\"The global variable 'answer' is holding the value: {answer}\")"
   ]
  },
  {
   "cell_type": "markdown",
   "metadata": {},
   "source": [
    "As always, go over the code above, and add comments to help with your understanding of what is going on.\n",
    "\n",
    "If you don't yet fully understand, and a comment line sayinh `# I don't understand this line yet`!\n",
    "\n",
    "The main point of the above code is to understand this:\n",
    "\n",
    "***The `answer` variable inside the functioned (indented lines) is not the same as the `answer` variable defined outside the function (non-indented) lines!***"
   ]
  },
  {
   "cell_type": "markdown",
   "metadata": {},
   "source": [
    "### Exercise 20 - Play with the Program\n",
    " \n",
    "Below is a version of earlier code block in this exercise that held the open file `ex-20_sample.txt` in the variable `current_file`.\n",
    "\n",
    "This time, there are **no function calls** added for you. \n",
    "\n",
    "Your task is to:\n",
    "\n",
    "1. Run the first code block below that defines the functions. Use `Shift+Enter` as you normally do.\n",
    "2. Use each subsequent code block to add the function call specified by the comment line. Replace each `###` with your code. Use `ex-20_sample.txt` as your input argument.\n",
    "3. Note what is happening after each function call. "
   ]
  },
  {
   "cell_type": "code",
   "execution_count": null,
   "metadata": {},
   "outputs": [],
   "source": [
    "def print_all(f):           \n",
    "    print(f.read(),\"\\n\")\n",
    "\n",
    "def rewind(f):\n",
    "    f.seek(0)\n",
    "    print(\"File now rewound. Next time the file is read, it will be start from Line 1.\")\n",
    "\n",
    "def print_a_line(line_count, f): \n",
    "    print(line_count, f.readline())\n",
    "\n",
    "current_file = open(\"ex-20_sample.txt\") "
   ]
  },
  {
   "cell_type": "markdown",
   "metadata": {},
   "source": [
    "#### Replace each `###` with code to match each comment line in each code block below"
   ]
  },
  {
   "cell_type": "code",
   "execution_count": null,
   "metadata": {},
   "outputs": [],
   "source": [
    "#Call the print_a_line function to print line 1\n",
    "###"
   ]
  },
  {
   "cell_type": "code",
   "execution_count": null,
   "metadata": {},
   "outputs": [],
   "source": [
    "#Call the print_a_line function again using the exact same input arguments as in the previous code block~\n",
    "###"
   ]
  },
  {
   "cell_type": "code",
   "execution_count": null,
   "metadata": {},
   "outputs": [],
   "source": [
    "#Call the print_a_line function one more time! Same input arguments again.\n",
    "###"
   ]
  },
  {
   "cell_type": "code",
   "execution_count": null,
   "metadata": {},
   "outputs": [],
   "source": [
    "#What happens if you call print_a_line a fourth time?\n",
    "###"
   ]
  },
  {
   "cell_type": "code",
   "execution_count": null,
   "metadata": {},
   "outputs": [],
   "source": [
    "#Call the rewind function\n",
    "###"
   ]
  },
  {
   "cell_type": "code",
   "execution_count": null,
   "metadata": {},
   "outputs": [],
   "source": [
    "#Call the print_all function\n",
    "###"
   ]
  },
  {
   "cell_type": "markdown",
   "metadata": {},
   "source": [
    "**Your perceverence is paying off. You have now completed a full 20 exercises in Python. Before this, you (presumably) knew little about coding. Look how far you have come now!**\n",
    "\n",
    "**When you are ready, Exercise 21 adds one final trick to the magic of functions...**"
   ]
  }
 ],
 "metadata": {
  "kernelspec": {
   "display_name": "Python 3",
   "language": "python",
   "name": "python3"
  },
  "language_info": {
   "codemirror_mode": {
    "name": "ipython",
    "version": 3
   },
   "file_extension": ".py",
   "mimetype": "text/x-python",
   "name": "python",
   "nbconvert_exporter": "python",
   "pygments_lexer": "ipython3",
   "version": "3.8.8"
  }
 },
 "nbformat": 4,
 "nbformat_minor": 2
}
