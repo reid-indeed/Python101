{
 "cells": [
  {
   "cell_type": "markdown",
   "metadata": {},
   "source": [
    "# Exercise 31 - Dictionaries\n",
    "\n",
    "The `list` data type is a great storage container in Python. Good...but limited.\n",
    "\n",
    "Sometimes, we want to be able to store multiple items in one place, like a `list`, but also enable us to create some **associations** inside the storage container. \n",
    "\n",
    "This is where the `dictionary` data type comes in.\n",
    "\n",
    "A `dictionary` in Python associates a **key** with a **value**. This is like a *real* dictionary where a **word** is associated with a **definition**.\n",
    "\n",
    "Hit `Shift+Enter` on the code block below to get started."
   ]
  },
  {
   "cell_type": "code",
   "execution_count": null,
   "metadata": {},
   "outputs": [],
   "source": [
    "# Define a function called periodictable that takes one input argument\n",
    "def periodictable(elementnumber):\n",
    "    \n",
    "    # Define a dictionary to store atomic numbers as keys, and element symbols as the associated values.\n",
    "    ptable={1:'H',2:'He',\\\n",
    "    3:'Li', 4:'Be',5:'B',6:'C',7:'N',8:'O',9:'F',10:'Ne',\\\n",
    "    11:'Na',12:'Mg',13:'Al',14:'Si',15:'P',16:'S',17:'Cl',18:'Ar',\\\n",
    "    19:'K',20:'Ca',\\\n",
    "    21:'Sc',22:'Ti',23:'V',24:'Cr',25:'Mn',26:'Fe',27:'Co',28:'Ni',29:'Cu',30:'Zn',\\\n",
    "    31:'Ga',32:'Ge',33:'As',34:'Se',35:'Br',36:'Kr',\\\n",
    "    37:'Rb',38:'Sr',\\\n",
    "    39:'Y',40:'Zr',41:'Nb',42:'Mo',43:'Tc',44:'Ru',45:'Rh',46:'Pd',47:'Ag',48:'Cd',\\\n",
    "    49:'In',50:'Sn',51:'Sb',52:'Te',53:'I',54:'Xe',\\\n",
    "    55:'Cs',56:'Ba',\\\n",
    "    57:'La',58:'Ce',59:'Pr',60:'Nd',61:'Pm',62:'Sm',63:'Eu',64:'Gd',65:'Tb',66:'Dy',67:'Ho',68:'Er',69:'Tm',70:'Yb',71:'Lu',\\\n",
    "    72:'Hf', 73:'Ta', 74:'W',75:'Re', 76:'Os', 77:'Ir',78:'Pt', 79:'Au', 80:'Hg',\\\n",
    "    81:'Tl', 82:'Pb', 83:'Bi',84:'Po',85:'At',86:'Rn',\\\n",
    "    87:'Fr',88:'Ra',\\\n",
    "    89:'Ac',90:'Th',91:'Pa',92:'U',93:'Np',94:'Pu',95:'Am',96:'Cm',97:'Bk',98:'Cf',99:'Es',100:'Fm',101:'Md',102:'No',\\\n",
    "    103:'Lr',104:'Rf',105:'Db',106:'Sg',107:'Bh',108:'Hs',109:'Mt',110:'Ds',111:'Rg',112:'Cn',\\\n",
    "    113:'Uut',114:'Fl'}\n",
    "   \n",
    "    #Retrieve a value from the dictionary that is associated with the key given by elementnumber.\n",
    "    element=ptable[elementnumber]\n",
    "    \n",
    "    # return the variable element for use elsewhere in the program.\n",
    "    return element\n",
    "\n",
    "#call the periodictable function\n",
    "periodictable(1)"
   ]
  },
  {
   "cell_type": "markdown",
   "metadata": {},
   "source": [
    "Now that you have run some code that uses the `dictionary` (or `dict`) data type, we can let you in on a secret that you may or may not have spotted already.\n",
    "\n",
    "If you tried to call the `periodictable` function using the numbers `115`, `116`, `117`, or `118`, it would not work. Try it.\n",
    "\n",
    "In other words, there are 4 elements missing from the above `dictionary` that represents the periodic table! They are:\n",
    "\n",
    "* Element 115: Moscovium (Mc)\n",
    "* Element 116: Livermorium (Lv)\n",
    "* Element 117: Tennessine (Ts)\n",
    "* Element 118: Oganesson (Og)\n",
    "\n",
    "In the duplicated `dictionary` in the code block below, add the 4 missing elements, using the correct syntax for the `dictionary`.\n",
    "\n",
    "Show that your updated code block works by calling the function, using one of the new element numbers (117 has been added for you as an example. You don't need to change that if you don't want to.)"
   ]
  },
  {
   "cell_type": "code",
   "execution_count": null,
   "metadata": {},
   "outputs": [],
   "source": [
    "#\n",
    "def periodictable(elementnumber):\n",
    "    \n",
    "    #\n",
    "    ptable={1:'H',2:'He',\\\n",
    "    3:'Li', 4:'Be',5:'B',6:'C',7:'N',8:'O',9:'F',10:'Ne',\\\n",
    "    11:'Na',12:'Mg',13:'Al',14:'Si',15:'P',16:'S',17:'Cl',18:'Ar',\\\n",
    "    19:'K',20:'Ca',\\\n",
    "    21:'Sc',22:'Ti',23:'V',24:'Cr',25:'Mn',26:'Fe',27:'Co',28:'Ni',29:'Cu',30:'Zn',\\\n",
    "    31:'Ga',32:'Ge',33:'As',34:'Se',35:'Br',36:'Kr',\\\n",
    "    37:'Rb',38:'Sr',\\\n",
    "    39:'Y',40:'Zr',41:'Nb',42:'Mo',43:'Tc',44:'Ru',45:'Rh',46:'Pd',47:'Ag',48:'Cd',\\\n",
    "    49:'In',50:'Sn',51:'Sb',52:'Te',53:'I',54:'Xe',\\\n",
    "    55:'Cs',56:'Ba',\\\n",
    "    57:'La',58:'Ce',59:'Pr',60:'Nd',61:'Pm',62:'Sm',63:'Eu',64:'Gd',65:'Tb',66:'Dy',67:'Ho',68:'Er',69:'Tm',70:'Yb',71:'Lu',\\\n",
    "    72:'Hf', 73:'Ta', 74:'W',75:'Re', 76:'Os', 77:'Ir',78:'Pt', 79:'Au', 80:'Hg',\\\n",
    "    81:'Tl', 82:'Pb', 83:'Bi',84:'Po',85:'At',86:'Rn',\\\n",
    "    87:'Fr',88:'Ra',\\\n",
    "    89:'Ac',90:'Th',91:'Pa',92:'U',93:'Np',94:'Pu',95:'Am',96:'Cm',97:'Bk',98:'Cf',99:'Es',100:'Fm',101:'Md',102:'No',\\\n",
    "    103:'Lr',104:'Rf',105:'Db',106:'Sg',107:'Bh',108:'Hs',109:'Mt',110:'Ds',111:'Rg',112:'Cn',\\\n",
    "    113:'Uut',114:'Fl'}\n",
    "   \n",
    "    #\n",
    "    element=ptable[elementnumber]\n",
    "    \n",
    "    return element\n",
    "\n",
    "#call the periodictable function\n",
    "periodictable(117)"
   ]
  },
  {
   "cell_type": "markdown",
   "metadata": {},
   "source": [
    "### Exercise 31 - Play with the Program\n",
    "\n",
    "The code below combines the use of a `dictionary` with a `for` loop. Fix the bugs and add comments where indicated by the `#` to write down what you understand about the code.\n"
   ]
  },
  {
   "cell_type": "markdown",
   "metadata": {},
   "source": [
    "#### Question 1"
   ]
  },
  {
   "cell_type": "code",
   "execution_count": 4,
   "metadata": {},
   "outputs": [
    {
     "ename": "SyntaxError",
     "evalue": "invalid syntax (<ipython-input-4-213ccc186bb0>, line 7)",
     "output_type": "error",
     "traceback": [
      "\u001b[0;36m  File \u001b[0;32m\"<ipython-input-4-213ccc186bb0>\"\u001b[0;36m, line \u001b[0;32m7\u001b[0m\n\u001b[0;31m    'Avogadro':6.02214076E-23)\u001b[0m\n\u001b[0m                             ^\u001b[0m\n\u001b[0;31mSyntaxError\u001b[0m\u001b[0;31m:\u001b[0m invalid syntax\n"
     ]
    }
   ],
   "source": [
    "#  \n",
    "def constants(name):\n",
    "    #This function returns the value of named scientific constants.\n",
    "    \n",
    "    #  \n",
    "    constants_dict={'Boltzmann':1.38064852E23,\n",
    "                    'Avogadro':6.02214076E-23)\n",
    "    \n",
    "    #  \n",
    "    x = constants_dict[name]\n",
    "    \n",
    "    #  \n",
    "    print(f\"The numerical value of the {name} constant = \")\n",
    "    return x\n",
    "\n",
    "#Call the function and return the value stored again the 'Avogadro' key\n",
    "constants('Avogadro')"
   ]
  },
  {
   "cell_type": "code",
   "execution_count": null,
   "metadata": {},
   "outputs": [],
   "source": []
  }
 ],
 "metadata": {
  "kernelspec": {
   "display_name": "Python 3",
   "language": "python",
   "name": "python3"
  },
  "language_info": {
   "codemirror_mode": {
    "name": "ipython",
    "version": 3
   },
   "file_extension": ".py",
   "mimetype": "text/x-python",
   "name": "python",
   "nbconvert_exporter": "python",
   "pygments_lexer": "ipython3",
   "version": "3.7.6"
  }
 },
 "nbformat": 4,
 "nbformat_minor": 2
}
