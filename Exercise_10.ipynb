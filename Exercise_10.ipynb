{
 "cells": [
  {
   "cell_type": "markdown",
   "metadata": {},
   "source": [
    "# Exercise 10 - More Escape Sequences\n",
    "\n",
    "In the previous exercise, you used the escape sequence `\\n` for the first time. The formatting magic of the `\\` can be taken further.\n",
    "<br>\n",
    "<br>\n",
    "Let's code."
   ]
  },
  {
   "cell_type": "code",
   "execution_count": null,
   "metadata": {},
   "outputs": [],
   "source": [
    "tabby_chemist = \"\\t I'm tabbed in.\" # \n",
    "split_chemist = \"I'm split\\nbetween lines.\" # \n",
    "backslash_chemist = \"I'm \\\\ a \\\\ chemist.\" # \n",
    "\n",
    "# Print the variables defined above.\n",
    "print(tabby_chemist)\n",
    "print(split_chemist)\n",
    "print(backslash_chemist)\n"
   ]
  },
  {
   "cell_type": "markdown",
   "metadata": {},
   "source": [
    "Complete the comment lines to the right of each `#` in the code block above to describe what is going on."
   ]
  },
  {
   "cell_type": "code",
   "execution_count": null,
   "metadata": {},
   "outputs": [],
   "source": [
    "# Define a variable called procedure to hold a formatted string object.\n",
    "procedure = \"\"\"\n",
    "I'll make a list:\n",
    "\\t* Take chemical A. \n",
    "\\t* Take chemical B.\n",
    "\\t* Mix them.\\n\\t* Isolate the product. \"\"\" \n",
    "\n",
    "#Print the contents of the procedure variable\n",
    "print(procedure)\n",
    "\n"
   ]
  },
  {
   "cell_type": "markdown",
   "metadata": {},
   "source": [
    "In the above code, we've combined the familiar operator `\"\"\"` with a new escape sequence `\\t`, used to introduce a **tab** character to your string.\n",
    "\n",
    "And below, when you hit `Shift+Enter` you will encounter an important error that can arise when dealing with strings and text."
   ]
  },
  {
   "cell_type": "code",
   "execution_count": null,
   "metadata": {},
   "outputs": [],
   "source": [
    "print(\"Nobel Prize-winning chemist Linus Pauling famously said:\\n\\n \"The best way to have a good idea is to have lots of ideas\".\")"
   ]
  },
  {
   "cell_type": "markdown",
   "metadata": {},
   "source": [
    "It doesn't work. The above code tries to use double quotes `\"...\"` for two different purposes:\n",
    "\n",
    "1. The outside `\"` are being used to declare that what is inside those outer `\"` is to be stored and treated and a `string` object.\n",
    "\n",
    "2. The inner `\"` are being used the way you would in any normal writing - to define character speech.\n",
    "\n",
    "We can debug the above code by using **both** double `\"` and single `'` quotes together. \n",
    "Try it yourself. Use the code block below to write the  line of code in the block above:\n",
    "\n",
    "* Use double quotes to declare the `string` object.\n",
    "* Use single quotes to indicate the text that relates to Linus Pauling's quote.\n",
    "\n",
    "Remove the `###` and complete the code so that it runs with no error message."
   ]
  },
  {
   "cell_type": "code",
   "execution_count": null,
   "metadata": {},
   "outputs": [],
   "source": [
    "###"
   ]
  },
  {
   "cell_type": "markdown",
   "metadata": {},
   "source": [
    "### Exercise 10 - Play with the Program\n",
    "\n",
    "Let's now take a closer look at what the `\\` can do inside a text string. Try running the following code:\n",
    "\n",
    "1. Try writing a `print` statement that includes **both** a `\\n` and `\\t`.\n",
    "\n",
    "2. More ambitious...write a **formatted** `print` statement using the triple quote `\"\"\"` operator and include the curly brackett `{}` operator to insert some values stored in other variables into the text string.\n",
    "\n",
    "Define a variable that holds the `integer` 2, then insert that variable into the text string. This is partly done for you in the Question 2 code block below.\n",
    "\n",
    "(Hint: Don't forget the lower case `f` when defining a **formatted** rather than a regular print statement.)"
   ]
  },
  {
   "cell_type": "markdown",
   "metadata": {},
   "source": [
    "#### Question 1"
   ]
  },
  {
   "cell_type": "code",
   "execution_count": null,
   "metadata": {},
   "outputs": [],
   "source": [
    "###"
   ]
  },
  {
   "cell_type": "markdown",
   "metadata": {},
   "source": [
    "#### Question 2"
   ]
  },
  {
   "cell_type": "code",
   "execution_count": null,
   "metadata": {},
   "outputs": [],
   "source": [
    "### = 2\n",
    "\n",
    "###"
   ]
  },
  {
   "cell_type": "markdown",
   "metadata": {},
   "source": [
    "**You're doing great. By this point, you should be comfortable knowing that code fails, breaks, and seemingly does the opposite of what you want to do sometimes.**\n",
    "\n",
    "**Working through the debugging challenges and frustrations is an important skill in itself.**\n",
    "\n",
    "**Keep going. Your skills are improving. Exercise 11 will take you further down the road to the life-changing magic of using code to automate your scientific workflows.**"
   ]
  }
 ],
 "metadata": {
  "kernelspec": {
   "display_name": "Python 3",
   "language": "python",
   "name": "python3"
  },
  "language_info": {
   "codemirror_mode": {
    "name": "ipython",
    "version": 3
   },
   "file_extension": ".py",
   "mimetype": "text/x-python",
   "name": "python",
   "nbconvert_exporter": "python",
   "pygments_lexer": "ipython3",
   "version": "3.8.8"
  }
 },
 "nbformat": 4,
 "nbformat_minor": 2
}
