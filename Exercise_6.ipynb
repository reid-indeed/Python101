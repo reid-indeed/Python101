{
 "cells": [
  {
   "cell_type": "markdown",
   "metadata": {},
   "source": [
    "# Exercise 6 - More on Variables and Print Formatting\n",
    "\n",
    "Python enables you to encorporate placeholders for variables into the body of a `string` that makes up the printed text.\n",
    "\n",
    "In this exercise, we introduce a powerful tweek to the syntax of the now familiar `print` function.\n",
    "\n",
    "Let's start by defining some variables. See if you can spot the new data `type` introduced in the next block.\n",
    "\n",
    "Add a short comment line next to each `#` to state what data type has been assigned to each variable. The first one has been compelted for you."
   ]
  },
  {
   "cell_type": "code",
   "execution_count": null,
   "metadata": {},
   "outputs": [],
   "source": [
    "# Defining some variables.\n",
    "instructor_name = 'Marc Reid' # The string 'Marc Reid' has been assigned to the variable 'instructor_name'.\n",
    "instructor_age = 36 #\n",
    "instructor_height = 1.77 #\n",
    "instructor_eyes = 'blue' #\n",
    "instructor_hair_colour = None #"
   ]
  },
  {
   "cell_type": "markdown",
   "metadata": {},
   "source": [
    "Assign some more variables like those in the above code block. \n",
    "\n",
    "(*Hint: Instead of **'instructor_'**, try using **'my_'** so that the distinction is clear in your mind. The first variable is partially completed for you*).\n"
   ]
  },
  {
   "cell_type": "code",
   "execution_count": null,
   "metadata": {},
   "outputs": [],
   "source": [
    "# Define some more variables, replacing the '###' in the lines below.\n",
    "# Define variables to hold your name, age, height, eye colour, and hair colour.\n",
    "\n",
    "my_name = \"Not Marc\"\n",
    "#my_age = \n",
    "###\n",
    "###\n",
    "###\n",
    "\n"
   ]
  },
  {
   "cell_type": "markdown",
   "metadata": {},
   "source": [
    "We can now construct some `print` statements using you variables assigned above. We are going to do this in a different way than we saw in **Exercise 5**. \n",
    "\n",
    "Study the code block below then hit `Shift+Enter` to see the output.\n",
    "\n",
    "**NOTE – there is one error in the code that you will need to fix. Can you see where that error is?**"
   ]
  },
  {
   "cell_type": "code",
   "execution_count": null,
   "metadata": {},
   "outputs": [],
   "source": [
    "# Here, we use the f after the first bracket to indicate that the following string is being formatted. \n",
    "# Curly brackets enable you to add a variable name that is defined elsewhere in your program.\n",
    "\n",
    "print(f\"Let's talk about {instructor_name}.\")  \n",
    "print(f\"He is {instructor_age} years old.\")\n",
    "print(f\"He is {instructor_height} metres tall and has {instructor_eyes} coloured eyes.\")\n",
    "print(f\"If you asked him about his hair colour, he would say he has {instructor_hair}!\")  "
   ]
  },
  {
   "cell_type": "markdown",
   "metadata": {},
   "source": [
    "In the above example, we used a **formatted** `print` statement and curly brackets in which to insert a variable into text string.\n",
    "\n",
    "See if you can now write 5 more **formatted** `print` statements to report `my_age`, and the other 4 variables you defined yourself."
   ]
  },
  {
   "cell_type": "code",
   "execution_count": null,
   "metadata": {},
   "outputs": [],
   "source": [
    "# Enter your 5 formatted print statements in place of the '###' below.\n",
    "\n",
    "print(f\"My son is {my_age} years old.\")\n",
    "###\n",
    "###\n",
    "###\n",
    "###"
   ]
  },
  {
   "cell_type": "markdown",
   "metadata": {},
   "source": [
    "We can also include arithmetic calculations involving variables in our formatted `print` statements.\n",
    "\n",
    "Earlier, we quietly introduced the `//` operator. This is used for **floor division** - the whole number answer of one number divided by another, ignoring any remainder."
   ]
  },
  {
   "cell_type": "code",
   "execution_count": null,
   "metadata": {},
   "outputs": [],
   "source": [
    "# Calculate the whole number of decades related to the raw value of instructor_age, using floor division to return a whole number\n",
    "instructor_decades = instructor_age // 10\n",
    "\n",
    "print(f\"The instructor has been alive for {instructor_decades} whole decades.\")"
   ]
  },
  {
   "cell_type": "markdown",
   "metadata": {},
   "source": [
    "Try writing your own version of the above code block, showing floor division using one of your own variables."
   ]
  },
  {
   "cell_type": "code",
   "execution_count": null,
   "metadata": {},
   "outputs": [],
   "source": [
    "#Enter your 'floor division' code on line 2\n",
    "###\n",
    "\n",
    "#Enter your print statement on line 5\n",
    "###"
   ]
  },
  {
   "cell_type": "markdown",
   "metadata": {},
   "source": [
    "### Exercise 6 - Play with the Program\n",
    "\n",
    "It's time to mess around again. Let's see how we might break the new code you have learned and applied in this exercise.\n",
    "\n",
    "1. What happens if you re-write one of your formatted `print` statements and 'forget' to put the 'f' after the first brackett?\n",
    "<br>\n",
    "<br>\n",
    "2. Try writing a more complex formatted `print` statement that has 2 different variables included in 2 different pairs of curly bracketts, rather than just 1. For example, can you write a formattedd `print` statement that reports your `my_name` and `my_age` variables inside a single line of the `print` function? (*Hint - you've seen a print statement of this kind somewhere else in this exercise.*)\n",
    "\n",
    "Use the code blocks below to answer questions 1 and 2.\n"
   ]
  },
  {
   "cell_type": "markdown",
   "metadata": {},
   "source": [
    "#### Question 1"
   ]
  },
  {
   "cell_type": "code",
   "execution_count": null,
   "metadata": {},
   "outputs": [],
   "source": [
    "###"
   ]
  },
  {
   "cell_type": "markdown",
   "metadata": {},
   "source": [
    "Write a comment below about what you observed in your output to **Question 1**"
   ]
  },
  {
   "cell_type": "code",
   "execution_count": null,
   "metadata": {},
   "outputs": [],
   "source": [
    "# "
   ]
  },
  {
   "cell_type": "markdown",
   "metadata": {},
   "source": [
    "#### Question 2"
   ]
  },
  {
   "cell_type": "code",
   "execution_count": null,
   "metadata": {},
   "outputs": [],
   "source": [
    "###"
   ]
  },
  {
   "cell_type": "markdown",
   "metadata": {},
   "source": [
    "\n",
    "**Congratulations on finishing Exercise 6! \\\n",
    "Exercise 7 now...let's go.**"
   ]
  }
 ],
 "metadata": {
  "kernelspec": {
   "display_name": "Python 3",
   "language": "python",
   "name": "python3"
  },
  "language_info": {
   "codemirror_mode": {
    "name": "ipython",
    "version": 3
   },
   "file_extension": ".py",
   "mimetype": "text/x-python",
   "name": "python",
   "nbconvert_exporter": "python",
   "pygments_lexer": "ipython3",
   "version": "3.8.8"
  }
 },
 "nbformat": 4,
 "nbformat_minor": 2
}
