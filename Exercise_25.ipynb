{
 "cells": [
  {
   "cell_type": "markdown",
   "metadata": {},
   "source": [
    "# Exercise 25 - Logic\n",
    "\n",
    "Life is full of interesting forks in the road. \n",
    "\n",
    "We can take turns this way `or` that, this way then that, this way `while` that, this way `if` that...all manner of twists and turns!\n",
    "\n",
    "Far from the philisophical musings on life, we encounter such **'What If?'** moments whenever we play with the taps at a sink.\n",
    "\n",
    "For example, `if` we turn the cold tap *then* cold water will run. That cold water will run `while` the tap remains open `and` will only stop `if` we  turn the cold tap back the other way.\n",
    "\n",
    "Instead, `if` we turn on the cold tap `and` the hot tap, lukewarm water of a temperature determined by the flow rates of the hot `and` cold will run `while` the taps are open.\n",
    "\n",
    "The deliberately highlighted words in the mundane example above serve to show just how we come across decisions, branch points, and **'what if?'** moments in all manner of everyday circumstances. \n",
    "\n",
    "In **Exercise 25**, you will learn to appreciate the `boolean` data type more deeply. In simpler terms, the aforementioned forks in the road are determined by certain things proving `True` or `False`. \n",
    "\n",
    "**In this exercise, you will learn to determine when these `True` and `False` outputs will appear. Later, you will learn how to use these outputs to determine the path along the forks in the road your Python code will take.**"
   ]
  },
  {
   "cell_type": "markdown",
   "metadata": {},
   "source": [
    "### Play with the Program (Logic)\n",
    "\n",
    "Use `Shift+Enter` to run each code block below.\n",
    "\n",
    "The output will read `True` or `False`. \n",
    "\n",
    "The `not` keyword is applied in certain cases to essentially provide the opposite answer to whatever is computed in the brackets.\n",
    "\n",
    "**Can you predict the output before you reveal it?**"
   ]
  },
  {
   "cell_type": "code",
   "execution_count": null,
   "metadata": {},
   "outputs": [],
   "source": [
    "True"
   ]
  },
  {
   "cell_type": "code",
   "execution_count": null,
   "metadata": {},
   "outputs": [],
   "source": [
    "False"
   ]
  },
  {
   "cell_type": "code",
   "execution_count": null,
   "metadata": {},
   "outputs": [],
   "source": [
    "not True"
   ]
  },
  {
   "cell_type": "code",
   "execution_count": null,
   "metadata": {},
   "outputs": [],
   "source": [
    "not False"
   ]
  },
  {
   "cell_type": "code",
   "execution_count": null,
   "metadata": {},
   "outputs": [],
   "source": [
    "True or False"
   ]
  },
  {
   "cell_type": "code",
   "execution_count": null,
   "metadata": {},
   "outputs": [],
   "source": [
    "True or True"
   ]
  },
  {
   "cell_type": "code",
   "execution_count": null,
   "metadata": {},
   "outputs": [],
   "source": [
    "False or True"
   ]
  },
  {
   "cell_type": "code",
   "execution_count": null,
   "metadata": {},
   "outputs": [],
   "source": [
    "False or False"
   ]
  },
  {
   "cell_type": "code",
   "execution_count": null,
   "metadata": {},
   "outputs": [],
   "source": [
    "True and False"
   ]
  },
  {
   "cell_type": "code",
   "execution_count": null,
   "metadata": {},
   "outputs": [],
   "source": [
    "True and True"
   ]
  },
  {
   "cell_type": "code",
   "execution_count": null,
   "metadata": {},
   "outputs": [],
   "source": [
    "False and True"
   ]
  },
  {
   "cell_type": "code",
   "execution_count": null,
   "metadata": {},
   "outputs": [],
   "source": [
    "False and False"
   ]
  },
  {
   "cell_type": "code",
   "execution_count": null,
   "metadata": {},
   "outputs": [],
   "source": [
    "not True or False"
   ]
  },
  {
   "cell_type": "code",
   "execution_count": null,
   "metadata": {},
   "outputs": [],
   "source": [
    "not(True or False)"
   ]
  },
  {
   "cell_type": "code",
   "execution_count": null,
   "metadata": {},
   "outputs": [],
   "source": [
    "not True or True"
   ]
  },
  {
   "cell_type": "code",
   "execution_count": null,
   "metadata": {},
   "outputs": [],
   "source": [
    "not(True or True)"
   ]
  },
  {
   "cell_type": "code",
   "execution_count": null,
   "metadata": {},
   "outputs": [],
   "source": [
    "not False or True"
   ]
  },
  {
   "cell_type": "code",
   "execution_count": null,
   "metadata": {},
   "outputs": [],
   "source": [
    "not(False or True)"
   ]
  },
  {
   "cell_type": "code",
   "execution_count": null,
   "metadata": {},
   "outputs": [],
   "source": [
    "not False or False"
   ]
  },
  {
   "cell_type": "code",
   "execution_count": null,
   "metadata": {},
   "outputs": [],
   "source": [
    "not(False or False)"
   ]
  },
  {
   "cell_type": "code",
   "execution_count": null,
   "metadata": {},
   "outputs": [],
   "source": [
    "not True and False"
   ]
  },
  {
   "cell_type": "code",
   "execution_count": null,
   "metadata": {},
   "outputs": [],
   "source": [
    "not(True and False)"
   ]
  },
  {
   "cell_type": "code",
   "execution_count": null,
   "metadata": {},
   "outputs": [],
   "source": [
    "not True and True"
   ]
  },
  {
   "cell_type": "code",
   "execution_count": null,
   "metadata": {},
   "outputs": [],
   "source": [
    "not(True and True)"
   ]
  },
  {
   "cell_type": "code",
   "execution_count": null,
   "metadata": {},
   "outputs": [],
   "source": [
    "not False and True "
   ]
  },
  {
   "cell_type": "code",
   "execution_count": null,
   "metadata": {},
   "outputs": [],
   "source": [
    "not(False and True)"
   ]
  },
  {
   "cell_type": "markdown",
   "metadata": {},
   "source": [
    "### Equivalence\n",
    "You can (and will) go far beyond the simple combinations of `True`, `False`, `and`, `or` and `not`, as you just did.\n",
    "\n",
    "It is also possible to force `True` or `False` outputs from code that uses the symbols of **equivalence**.\n",
    "\n",
    "**A quick reminder your use of `=` so far...**\n",
    "\n",
    "In the likes of **Exercise 5** you assigned various data objects to variables using the single `=` operator. This is not the same as the double `==` operator that you are about to use.\n",
    "\n",
    "The `==` is like saying **equivalent to**.\n",
    "\n",
    "Conversley, the related `!=` operator is used to state **not equivalent to**.\n",
    "\n",
    "Let's try some examples and see how this works.\n",
    "\n",
    "**Again, try to predict the output before pressing `Shift+Enter`**"
   ]
  },
  {
   "cell_type": "code",
   "execution_count": null,
   "metadata": {},
   "outputs": [],
   "source": [
    "1 != 0"
   ]
  },
  {
   "cell_type": "code",
   "execution_count": null,
   "metadata": {},
   "outputs": [],
   "source": [
    "1 != 1"
   ]
  },
  {
   "cell_type": "code",
   "execution_count": null,
   "metadata": {},
   "outputs": [],
   "source": [
    "0 != 1"
   ]
  },
  {
   "cell_type": "code",
   "execution_count": null,
   "metadata": {},
   "outputs": [],
   "source": [
    "0 != 0"
   ]
  },
  {
   "cell_type": "code",
   "execution_count": null,
   "metadata": {},
   "outputs": [],
   "source": [
    "1 == 0"
   ]
  },
  {
   "cell_type": "code",
   "execution_count": null,
   "metadata": {},
   "outputs": [],
   "source": [
    "1 == 1"
   ]
  },
  {
   "cell_type": "code",
   "execution_count": null,
   "metadata": {},
   "outputs": [],
   "source": [
    "0 == 1"
   ]
  },
  {
   "cell_type": "code",
   "execution_count": null,
   "metadata": {},
   "outputs": [],
   "source": [
    "0 == 0"
   ]
  },
  {
   "cell_type": "markdown",
   "metadata": {},
   "source": [
    "## Example\n",
    "\n",
    "You need to determine whether certain substances are acids, bases, or soluble in water based on their properties. We'll use Boolean variables to represent these properties and apply Boolean logic to draw conclusions."
   ]
  },
  {
   "cell_type": "code",
   "execution_count": null,
   "metadata": {},
   "outputs": [],
   "source": [
    "# Properties for Hydrochloric Acid\n",
    "is_hcl_acid = True\n",
    "is_hcl_base = False\n",
    "is_hcl_soluble = True\n",
    "\n",
    "# Properties for Sodium Hydroxide\n",
    "is_naoh_acid = False\n",
    "is_naoh_base = True\n",
    "is_naoh_soluble = True\n",
    "\n",
    "# Properties for Calcium Carbonate\n",
    "is_caco3_acid = False\n",
    "is_caco3_base = False\n",
    "is_caco3_soluble = False\n",
    "\n",
    "# Properties for Sulfuric Acid\n",
    "is_h2so4_acid = True\n",
    "is_h2so4_base = False\n",
    "is_h2so4_soluble = True\n"
   ]
  },
  {
   "cell_type": "markdown",
   "metadata": {},
   "source": [
    "\n",
    "Now, we'll apply Boolean logic to determine if each substance meets specific criteria.\n"
   ]
  },
  {
   "cell_type": "code",
   "execution_count": null,
   "metadata": {},
   "outputs": [],
   "source": [
    "is_hcl_acid_and_soluble = is_hcl_acid and is_hcl_soluble\n",
    "\n",
    "print(f\"Hydrochloric Acid is an acid and soluble in water: {is_hcl_acid_and_soluble}\")\n"
   ]
  },
  {
   "cell_type": "markdown",
   "metadata": {},
   "source": [
    "Check if Sodium Hydroxide is a base but not soluble in water:"
   ]
  },
  {
   "cell_type": "code",
   "execution_count": null,
   "metadata": {},
   "outputs": [],
   "source": [
    "is_naoh_base_not_soluble = is_naoh_base and not is_naoh_soluble\n",
    "\n",
    "print(f\"Sodium Hydroxide is a base and not soluble in water: {is_naoh_base_not_soluble}\")\n"
   ]
  },
  {
   "cell_type": "markdown",
   "metadata": {},
   "source": [
    "### Exercise 25...done\n",
    "\n",
    "Well done! It's time to tackle Exercise 26."
   ]
  }
 ],
 "metadata": {
  "kernelspec": {
   "display_name": "Python 3",
   "language": "python",
   "name": "python3"
  },
  "language_info": {
   "codemirror_mode": {
    "name": "ipython",
    "version": 3
   },
   "file_extension": ".py",
   "mimetype": "text/x-python",
   "name": "python",
   "nbconvert_exporter": "python",
   "pygments_lexer": "ipython3",
   "version": "3.7.6"
  }
 },
 "nbformat": 4,
 "nbformat_minor": 2
}
