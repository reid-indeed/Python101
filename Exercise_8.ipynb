{
 "cells": [
  {
   "cell_type": "markdown",
   "metadata": {},
   "source": [
    "# Exercise 8 - More printing, more strings, more text!\n",
    "\n",
    "When you're learning Python, or any programming language, more practice, more examples, and more reflection are key.\n",
    "<br>\n",
    "<br>\n",
    "You will probably be tempted to skip this exercise. Don't! \n",
    "<br>\n",
    "<br>\n",
    "Here are some more examples to sharpen the Python skills you picked up so far."
   ]
  },
  {
   "cell_type": "code",
   "execution_count": null,
   "metadata": {},
   "outputs": [],
   "source": [
    "print(\"Radium...\")\n",
    "print(\"...is fascinating...\")\n",
    "print(\"...and exceedingly dangerous.\")\n",
    "print(\"*\" * 30) \n",
    "\n",
    "end1 = \"M\"\n",
    "end2 = \"a\"\n",
    "end3 = \"r\"\n",
    "end4 = \"i\"\n",
    "end5 = \"e\"\n",
    "end6 = \"C\"\n",
    "end7 = \"u\"\n",
    "end8 = \"r\"\n",
    "end9 = \"i\"\n",
    "end10 = \"e\"\n",
    "\n",
    "\n",
    "print(end1 + end2 + end3 + end4 + end5) #What happens if you combine both print statements into one? Try in a separate code block.\n",
    "print(end6 + end7 + end8 + end9 + end10)\n"
   ]
  },
  {
   "cell_type": "markdown",
   "metadata": {},
   "source": [
    "### Exercise 8 - Playing with the Program\n",
    "\n",
    "1. Go back over the code in the previous block and add some comment lines with `#` to help you understand what each part of the program is doing. \n",
    "\n",
    "2. Can you rewrite the final two `print` statements in the above code block so that, for example, `end1 + end2 + end3 + end4 + end5` is represented by a variable that does the same thing? \n",
    "\n",
    "The code block below has been partially completed for you to help answer **Question 2**. Remove the `###` and complete the code so that you get the same output as the code block above. "
   ]
  },
  {
   "cell_type": "markdown",
   "metadata": {},
   "source": [
    "#### Question 2"
   ]
  },
  {
   "cell_type": "code",
   "execution_count": null,
   "metadata": {},
   "outputs": [],
   "source": [
    "first_name = end1 + end2 + end3 + end4 + end5\n",
    "second_name = ###\n",
    "\n",
    "print(first_name)\n",
    "print(###)"
   ]
  },
  {
   "cell_type": "markdown",
   "metadata": {},
   "source": [
    "**Take a moment. You've just finished your 8th exercise towards learning the Python programming language, and all it can help you do in Chemistry (and far beyond).** \n",
    "\n",
    "**Exercise 9 awaits you. Let's see what it has in store...**"
   ]
  }
 ],
 "metadata": {
  "kernelspec": {
   "display_name": "Python 3",
   "language": "python",
   "name": "python3"
  },
  "language_info": {
   "codemirror_mode": {
    "name": "ipython",
    "version": 3
   },
   "file_extension": ".py",
   "mimetype": "text/x-python",
   "name": "python",
   "nbconvert_exporter": "python",
   "pygments_lexer": "ipython3",
   "version": "3.8.8"
  }
 },
 "nbformat": 4,
 "nbformat_minor": 2
}
