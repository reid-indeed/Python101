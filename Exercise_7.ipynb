{
 "cells": [
  {
   "cell_type": "markdown",
   "metadata": {},
   "source": [
    "# Exercise 7 - Strings and Text\n",
    "\n",
    "In the previous exercises, you have used the `string` object type a lot. \n",
    "\n",
    "As you have now seen, Python detects a `string` (or `str`) type when the characters are encapsulated in single (`'`...`'`) or double (`\"`...`\"`) quotes.\n",
    "\n",
    "As a `str` type, the `string` automatically inherits certian attributes and functions that can be enacted upon it.\n",
    "\n",
    "The simple step we will cover in this exercise is **concatination** of strings."
   ]
  },
  {
   "cell_type": "markdown",
   "metadata": {},
   "source": [
    "Let's start by defining some variables that hold `str` type objects (i.e. text!). Hit `Shift+Enter` on the code block below."
   ]
  },
  {
   "cell_type": "code",
   "execution_count": null,
   "metadata": {},
   "outputs": [],
   "source": [
    "# Define two variables holding two halves of a sentence.\n",
    "x = \"There's yttrium, ytterbium, actinium, rubidium...\"\n",
    "y = \"And boron, gadolinium, niobium, iridium.\"\n",
    "\n",
    "# Print the concatenated strings.\n",
    "print(x + y)"
   ]
  },
  {
   "cell_type": "markdown",
   "metadata": {},
   "source": [
    "### Exercise 7 - Playing with the Program"
   ]
  },
  {
   "cell_type": "markdown",
   "metadata": {},
   "source": [
    "You can now concatenate (or merge) two `string` objects together.\n",
    "\n",
    "Let's try something else.\n",
    "\n",
    "1. Create a third variable, `z`, to complement existing variables `x` and `y`. Set `z` to some `integer` (e.g. 100, 3, 154...).\n",
    "2. Try writing a new `print` statement that concatenates all three variables: `x`, `y`, and `z`. What happens?\n",
    "\n",
    "Use the code block below to define your answer."
   ]
  },
  {
   "cell_type": "code",
   "execution_count": null,
   "metadata": {},
   "outputs": [],
   "source": [
    "# Define z as a string of your choice. Replace the '###' with your code below.\n",
    "z = 4\n",
    "\n",
    "# Print a concatenated string using variables, x, y, and z.\n",
    "print(x + y + z)"
   ]
  },
  {
   "cell_type": "code",
   "execution_count": null,
   "metadata": {},
   "outputs": [],
   "source": [
    "# Write the new version of the above code block, fixing the original bug.\n",
    "z = 4\n",
    "\n",
    "# Print a concatenated string using variables, x, y, and z.\n",
    "###"
   ]
  },
  {
   "cell_type": "markdown",
   "metadata": {},
   "source": [
    "#### Extra Credit...\n",
    "Spolier alert - the code in the block below will not work as written. Hit `Shift+Enter` and see for yourself.\n",
    "\n",
    "The error message will tell you that you cannot concatenate a `string` with an `integer`. \n",
    "<br>\n",
    "<br>\n",
    "This is a problem we can solve. You can debug your own code! Here's how.\n",
    "<br>\n",
    "<br>\n",
    "Some object types can be converted to another object type. In this case, we can use the `str()` function to convert the `integer` in your `b` variable into a `string`. This way, you can debug you code and get `a`, `b`, and `c` to be printed together!\n",
    "\n",
    "**Use the `str()` function in the code below, inserting `str(b)` where you think it is needed to fix the code.**\n",
    "(*Hint - the error message shown when you first try to run the following code block will point you to the line of code where the error lies!*)"
   ]
  },
  {
   "cell_type": "code",
   "execution_count": null,
   "metadata": {},
   "outputs": [],
   "source": [
    "# Define variables a,b, and c\n",
    "a = 'This is episode '\n",
    "b = 14\n",
    "c = ' of the Strathclyde Chemistry podcast.'\n",
    "\n",
    "# Print a concatenated string of a, b, and the string version of c\n",
    "print(\"{a} {b} {c})"
   ]
  },
  {
   "cell_type": "code",
   "execution_count": null,
   "metadata": {},
   "outputs": [],
   "source": [
    "# Define variables a,b, and c\n",
    "a = 'This is episode '\n",
    "b = 14\n",
    "c = ' of the Strathclyde Chemistry podcast.'\n",
    "\n",
    "# Print a concatenated string of a, b, and the string version of c\n",
    "#print(..."
   ]
  },
  {
   "cell_type": "markdown",
   "metadata": {},
   "source": [
    "**You've just completed Exercise 7. Well done!** \\\n",
    "**Continue on to Exercise 8, and keep building those programming skills...**"
   ]
  }
 ],
 "metadata": {
  "kernelspec": {
   "display_name": "Python 3",
   "language": "python",
   "name": "python3"
  },
  "language_info": {
   "codemirror_mode": {
    "name": "ipython",
    "version": 3
   },
   "file_extension": ".py",
   "mimetype": "text/x-python",
   "name": "python",
   "nbconvert_exporter": "python",
   "pygments_lexer": "ipython3",
   "version": "3.7.6"
  }
 },
 "nbformat": 4,
 "nbformat_minor": 2
}
