{
 "cells": [
  {
   "cell_type": "markdown",
   "id": "6d3dc72d",
   "metadata": {},
   "source": [
    "# Exercise 34: An Introduction to the Python `math` Library\n",
    "\n",
    "## Objective\n",
    "\n",
    "The **math** library in Python provides a collection of mathematical functions and constants that are fundamental to scientific computing. While **NumPy** and other specialized libraries offer advanced numerical capabilities, the **math** library remains a reliable and straightforward choice for performing common mathematical operations, especially when working with single values rather than large datasets.\n",
    "\n",
    "#### **Why Use the Math Library in Chemistry?**\n",
    "\n",
    "In **chemistry**, many calculations require the use of mathematical functions. The **math** library provides tools to handle:\n",
    "- **Exponential and logarithmic functions:** Essential for reaction kinetics and pH calculations.\n",
    "- **Trigonometric functions:** Useful in spectroscopy and molecular geometry.\n",
    "- **Root and power functions:** Important for physical chemistry equations and statistical analysis.\n",
    "- **Factorial and combinatorial functions:** Applicable in computational chemistry and reaction mechanism studies.\n",
    "- **Constants:** Such as \\(\\pi\\) and **Euler's number (e)**, which appear frequently in scientific formulas.\n",
    "\n",
    "#### **Common Chemistry Use Cases:**\n",
    "1. **Chemical Kinetics:** Using exponential decay functions to model concentration changes over time.\n",
    "2. **Thermodynamics:** Applying logarithmic functions to calculate entropy or Gibbs free energy changes.\n",
    "3. **Molecular Geometry:** Utilizing trigonometric functions to interpret bond angles and molecular shapes.\n",
    "4. **Spectroscopy:** Analyzing waveforms and light interactions with matter.\n",
    "5. **Combinatorial Chemistry:** Calculating possible arrangements of molecules or ligands.\n",
    "\n",
    "#### **Example Functions:**\n",
    "- `math.log()`, `math.log10()`, `math.exp()`: For reaction rate laws and pH calculations.\n",
    "- `math.sin()`, `math.cos()`, `math.radians()`: For interpreting molecular geometries.\n",
    "- `math.sqrt()`, `math.pow()`: For physical chemistry and statistical applications.\n",
    "- `math.factorial()`: For counting arrangements or permutations in reactions.\n",
    "- `math.hypot()`: For calculating bond lengths using geometric principles.\n",
    "\n",
    "By mastering the **math** library, you can efficiently perform a wide range of calculations, bridging the gap between theoretical formulas and practical computational analysis.\n"
   ]
  },
  {
   "cell_type": "code",
   "execution_count": null,
   "id": "78cdd394",
   "metadata": {},
   "outputs": [],
   "source": [
    "\n",
    "import math #a useful library for access to mathematical operators beyond simple arithmetic operators"
   ]
  },
  {
   "cell_type": "markdown",
   "id": "940de34f",
   "metadata": {},
   "source": [
    "# Using the `math` library to go beyond Python simple arithmetic operators"
   ]
  },
  {
   "cell_type": "markdown",
   "id": "4f211f3d",
   "metadata": {},
   "source": [
    "## 1. pH calculations using the `log10` function"
   ]
  },
  {
   "cell_type": "code",
   "execution_count": null,
   "id": "1f9f2ca1",
   "metadata": {},
   "outputs": [],
   "source": [
    "\n",
    "\n",
    "# 1. Calculate pH from hydrogen ion concentration\n",
    "hydrogen_concentration = 1.0e-7  # mol/L\n",
    "pH = -math.log10(hydrogen_concentration)  # Log base 10\n",
    "print(f\"pH = {pH}\")\n",
    "\n"
   ]
  },
  {
   "cell_type": "markdown",
   "id": "907ad451",
   "metadata": {},
   "source": [
    "## 2. Rate calculations using the `exp` function"
   ]
  },
  {
   "cell_type": "markdown",
   "id": "7c0f14bc",
   "metadata": {},
   "source": [
    "The mathematical expression for the reaction concentration over time, assuming first-order kinetics, is:\n",
    "\n",
    "$$\n",
    "[A] = [A]_0 e^{-kt}\n",
    "$$\n",
    "\n",
    "Where:\n",
    "- $[A]$ is the concentration at time \\(t\\).\n",
    "- $[A]_0$ is the **initial concentration**.\n",
    "- $k$ is the **rate constant** (in s⁻¹).\n",
    "- $t$ is the **time** (in seconds).\n",
    "- $e$ is the base of the natural logarithm (Euler's number).\n",
    "\n",
    "This formula corresponds to the following Python code:\n",
    "```python\n",
    "concentration = initial_concentration * math.exp(-rate_constant * time)\n"
   ]
  },
  {
   "cell_type": "code",
   "execution_count": null,
   "id": "ec05f454",
   "metadata": {},
   "outputs": [],
   "source": [
    "# 2. Calculate the natural logarithm for first-order kinetics\n",
    "rate_constant = 0.05  # s^-1\n",
    "time = 60  # seconds\n",
    "initial_concentration = 1.0  # mol/L\n",
    "concentration = initial_concentration * math.exp(-rate_constant * time)  # First-order decay\n",
    "print(f\"Concentration after {time} seconds = {concentration:.4f} mol/L\")\n"
   ]
  },
  {
   "cell_type": "markdown",
   "id": "b436b7c3",
   "metadata": {},
   "source": [
    "## 3. **Calculating Root Mean Square (RMS) Velocity of Gas Particles using `sqrt`**\n",
    "\n",
    "The **Root Mean Square (RMS) velocity** of gas particles is an important concept in physical chemistry, particularly in the context of the **kinetic molecular theory**. The RMS velocity provides an average velocity of particles in a gas, which is related to temperature and the molar mass of the gas.\n",
    "\n",
    "#### **Mathematical Formula:**\n",
    "\n",
    "The RMS velocity \\(v_{rms}\\) can be calculated using the formula:\n",
    "\n",
    "$$\n",
    "v_{rms} = \\sqrt{\\frac{3RT}{M}}\n",
    "$$\n",
    "\n",
    "Where:\n",
    "- $v_{rms}$ = **Root mean square velocity** (in m/s)\n",
    "- $R$ = **Universal gas constant** (8.314 J/(mol·K))\n",
    "- $T$ = **Temperature** (in Kelvin)\n",
    "- $M$ = **Molar mass** of the gas (in kg/mol)\n",
    "\n",
    "#### **Example Scenario:**\n",
    "In the following code cell, we calculate the RMS velocity of **nitrogen gas (N₂)** at **298 K**, using a molar mass of **0.028 kg/mol**. The `math.sqrt()` function from Python's **math** library is used to perform the square root calculation, demonstrating how Python can handle physical chemistry equations efficiently.\n",
    "\n",
    "The output will display the calculated **RMS velocity** of nitrogen molecules in meters per second.\n"
   ]
  },
  {
   "cell_type": "code",
   "execution_count": null,
   "id": "9f4dd326",
   "metadata": {},
   "outputs": [],
   "source": [
    "# 3. Calculate the square root for calculating root mean square velocity of gas particles\n",
    "temperature = 298  # Kelvin\n",
    "molar_mass = 0.028  # kg/mol (e.g., Nitrogen gas, N2)\n",
    "gas_constant = 8.314  # J/(mol·K)\n",
    "\n",
    "# Root mean square (RMS) velocity\n",
    "rms_velocity = math.sqrt(3 * gas_constant * temperature / molar_mass)\n",
    "print(f\"RMS velocity of N2 molecules = {rms_velocity:.2f} m/s\")"
   ]
  },
  {
   "cell_type": "markdown",
   "id": "e96aadef",
   "metadata": {},
   "source": [
    "## 4. **Calculating Factorials for Combinatorial Chemistry using `factorial`**\n",
    "\n",
    "In **combinatorial chemistry**, factorials are often used to calculate the number of possible arrangements of molecules, ligands, or reaction pathways. A **factorial** is the product of all positive integers up to a given number **n** and is denoted by **n!**.\n",
    "\n",
    "#### **Mathematical Formula:**\n",
    "\n",
    "The factorial of a number **n** is calculated as:\n",
    "\n",
    "$$\n",
    "n! = n \\times (n-1) \\times (n-2) \\times ... \\times 1\n",
    "$$\n",
    "\n",
    "For example:\n",
    "\n",
    "$$\n",
    "5! = 5 \\times 4 \\times 3 \\times 2 \\times 1 = 120\n",
    "$$\n",
    "\n",
    "#### **Use Cases in Chemistry:**\n",
    "- **Arranging Molecules:** Calculating how many ways molecules can be organized in a crystal lattice.\n",
    "- **Permutations of Ligands:** Determining possible binding modes in coordination complexes.\n",
    "- **Reaction Pathways:** Estimating the number of potential product combinations in multi-component reactions.\n",
    "\n",
    "#### **Example Scenario:**\n",
    "In the code cell, we calculate the number of ways to arrange **5 molecules** using the `math.factorial()` function. This simple example highlights how factorial calculations can support combinatorial analysis in chemical research.\n"
   ]
  },
  {
   "cell_type": "code",
   "execution_count": null,
   "id": "a91a4221",
   "metadata": {},
   "outputs": [],
   "source": [
    "# 4. Calculate factorial for combinatorial chemistry (e.g., number of ways to arrange molecules)\n",
    "n = 5  # Example: 5 molecules\n",
    "arrangements = math.factorial(n)\n",
    "print(f\"Number of ways to arrange {n} molecules = {arrangements}\")\n",
    "\n"
   ]
  },
  {
   "cell_type": "markdown",
   "id": "2ed6a879",
   "metadata": {},
   "source": [
    "## 5. **Using Trigonometric Functions in Chemistry using `radians`, `sin`, and `cos`**\n",
    "\n",
    "**Trigonometric functions** are widely used in chemistry, particularly in the fields of **spectroscopy**, **crystallography**, and **molecular geometry**. These functions help interpret angular measurements, analyze waveforms, and model spatial structures of molecules.\n",
    "\n",
    "#### **Mathematical Functions:**\n",
    "\n",
    "1. **Sine Function:**\n",
    "\n",
    "$$\n",
    "\\sin(\\theta) = \\frac{\\text{opposite}}{\\text{hypotenuse}}\n",
    "$$\n",
    "\n",
    "2. **Cosine Function:**\n",
    "\n",
    "$$\n",
    "\\cos(\\theta) = \\frac{\\text{adjacent}}{\\text{hypotenuse}}\n",
    "$$\n",
    "\n",
    "Where:\n",
    "- $\\theta$ is the **angle**, typically measured in **radians** for computational purposes.\n",
    "- The **sine** and **cosine** functions describe the relationships between the sides of a **right-angled triangle**.\n",
    "\n",
    "#### **Conversion from Degrees to Radians:**\n",
    "\n",
    "Because most **math** library functions require **radians**, not **degrees**, it is important to convert angles before applying trigonometric functions:\n",
    "\n",
    "$$\n",
    "\\text{radians} = \\theta \\cdot \\frac{\\pi}{180}\n",
    "$$\n",
    "\n",
    "#### **Example Scenario:**\n",
    "In the following code cell:\n",
    "- We convert an angle of **30°** to **radians** using `math.radians()`.\n",
    "- We then calculate the **sine** and **cosine** of the angle using `math.sin()` and `math.cos()`.\n",
    "- The results demonstrate how trigonometric functions can assist with interpreting **molecular bond angles** or **light wave interactions** in spectroscopy.\n",
    "\n",
    "The output will show:\n",
    "\n",
    "$$\n",
    "\\sin(30°) = 0.5, \\quad \\cos(30°) = 0.866\n",
    "$$\n",
    "\n",
    "These values align with standard trigonometric identities, providing a practical example of **Python's math library** in chemical research contexts.\n"
   ]
  },
  {
   "cell_type": "code",
   "execution_count": null,
   "id": "a08a6887",
   "metadata": {},
   "outputs": [],
   "source": [
    "# 5. Trigonometric functions for interpreting spectroscopy or molecular geometry\n",
    "angle_in_degrees = 30\n",
    "angle_in_radians = math.radians(angle_in_degrees)\n",
    "\n",
    "sin_angle = math.sin(angle_in_radians)\n",
    "cos_angle = math.cos(angle_in_radians)\n",
    "print(f\"sin(30°) = {sin_angle}\")\n",
    "print(f\"cos(30°) = {cos_angle}\")"
   ]
  },
  {
   "cell_type": "markdown",
   "id": "28c91e32",
   "metadata": {},
   "source": [
    "## 6. **Calculating Bond Lengths Using the Hypotenuse Formula using `hypot`**\n",
    "\n",
    "In **molecular chemistry**, determining bond lengths between atoms is crucial for understanding molecular structures and predicting chemical behavior. When atoms are arranged in **right-angled geometries**, the **Pythagorean theorem** provides a straightforward method to calculate bond lengths.\n",
    "\n",
    "#### **Mathematical Formula:**\n",
    "\n",
    "The **Pythagorean theorem** states that in a **right-angled triangle**, the length of the **hypotenuse** (\\(c\\)) can be calculated using:\n",
    "\n",
    "$$\n",
    "c = \\sqrt{a^2 + b^2}\n",
    "$$\n",
    "\n",
    "Where:\n",
    "- \\(a\\) and \\(b\\) are the lengths of the other two sides of the triangle.\n",
    "- \\(c\\) is the **hypotenuse**, which can represent the **bond length** between two atoms in a molecular structure.\n",
    "\n",
    "#### **Use Cases in Chemistry:**\n",
    "- **Bond Length Calculations:** Estimating distances between atoms in **crystal lattices** or **molecular models**.\n",
    "- **Structural Analysis:** Interpreting **X-ray crystallography** data.\n",
    "- **Predicting Molecular Geometry:** Calculating bond angles and spatial arrangements of atoms.\n",
    "\n",
    "#### **Example Scenario:**\n",
    "In the following code cell:\n",
    "- The sides of the triangle are set to **3 Å** and **4 Å**.\n",
    "- The `math.hypot()` function is used to compute the **bond length**, which is equivalent to the **hypotenuse** of the triangle.\n",
    "\n",
    "The output will show:\n",
    "\n",
    "$$\n",
    "\\text{Bond length} = 5 \\text{ Å}\n",
    "$$\n",
    "\n",
    "This example demonstrates the practical application of the **Pythagorean theorem** in chemical research, highlighting how **Python's math library** simplifies these calculations.\n"
   ]
  },
  {
   "cell_type": "code",
   "execution_count": null,
   "id": "a52804f7",
   "metadata": {},
   "outputs": [],
   "source": [
    "# 6. Hypotenuse calculation for determining bond lengths in molecular structures\n",
    "side_a = 3  # Angstroms\n",
    "side_b = 4  # Angstroms\n",
    "bond_length = math.hypot(side_a, side_b)\n",
    "print(f\"Bond length = {bond_length} Å\")\n"
   ]
  },
  {
   "cell_type": "markdown",
   "id": "4747d32",
   "metadata": {},
   "source": [
    "## **Play with the Program**\n",
    "\n",
    "Now that you've seen how the **math** library can be applied to chemistry-related problems, it's time to experiment with your own ideas! Below are two short exercises to encourage you to explore additional **math** functions and apply them to chemical contexts. \n",
    "\n",
    "#### **Exercise 1: Activation Energy and the Arrhenius Equation**\n",
    "\n",
    "The **Arrhenius equation** is a fundamental formula in chemical kinetics:\n",
    "\n",
    "$$\n",
    "k = A .exp(-\\frac{E_a}{RT})\n",
    "$$\n",
    "\n",
    "Where:\n",
    "- $k$ is the **rate constant**.\n",
    "- $A$ is the **pre-exponential factor**.\n",
    "- $E_a$ is the **activation energy** (in J/mol).\n",
    "- $R$ is the **universal gas constant** (8.314 J/(mol·K)).\n",
    "- $T$ is the **temperature** (in Kelvin).\n",
    "\n",
    "**Challenge:** Write a code cell that calculates the rate constant \\(k\\) using the Arrhenius equation for an activation energy of **50 kJ/mol**, a temperature of **298 K**, and a pre-exponential factor of **1e12 s⁻¹**. \n",
    "*Hint: You may need to use `math.exp()` for the exponential part of the formula.*\n"
   ]
  },
  {
   "cell_type": "code",
   "execution_count": null,
   "id": "6a532ef5",
   "metadata": {},
   "outputs": [],
   "source": [
    "#Your answer to exercise 1"
   ]
  },
  {
   "cell_type": "code",
   "execution_count": null,
   "id": "70fe43e3",
   "metadata": {},
   "outputs": [],
   "source": []
  },
  {
   "cell_type": "markdown",
   "id": "7acce6c8",
   "metadata": {},
   "source": [
    "#### **Exercise 2: Geometry of Molecular Structures**\n",
    "\n",
    "In **molecular geometry**, the angle between bonds is crucial for determining the shape and behavior of molecules. The **law of cosines** is useful when dealing with **non-right-angled triangles**:\n",
    "\n",
    "$$\n",
    "c = \\sqrt{a^2 + b^2 - 2ab \\cos(\\theta)}\n",
    "$$\n",
    "\n",
    "Where:\n",
    "- $a$, $b$, and $c$ are the lengths of the triangle sides.\n",
    "- $\\theta$ is the **angle** between sides **a** and **b**.\n",
    "\n",
    "**Challenge:** Create a code cell that calculates the bond length **c** for an angle of **60°** between bonds of **2 Å** and **3 Å**. Use `math.cos()` and `math.radians()` to handle the angle conversion and cosine calculation."
   ]
  },
  {
   "cell_type": "code",
   "execution_count": null,
   "id": "3b8a0cda",
   "metadata": {},
   "outputs": [],
   "source": [
    "# Your answer to Exercise 2"
   ]
  },
  {
   "cell_type": "code",
   "execution_count": null,
   "id": "5d6525a2",
   "metadata": {},
   "outputs": [],
   "source": []
  }
 ],
 "metadata": {
  "kernelspec": {
   "display_name": "Python 3",
   "language": "python",
   "name": "python3"
  },
  "language_info": {
   "codemirror_mode": {
    "name": "ipython",
    "version": 3
   },
   "file_extension": ".py",
   "mimetype": "text/x-python",
   "name": "python",
   "nbconvert_exporter": "python",
   "pygments_lexer": "ipython3",
   "version": "3.8.8"
  }
 },
 "nbformat": 4,
 "nbformat_minor": 5
}
