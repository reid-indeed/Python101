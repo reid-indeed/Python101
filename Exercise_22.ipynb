{
 "cells": [
  {
   "cell_type": "markdown",
   "metadata": {},
   "source": [
    "# Exercise 22 - What do you know so far?\n",
    "\n",
    "Before you go any further, this is a perfect time to take stock of what you have learned so far.\n",
    "\n",
    "Your task in this exercise is simple but in-depth.\n",
    "\n",
    "It's a reflection that is worth your time.\n",
    "\n",
    "### A reflection table\n",
    "\n",
    "Outside this notebook, open a word document and creating a table with the following headings:\n",
    "\n",
    "1. **Code element** - whether it's `print` or `>` or `def`, create an entry for each and every individual thing you have learned in Python.\n",
    "\n",
    "2. **Example code** - write a line of code that shows that code element in action. Think of this as understanding a word by using it in a sentence.\n",
    "\n",
    "3. **Description** - almost like your comment lines, write a plain English description of what the code element is and/or enables you to do in Python.\n",
    "\n",
    "\n",
    "**More so that any other exercise, you will be tempted to skip this one.**\n",
    "\n",
    "***Do not skip Exercise 22!***\n",
    "\n",
    "It is these very reflections on what you have learned so far that will make it all stick. This is what turns your coursework into new knowledge, new skills, and new amazing opportunities in your future life as a scientist (and beyond).\n",
    "\n",
    "As you go on, you will learn more tools in Python, and more complex combinations of coding elements.\n",
    "\n",
    "Reflect now, and strengthen your position to keep marching on to mastery from **Exercise 23** onward.\n",
    "\n",
    "**An exemplar reflection table `Exercise 22 - exemplar reflection table.docx` has been provided in the folder holding this notebook.**"
   ]
  }
 ],
 "metadata": {
  "kernelspec": {
   "display_name": "Python 3",
   "language": "python",
   "name": "python3"
  },
  "language_info": {
   "codemirror_mode": {
    "name": "ipython",
    "version": 3
   },
   "file_extension": ".py",
   "mimetype": "text/x-python",
   "name": "python",
   "nbconvert_exporter": "python",
   "pygments_lexer": "ipython3",
   "version": "3.8.8"
  }
 },
 "nbformat": 4,
 "nbformat_minor": 2
}
