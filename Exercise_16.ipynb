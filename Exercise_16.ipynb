{
 "cells": [
  {
   "cell_type": "markdown",
   "metadata": {},
   "source": [
    "# Exercise 16 - Reading and Writing Files\n",
    "\n",
    "From **Exercise 15**, you used the `open()` function and some inherited functions like `close()` and `read()`. Here's a recap on what all these Python functions enable, plus some new ones that you will use in this exercise."
   ]
  },
  {
   "cell_type": "markdown",
   "metadata": {},
   "source": [
    "* `read()` – Reads the contents of the file, you can assign the result to a variable.\n",
    "\n",
    "* `close()` – Closes the file, saving it in the computer's hard disk memory.\n",
    "\n",
    "* `readline()` – Reads just one line of a text file.\n",
    "\n",
    "* `truncate()` – Empties the file. Take care! This function might delete a file you care about!\n",
    "\n",
    "* `write(stuff)` – Writes stuff to the file.\n",
    "\n",
    "**A quick note on `()`**:\n",
    "\n",
    "Functions like those above need the brackets in order to work properly. It's part of the Python syntax. Some functions need **arguments** (stuff inside the brackets) and some do not. The functions that have empty `()`, this simply means they don't need any additional input parameters to work.\n",
    "\n",
    "Let's now look at some new code supplied in the Python script file `ex-16A.py`:\n",
    "\n",
    "\n",
    "<img src=ex-16A_imported-script.PNG>\n",
    "\n",
    "\n",
    "First, notice **Line 11** in the code. `input()` is used to obtain a file name from the user.\n",
    "\n",
    "**Before you run the code...**\\\n",
    "Rather than using some supplied sample text, try making your own `.txt` file, write some text inside, save it, then upload it to the same folder where this Jupyter notebook is hosted.\n",
    "\n",
    "Once you have your text file in place, run the code below."
   ]
  },
  {
   "cell_type": "code",
   "execution_count": null,
   "metadata": {},
   "outputs": [],
   "source": [
    "filename = input(\"What is the full file name of your sample text file? --> \")\n",
    "\n",
    "print(f\"We're going to erase {filename}.\")\n",
    "      \n",
    "print(f\"Opening: {filename}\")\n",
    "      \n",
    "target = open(filename, 'w') \n",
    "\n",
    "print(\"Truncating the file. Goodbye!\")\n",
    "target.truncate() \n",
    "\n",
    "print(\"And finally, we close it.\")\n",
    "target.close() "
   ]
  },
  {
   "cell_type": "markdown",
   "metadata": {},
   "source": [
    "Open the text file you created at the start of this exercise.\n",
    "\n",
    "What are the contents now versus when you first created the file? Type your observation as a comment in the code block below."
   ]
  },
  {
   "cell_type": "code",
   "execution_count": null,
   "metadata": {},
   "outputs": [],
   "source": [
    "#"
   ]
  },
  {
   "cell_type": "markdown",
   "metadata": {},
   "source": [
    "Here is the same code again. Try adding comments next to each `#` to write out what you understand about each line of code. You do not need to run this code again, but do make sure you add detailed comment lines to show your understanding."
   ]
  },
  {
   "cell_type": "code",
   "execution_count": null,
   "metadata": {},
   "outputs": [],
   "source": [
    "# \n",
    "filename = input(\"What is the full file name of your sample text file? --> \")\n",
    "\n",
    "#Print an update for the user, printing the filename the user has just put in.\n",
    "print(f\"We're going to erase {filename}.\")\n",
    "\n",
    "#Print another update\n",
    "print(f\"Opening: {filename}\")\n",
    "\n",
    "# \n",
    "target = open(filename, 'w') \n",
    "\n",
    "# Print another update for the user\n",
    "print(\"Truncating the file. Goodbye!\")\n",
    "\n",
    "# \n",
    "target.truncate() \n",
    "\n",
    "#Print one last update for the user\n",
    "print(\"And finally, we close it.\")\n",
    "\n",
    "# Save and close the file\n",
    "target.close() "
   ]
  },
  {
   "cell_type": "markdown",
   "metadata": {},
   "source": [
    "Now you see just how easy it is to erase your work with Python!\n",
    "\n",
    "Let's now look at the same code with some extra lines added. \n",
    "\n",
    "Rather than just empty (i.e. `truncate()`) your text file, we are going to `write()` new lines to it!\n",
    "\n",
    "In the code block below, use the **same text file** you made and used earlier in this exercise. Type in this text file's name when prompted for input.\n",
    "\n",
    "Hit `Shift+Enter` on the code block now."
   ]
  },
  {
   "cell_type": "code",
   "execution_count": null,
   "metadata": {},
   "outputs": [],
   "source": [
    "filename = input(\"What is the full file name of your sample text file? --> \")\n",
    "\n",
    "print(f\"We're going to erase {filename}.\")\n",
    "      \n",
    "print(f\"Opening: {filename}\")\n",
    "      \n",
    "target = open(filename, 'w') \n",
    "\n",
    "print(\"Truncating the file. Goodbye!\")\n",
    "target.truncate() \n",
    "\n",
    "print(\"Now I'm going to ask you for three lines.\")\n",
    "\n",
    "line1 = input(\"line1: \") \n",
    "\n",
    "print(\"I'm going to write to the file.\")\n",
    "\n",
    "target.write(line1) \n",
    "target.write(\"\\n\") \n",
    "\n",
    "print(\"And finally, we close it.\")\n",
    "target.close() \n",
    "\n",
    "target = open(filename, 'r') \n",
    "\n",
    "print(f\"\\nAnd here's what you can now find in {filename}: \\n\")\n",
    "\n",
    "print(target.read())"
   ]
  },
  {
   "cell_type": "markdown",
   "metadata": {},
   "source": [
    "Now that you have used Python to write some text to your text file, **go find that file**!\n",
    "\n",
    "Open the file outside this notebook and convince yourself that your Python code has done what is printed above. "
   ]
  },
  {
   "cell_type": "markdown",
   "metadata": {},
   "source": [
    "### Exercise 16 - Play with the Program\n",
    "\n",
    "It's time, once again, to make and break some code to reinforce what you have learnt in this exercise.\n",
    "\n",
    "The code below looks the same, but now you're going to practice some of your own coding skills:\n",
    "\n",
    "1. Some bugs (i.e. coding syntax typos) have found their way into the next code block. Fix the bugs to get the code to run.\n",
    "<br>\n",
    "<br>\n",
    "2. Add comment lines to the code next to each `#`. Writing comments increases code readability and, in a way, help you teach yourself about what the code is doing.\n",
    "<br>\n",
    "<br>\n",
    "3. Add some more variables to collect 2 more lines of text from the user. Write these new lines to your sample text file.\n",
    "\n",
    "All question 1-3 can be tackled by modifying the single code block below. When you are done, be sure to run the code block with `Shift+Enter` to show that you've completed the task."
   ]
  },
  {
   "cell_type": "code",
   "execution_count": null,
   "metadata": {},
   "outputs": [],
   "source": [
    "#\n",
    "filename = input(\"What is the full file name of your sample text file? --> \"\n",
    "\n",
    "#\n",
    "print(f\"We're going to erase {filename}.\")\n",
    "\n",
    "#\n",
    "print(\"Opening: {filename}\")\n",
    "\n",
    "#\n",
    "target = open(filename, 'w') \n",
    "\n",
    "#\n",
    "print(\"Truncating the file. Goodbye!\")\n",
    "                 \n",
    "#\n",
    "target.truncate() \n",
    "\n",
    "#\n",
    "print(\"Now I'm going to ask you for three lines.\")\n",
    "\n",
    "# \n",
    "line1 = input(\"line 1: \") \n",
    "\n",
    "#\n",
    "print \"I'm going to write to the file.\"\n",
    "\n",
    "# \n",
    "target.write(line1) \n",
    "target.write(\"\\n\") \n",
    "\n",
    "# \n",
    "print(\"And finally, we close it.\")\n",
    "                 \n",
    "#\n",
    "target.close() \n",
    "\n",
    "#\n",
    "target = open(filename, 'r') \n",
    "\n",
    "#                 \n",
    "print(f\"\\nAnd here's what you can now find in {filename}: \\n\")\n",
    "print(target.read())"
   ]
  },
  {
   "cell_type": "markdown",
   "metadata": {},
   "source": [
    "Once you have the above code block working, check your text file outside this notebook.\n",
    "\n",
    "How cool is that?! \n",
    "\n",
    "You have now written into a text file without ever double-clicking on the file or typing into it directly. You did it all through Python!"
   ]
  },
  {
   "cell_type": "markdown",
   "metadata": {},
   "source": [
    "#### Extra Credit\n",
    "*Here are some additional exercises to try in your own time.*\n",
    "1. What happens to your output text file if lines like `target = open(filename, 'w')` have the `'w'` changed to an `'a'`? What is the difference?\n",
    "\n",
    "2. In relation to 1., look online for Python documentation related to the `open` function. \n",
    "\n",
    "3. Can you alter the code above to write more than 3 lines to your text file?\n",
    "\n",
    "4. Move the `target.truncate()` line around the code to see how the order affects the output, if at all.\n",
    "\n",
    "**Exercise 16 - done! Wow.**\n",
    "\n",
    "**To think, just 16 exercises ago, you have no idea how to code anything. \n",
    "From the point of printing \"Hello, world!\" on the screen, you are now opening files, taking user input, writing to files, formatting text, and more.**\n",
    "\n",
    "**Let's go to Exercise 17. Let's keep building this incredible new skill set of yours.**\n"
   ]
  }
 ],
 "metadata": {
  "kernelspec": {
   "display_name": "Python 3",
   "language": "python",
   "name": "python3"
  },
  "language_info": {
   "codemirror_mode": {
    "name": "ipython",
    "version": 3
   },
   "file_extension": ".py",
   "mimetype": "text/x-python",
   "name": "python",
   "nbconvert_exporter": "python",
   "pygments_lexer": "ipython3",
   "version": "3.8.8"
  }
 },
 "nbformat": 4,
 "nbformat_minor": 2
}
