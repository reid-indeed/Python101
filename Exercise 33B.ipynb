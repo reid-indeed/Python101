{
 "cells": [
  {
   "cell_type": "markdown",
   "id": "f07b2db7",
   "metadata": {},
   "source": [
    "# Exercise 33B: More on NumPy for Chemistry\n",
    "\n",
    "## Objective\n",
    "This notebook reinforces concepts in NumPy, a fundamental library for scientific computing in Python, with basic concepts and applications relevant to chemistry."
   ]
  },
  {
   "cell_type": "markdown",
   "id": "ed8d95ec",
   "metadata": {},
   "source": [
    "## 1. A reminder on the importance of NumPy\n",
    "\n",
    "NumPy (Numerical Python) is a powerful library that provides support for large, multi-dimensional arrays and matrices, along with a collection of high-level mathematical functions to operate on these arrays. It's the foundation of scientific computing in Python and is used extensively in chemistry research for:\n",
    "\n",
    "- Processing spectroscopic data\n",
    "- Simulating molecular systems\n",
    "- Analyzing experimental results\n",
    "- Statistical analysis of chemical data\n",
    "- Numerical solving of chemical kinetics and thermodynamics equations\n",
    "\n",
    "Let's start by importing NumPy:"
   ]
  },
  {
   "cell_type": "code",
   "execution_count": null,
   "id": "4a6b4b01",
   "metadata": {},
   "outputs": [],
   "source": [
    "import numpy as np\n",
    "\n",
    "# Verify NumPy version\n",
    "print(f\"NumPy version: {np.__version__}\")"
   ]
  },
  {
   "cell_type": "markdown",
   "id": "c4cc65f4",
   "metadata": {},
   "source": [
    "## 2. NumPy Arrays vs. Python Lists\n",
    "\n",
    "The core functionality of NumPy is the `ndarray` (n-dimensional array). Let's compare NumPy arrays to Python lists to understand why NumPy is so essential for scientific computing."
   ]
  },
  {
   "cell_type": "code",
   "execution_count": null,
   "id": "3a6e8a83",
   "metadata": {},
   "outputs": [],
   "source": [
    "# Creating a Python list and a NumPy array\n",
    "# Let's use atomic masses of the first five elements as our example\n",
    "atomic_masses_list = [1.008, 4.0026, 6.94, 9.0122, 10.81]  # H, He, Li, Be, B\n",
    "atomic_masses_array = np.array(atomic_masses_list)\n",
    "\n",
    "print(\"Python list:\", atomic_masses_list)\n",
    "print(\"NumPy array:\", atomic_masses_array)\n",
    "print(\"Type of Python list:\", type(atomic_masses_list))\n",
    "print(\"Type of NumPy array:\", type(atomic_masses_array))"
   ]
  },
  {
   "cell_type": "markdown",
   "id": "6fd26eef",
   "metadata": {},
   "source": [
    "### Key Difference 1: Mathematical Operations with Python Lists vs. NumPy Arrays\n",
    "\n",
    "In scientific computing, performing mathematical operations efficiently is crucial, especially when working with large datasets. One of the most significant advantages of **NumPy** over standard **Python lists** is its ability to execute **vectorized operations**. \n",
    "\n",
    "Vectorization allows you to apply mathematical operations directly to entire arrays without needing explicit loops. This approach not only makes your code more readable but also significantly improves performance.\n",
    "\n",
    "In the following example, we will calculate the **number of atoms in 1 gram of each element**, comparing the traditional **Python list** method with the **NumPy array** approach. Notice how **NumPy** eliminates the need for manual loops, allowing for a more concise and efficient implementation.\n"
   ]
  },
  {
   "cell_type": "code",
   "execution_count": null,
   "id": "c95f05e3",
   "metadata": {},
   "outputs": [],
   "source": [
    "# Key difference 1: Mathematical operations\n",
    "# Let's calculate the number of atoms in 1 gram of each element\n",
    "\n",
    "# With Python list - requires a loop\n",
    "avogadro = 6.022e23  # atoms/mol\n",
    "atoms_per_gram_list = []\n",
    "for mass in atomic_masses_list:\n",
    "    atoms_per_gram = avogadro / mass\n",
    "    atoms_per_gram_list.append(atoms_per_gram)\n",
    "\n",
    "# With NumPy array - vectorized operation\n",
    "atoms_per_gram_array = avogadro / atomic_masses_array\n",
    "\n",
    "print(\"Atoms per gram (Python list):\\n\", atoms_per_gram_list)\n",
    "print(\"\\nAtoms per gram (NumPy array):\\n\", atoms_per_gram_array)"
   ]
  },
  {
   "cell_type": "markdown",
   "id": "6ab86860",
   "metadata": {},
   "source": [
    "### Key Difference 2: Speed Comparison - Python Lists vs. NumPy Arrays\n",
    "\n",
    "When working with large datasets, the **speed** of mathematical operations can significantly impact the performance of your code. **NumPy** is designed to handle large arrays efficiently by leveraging low-level optimizations and vectorized operations. \n",
    "\n",
    "In contrast, **Python lists** require manual iteration, which can slow down computation, especially with datasets containing **millions of elements**.\n",
    "\n",
    "In the example below, we'll compare the **execution time** required to multiply each element in a **list** and a **NumPy array** by 2. The results will highlight the speed advantage of **NumPy**, demonstrating why it is the preferred choice for **scientific computing**.\n"
   ]
  },
  {
   "cell_type": "code",
   "execution_count": null,
   "id": "9c5dd06f",
   "metadata": {},
   "outputs": [],
   "source": [
    "# Key difference 2: Speed\n",
    "import time\n",
    "\n",
    "# Create larger data sets for speed comparison\n",
    "large_list = list(range(1000000))\n",
    "large_array = np.array(large_list)\n",
    "\n",
    "# Multiply each element by 2\n",
    "# Python list\n",
    "start_time = time.time()\n",
    "result_list = [x * 2 for x in large_list]\n",
    "list_time = time.time() - start_time\n",
    "\n",
    "# NumPy array\n",
    "start_time = time.time()\n",
    "result_array = large_array * 2\n",
    "array_time = time.time() - start_time\n",
    "\n",
    "print(f\"Time for Python list operation: {list_time:.6f} seconds\")\n",
    "print(f\"Time for NumPy array operation: {array_time:.6f} seconds\")\n",
    "print(f\"NumPy is {list_time/array_time:.1f}x faster\")"
   ]
  },
  {
   "cell_type": "markdown",
   "id": "0c1b6a8c",
   "metadata": {},
   "source": [
    "As we can see, NumPy offers significant advantages over regular Python lists:\n",
    "\n",
    "1. **Vectorized operations**: Mathematical operations can be applied to entire arrays without explicit loops\n",
    "2. **Performance**: NumPy operations are significantly faster, especially for large datasets\n",
    "3. **Memory efficiency**: NumPy uses fixed datatypes, making storage more efficient than Python's dynamic types\n",
    "4. **Scientific functionality**: NumPy includes many mathematical functions relevant to scientific computing\n",
    "\n",
    "These advantages make NumPy essential for chemistry applications involving large datasets or intensive calculations."
   ]
  },
  {
   "cell_type": "markdown",
   "id": "61a1ce51",
   "metadata": {},
   "source": [
    "## 3. Creating NumPy Arrays\n",
    "\n",
    "Let's explore different ways to create NumPy arrays for chemistry applications:"
   ]
  },
  {
   "cell_type": "code",
   "execution_count": null,
   "id": "9ca9bc0d",
   "metadata": {},
   "outputs": [],
   "source": [
    "# 1. From a Python list\n",
    "molar_masses = np.array([18.02, 44.01, 32.00, 28.01])  # H2O, CO2, O2, N2\n",
    "print(\"From list:\", molar_masses)\n",
    "\n",
    "# 2. Using np.arange (like Python's range)\n",
    "# Create array for a range of pH values from 0 to 14 with step size 1\n",
    "ph_values = np.arange(0, 14.1, 1.0)\n",
    "print(\"\\npH values:\", ph_values)\n",
    "\n",
    "# 3. Using np.linspace (linearly spaced values)\n",
    "# Create array for a temperature range from 0°C to 100°C with 11 points (10°C steps)\n",
    "temperatures = np.linspace(0, 100, 11)\n",
    "print(\"\\nTemperatures (°C):\", temperatures)\n",
    "\n",
    "# 4. Using common arrays\n",
    "zeroes = np.zeros(5)  # Array of 5 zeros\n",
    "ones = np.ones(5)    # Array of 5 ones\n",
    "print(\"\\nZeros array:\", zeroes)\n",
    "print(\"Ones array:\", ones)"
   ]
  },
  {
   "cell_type": "markdown",
   "id": "c25a3b40",
   "metadata": {},
   "source": [
    "### 3.1 Chemistry Application: Dilution Series\n",
    "\n",
    "Let's use NumPy to create a concentration dilution series, something commonly needed in laboratory work:"
   ]
  },
  {
   "cell_type": "code",
   "execution_count": null,
   "id": "b23f62c1",
   "metadata": {},
   "outputs": [],
   "source": [
    "# Create a 2-fold dilution series starting from 1 M\n",
    "initial_concentration = 1.0  # mol/L\n",
    "dilution_factor = 2\n",
    "num_dilutions = 10\n",
    "\n",
    "# Method 1: Using a loop (the old way)\n",
    "dilution_series_loop = [initial_concentration]\n",
    "for i in range(1, num_dilutions):\n",
    "    next_conc = dilution_series_loop[i-1] / dilution_factor\n",
    "    dilution_series_loop.append(next_conc)\n",
    "\n",
    "# Method 2: Using NumPy (the more elegant way)\n",
    "dilution_powers = np.arange(0, num_dilutions)\n",
    "dilution_series_numpy = initial_concentration / (dilution_factor ** dilution_powers)\n",
    "\n",
    "print(\"Dilution series (loop):\", dilution_series_loop)\n",
    "print(\"Dilution series (NumPy):\", dilution_series_numpy)"
   ]
  },
  {
   "cell_type": "code",
   "execution_count": null,
   "id": "721c4f39",
   "metadata": {},
   "outputs": [],
   "source": [
    "# Let's visualize this dilution series\n",
    "import matplotlib.pyplot as plt\n",
    "\n",
    "plt.figure(figsize=(10, 6))\n",
    "plt.plot(range(num_dilutions), dilution_series_numpy, 'o-', color='blue', linewidth=2)\n",
    "plt.xlabel('Dilution Number')\n",
    "plt.ylabel('Concentration (mol/L)')\n",
    "plt.title('2-fold Dilution Series')\n",
    "plt.grid(True, alpha=0.3)\n",
    "plt.xticks(range(num_dilutions))\n",
    "\n",
    "# Adding concentration values as text\n",
    "for i, conc in enumerate(dilution_series_numpy):\n",
    "    plt.text(i, conc + 0.02, f\"{conc:.6f}\", ha='center')\n",
    "\n",
    "plt.tight_layout()\n",
    "plt.show()"
   ]
  },
  {
   "cell_type": "markdown",
   "id": "a71aa4c7",
   "metadata": {},
   "source": [
    "## 4. Array Operations and Broadcasting\n",
    "\n",
    "NumPy allows efficient operations on arrays without explicit loops, which is called \"broadcasting\". This is particularly useful for scientific calculations."
   ]
  },
  {
   "cell_type": "code",
   "execution_count": null,
   "id": "fea6d7d6",
   "metadata": {},
   "outputs": [],
   "source": [
    "# Basic arithmetic operations\n",
    "# Let's consider volumes (in mL) and concentrations (in mol/L) for different solutions\n",
    "volumes = np.array([10, 25, 50, 100, 250])\n",
    "concentrations = np.array([0.1, 0.05, 0.01, 0.005, 0.001])\n",
    "\n",
    "# Calculate moles = volume (L) × concentration (mol/L)\n",
    "# First convert mL to L\n",
    "volumes_L = volumes / 1000\n",
    "moles = volumes_L * concentrations\n",
    "\n",
    "print(\"Volumes (mL):\", volumes)\n",
    "print(\"Concentrations (mol/L):\", concentrations)\n",
    "print(\"Moles of solute (mol):\", moles)"
   ]
  },
  {
   "cell_type": "code",
   "execution_count": null,
   "id": "4ddcb61a",
   "metadata": {},
   "outputs": [],
   "source": [
    "# Broadcasting: operations between arrays of different shapes\n",
    "# Let's convert our volumes to different units\n",
    "\n",
    "# Conversion factors\n",
    "conversion_factors = np.array([1, 0.001, 1000, 33.814])  # mL, L, μL, fl.oz.\n",
    "\n",
    "# Broadcasting volumes across conversion factors\n",
    "# This will create a 2D array where each row is the volumes in a different unit\n",
    "volumes_in_different_units = volumes * conversion_factors[:, np.newaxis]\n",
    "\n",
    "# Create a table showing the results\n",
    "unit_names = ['mL', 'L', 'μL', 'fl.oz.']\n",
    "print(\"Volumes in different units:\")\n",
    "for i, unit in enumerate(unit_names):\n",
    "    print(f\"{unit}: {volumes_in_different_units[i]}\")"
   ]
  },
  {
   "cell_type": "markdown",
   "id": "ff0f6a33",
   "metadata": {},
   "source": [
    "### 4.1 Chemistry Application: Stoichiometric Calculations\n",
    "\n",
    "Let's use NumPy to solve stoichiometry problems, which are fundamental in chemistry:"
   ]
  },
  {
   "cell_type": "code",
   "execution_count": null,
   "id": "9cf60bda",
   "metadata": {},
   "outputs": [],
   "source": [
    "# Reaction: 2H₂ + O₂ → 2H₂O\n",
    "# Calculate mass of water formed from given masses of reactants\n",
    "\n",
    "# Molar masses (g/mol)\n",
    "molar_masses = np.array([2.016, 31.998, 18.015])  # H₂, O₂, H₂O\n",
    "\n",
    "# Stoichiometric coefficients\n",
    "coefficients = np.array([2, 1, 2])  # 2H₂ + O₂ → 2H₂O\n",
    "\n",
    "# Test case: calculate with different masses of reactants\n",
    "masses_hydrogen = np.array([1.0, 2.0, 5.0, 10.0])  # grams of H₂\n",
    "masses_oxygen = np.array([16.0, 20.0, 40.0, 80.0])  # grams of O₂\n",
    "\n",
    "# Calculate moles of each reactant\n",
    "moles_hydrogen = masses_hydrogen / molar_masses[0]\n",
    "moles_oxygen = masses_oxygen / molar_masses[1]\n",
    "\n",
    "# Determine the limiting reactant (in terms of H₂O production)\n",
    "moles_water_from_hydrogen = moles_hydrogen * (coefficients[2] / coefficients[0])\n",
    "moles_water_from_oxygen = moles_oxygen * (coefficients[2] / coefficients[1])\n",
    "\n",
    "# The limiting reactant gives the lower moles of product\n",
    "moles_water = np.minimum(moles_water_from_hydrogen, moles_water_from_oxygen)\n",
    "\n",
    "# Calculate mass of water produced\n",
    "mass_water = moles_water * molar_masses[2]\n",
    "\n",
    "# Create a table of results\n",
    "print(\"Stoichiometric calculations for 2H₂ + O₂ → 2H₂O:\")\n",
    "print(\"\\nMass H₂ (g) | Mass O₂ (g) | Mass H₂O (g) | Limiting Reactant\")\n",
    "print(\"-\" * 65)\n",
    "for i in range(len(masses_hydrogen)):\n",
    "    limiting = \"H₂\" if moles_water_from_hydrogen[i] < moles_water_from_oxygen[i] else \"O₂\"\n",
    "    print(f\"{masses_hydrogen[i]:10.2f} | {masses_oxygen[i]:10.2f} | {mass_water[i]:11.2f} | {limiting:^17}\")"
   ]
  },
  {
   "cell_type": "markdown",
   "id": "a1cf0c03",
   "metadata": {},
   "source": [
    "Let's visualize this data to better understand the relationship between reactant masses and product formation:"
   ]
  },
  {
   "cell_type": "code",
   "execution_count": null,
   "id": "3b7e891c",
   "metadata": {},
   "outputs": [],
   "source": [
    "import matplotlib.pyplot as plt\n",
    "\n",
    "# Plot water yield vs reactant masses\n",
    "plt.figure(figsize=(12, 6))\n",
    "\n",
    "# Create two subplots side by side\n",
    "plt.subplot(1, 2, 1)\n",
    "plt.plot(masses_hydrogen, mass_water, 'o-', color='blue', linewidth=2)\n",
    "plt.xlabel('Mass of H₂ (g)')\n",
    "plt.ylabel('Mass of H₂O produced (g)')\n",
    "plt.title('Water Yield vs. Hydrogen Mass')\n",
    "plt.grid(True, alpha=0.3)\n",
    "\n",
    "plt.subplot(1, 2, 2)\n",
    "plt.plot(masses_oxygen, mass_water, 'o-', color='red', linewidth=2)\n",
    "plt.xlabel('Mass of O₂ (g)')\n",
    "plt.ylabel('Mass of H₂O produced (g)')\n",
    "plt.title('Water Yield vs. Oxygen Mass')\n",
    "plt.grid(True, alpha=0.3)\n",
    "\n",
    "plt.tight_layout()\n",
    "plt.show()"
   ]
  },
  {
   "cell_type": "markdown",
   "id": "9b56d4af",
   "metadata": {},
   "source": [
    "## 5. NumPy's Boolean Indexing and Filtering\n",
    "\n",
    "NumPy allows you to filter arrays using Boolean conditions, which is very useful for analyzing scientific data."
   ]
  },
  {
   "cell_type": "markdown",
   "id": "8d6e73d9",
   "metadata": {},
   "source": [
    "### Filtering and Conditional Selection in NumPy Arrays\n",
    "\n",
    "In scientific experiments, it is often necessary to **filter datasets** based on specific criteria. **NumPy** makes this task straightforward through **Boolean masking**, which allows you to apply **conditional logic** directly to arrays. \n",
    "\n",
    "A **Boolean mask** is an array of the same shape as your data, containing **True** or **False** values based on whether each element meets a specified condition. You can then use this mask to extract the elements that match the criteria, making data selection both **intuitive** and **efficient**.\n",
    "\n",
    "In the following examples, we will:\n",
    "\n",
    "1. **Select temperatures above 24°C** from a dataset of experimental temperature readings.\n",
    "2. **Combine multiple conditions** to find temperatures within a specified range (22°C to 24°C).\n",
    "3. **Apply logical operators** to identify **extreme temperatures**, either below 21°C or above 25°C.\n",
    "\n",
    "These techniques are particularly useful for preprocessing experimental data, identifying outliers, and focusing analysis on **relevant subsets of data**.\n"
   ]
  },
  {
   "cell_type": "code",
   "execution_count": null,
   "id": "c1e7ddbe",
   "metadata": {},
   "outputs": [],
   "source": [
    "# Let's create a dataset of temperature readings (°C) from an experiment\n",
    "temperatures = np.array([22.5, 25.1, 23.4, 19.8, 26.3, 22.9, 24.7, 20.5, 25.8, 21.2])\n",
    "\n",
    "# Find all temperatures above 24°C\n",
    "high_temps_mask = temperatures > 24.0\n",
    "high_temps = temperatures[high_temps_mask]\n",
    "\n",
    "print(\"All temperatures (°C):\", temperatures)\n",
    "print(\"Boolean mask for T > 24°C:\", high_temps_mask)\n",
    "print(\"Temperatures above 24°C:\", high_temps)\n",
    "print(f\"Average of high temperatures: {np.mean(high_temps):.2f}°C\")"
   ]
  },
  {
   "cell_type": "code",
   "execution_count": null,
   "id": "fd2ee4c4",
   "metadata": {},
   "outputs": [],
   "source": [
    "# Combining multiple conditions\n",
    "# Find temperatures between 22°C and 24°C\n",
    "moderate_temps_mask = (temperatures >= 22.0) & (temperatures <= 24.0)\n",
    "moderate_temps = temperatures[moderate_temps_mask]\n",
    "\n",
    "print(\"Temperatures between 22°C and 24°C:\", moderate_temps)\n",
    "print(f\"Average of moderate temperatures: {np.mean(moderate_temps):.2f}°C\")\n",
    "\n",
    "# Find temperatures either below 21°C or above 25°C\n",
    "extreme_temps_mask = (temperatures < 21.0) | (temperatures > 25.0)\n",
    "extreme_temps = temperatures[extreme_temps_mask]\n",
    "\n",
    "print(\"\\nTemperatures below 21°C or above 25°C:\", extreme_temps)"
   ]
  },
  {
   "cell_type": "markdown",
   "id": "d7f01e3c",
   "metadata": {},
   "source": [
    "### 5.1 Chemistry Application: Quality Control\n",
    "\n",
    "Let's use boolean indexing for a quality control application in a chemistry lab.\n",
    "\n",
    "### Quality Control in Laboratory Settings: Analyzing pH Measurements\n",
    "\n",
    "In laboratory environments, maintaining **quality control** is critical, particularly when preparing **buffer solutions** or reagents for biochemical applications. A common requirement is to ensure that measured parameters, such as **pH**, fall within a **specified tolerance range**.\n",
    "\n",
    "In this example, we will:\n",
    "\n",
    "1. **Analyze pH measurements** for a batch of buffer solutions, comparing each value against the **target physiological pH of 7.4**.\n",
    "2. Define an **acceptable pH range** of **7.35 to 7.45**, ensuring compliance with **quality standards**.\n",
    "3. Use **Boolean masking** to efficiently identify which **batches are within specification** and which are **out of specification**.\n",
    "4. Provide a **detailed report** on out-of-spec batches, including whether they are **too acidic** or **too basic**.\n",
    "\n",
    "This approach is particularly valuable in **process analytical technology (PAT)** and **good manufacturing practice (GMP)** environments, where **data-driven decisions** help maintain **product consistency** and **safety**.\n"
   ]
  },
  {
   "cell_type": "code",
   "execution_count": null,
   "id": "e5abd2bc",
   "metadata": {},
   "outputs": [],
   "source": [
    "# Lab data: pH measurements for a batch of buffer solutions\n",
    "# Target pH: 7.4 (physiological pH)\n",
    "# Acceptable range: 7.35 - 7.45\n",
    "batch_ids = np.arange(1, 21)  # 20 batches\n",
    "ph_values = np.array([7.42, 7.38, 7.36, 7.33, 7.41, 7.39, 7.37, 7.46, 7.40, 7.35,\n",
    "                      7.39, 7.43, 7.47, 7.32, 7.44, 7.38, 7.40, 7.41, 7.36, 7.34])\n",
    "\n",
    "# Create a boolean mask for acceptable pH range\n",
    "in_spec_mask = (ph_values >= 7.35) & (ph_values <= 7.45)\n",
    "out_of_spec_mask = ~in_spec_mask  # Negation of in_spec_mask\n",
    "\n",
    "# Apply masks to find batch IDs that are in/out of specification\n",
    "in_spec_batches = batch_ids[in_spec_mask]\n",
    "out_of_spec_batches = batch_ids[out_of_spec_mask]\n",
    "out_of_spec_pH = ph_values[out_of_spec_mask]\n",
    "\n",
    "# Print results\n",
    "print(f\"Total batches: {len(batch_ids)}\")\n",
    "print(f\"Batches in specification: {len(in_spec_batches)} ({len(in_spec_batches)/len(batch_ids)*100:.1f}%)\")\n",
    "print(f\"Batches out of specification: {len(out_of_spec_batches)} ({len(out_of_spec_batches)/len(batch_ids)*100:.1f}%)\")\n",
    "print(\"\\nOut-of-spec batch IDs and their pH values:\")\n",
    "for batch, ph in zip(out_of_spec_batches, out_of_spec_pH):\n",
    "    print(f\"Batch #{batch}: pH {ph} {'(too acidic)' if ph < 7.35 else '(too basic)'}\")"
   ]
  },
  {
   "cell_type": "code",
   "execution_count": null,
   "id": "d2e35a34",
   "metadata": {},
   "outputs": [],
   "source": [
    "# Visualize the pH data\n",
    "plt.figure(figsize=(12, 6))\n",
    "\n",
    "# Plot all pH values\n",
    "plt.scatter(batch_ids[in_spec_mask], ph_values[in_spec_mask], \n",
    "            color='green', label='In spec', s=80)\n",
    "plt.scatter(batch_ids[out_of_spec_mask], ph_values[out_of_spec_mask], \n",
    "            color='red', label='Out of spec', s=80)\n",
    "\n",
    "# Add target and range lines\n",
    "plt.axhline(y=7.4, color='blue', linestyle='-', label='Target pH (7.4)')\n",
    "plt.axhline(y=7.35, color='orange', linestyle='--', label='Lower limit (7.35)')\n",
    "plt.axhline(y=7.45, color='orange', linestyle='--', label='Upper limit (7.45)')\n",
    "\n",
    "# Add labels and title\n",
    "plt.xlabel('Batch ID')\n",
    "plt.ylabel('pH')\n",
    "plt.title('Buffer Solution Quality Control')\n",
    "plt.grid(True, alpha=0.3)\n",
    "plt.legend()\n",
    "plt.xticks(batch_ids)\n",
    "\n",
    "# Highlight the acceptable range\n",
    "plt.axhspan(7.35, 7.45, alpha=0.2, color='green')\n",
    "\n",
    "plt.tight_layout()\n",
    "plt.show()"
   ]
  },
  {
   "cell_type": "markdown",
   "id": "2714b98c",
   "metadata": {},
   "source": [
    "## 5. Case Study: Calculating Concentrations in Solutions"
   ]
  },
  {
   "cell_type": "code",
   "execution_count": null,
   "id": "6154052e",
   "metadata": {},
   "outputs": [],
   "source": [
    "import pandas as pd\n",
    "\n",
    "def calculate_molarity(mass_g, molecular_weight, volume_L):\n",
    "    \"\"\"Calculate the molarity of a solution\"\"\"\n",
    "    moles = mass_g / molecular_weight\n",
    "    molarity = moles / volume_L\n",
    "    return molarity\n",
    "\n",
    "# Example: Preparing NaCl solution\n",
    "NaCl_mass = 5.85  # g\n",
    "NaCl_MW = 58.44  # g/mol\n",
    "solution_volume = 1.0  # L\n",
    "\n",
    "molarity = calculate_molarity(NaCl_mass, NaCl_MW, solution_volume)\n",
    "print(f\"Molarity of NaCl solution: {molarity:.4f} mol/L\")"
   ]
  },
  {
   "cell_type": "code",
   "execution_count": null,
   "id": "7b22d406",
   "metadata": {},
   "outputs": [],
   "source": [
    "# Let's create a series of dilutions\n",
    "original_molarity = molarity\n",
    "dilution_factors = np.array([1, 2, 5, 10, 20])\n",
    "diluted_molarities = original_molarity / dilution_factors\n",
    "\n",
    "# Create a DataFrame to organize the results\n",
    "dilution_data = pd.DataFrame({\n",
    "    'Dilution Factor': dilution_factors,\n",
    "    'Final Volume (mL)': 100 * dilution_factors,  # Assuming 100 mL base volume\n",
    "    'Molarity (mol/L)': diluted_molarities\n",
    "})\n",
    "\n",
    "print(dilution_data)"
   ]
  },
  {
   "cell_type": "code",
   "execution_count": null,
   "id": "48a401c9",
   "metadata": {},
   "outputs": [],
   "source": [
    "from matplotlib import pyplot as plt\n",
    "\n",
    "# Visualize the dilution series\n",
    "plt.figure(figsize=(10, 6))\n",
    "plt.bar(dilution_data['Dilution Factor'].astype(str), dilution_data['Molarity (mol/L)'], color='teal')\n",
    "plt.xlabel('Dilution Factor')\n",
    "plt.ylabel('Molarity (mol/L)')\n",
    "plt.title('NaCl Solution Dilution Series')\n",
    "plt.grid(axis='y', alpha=0.3)\n",
    "plt.show()"
   ]
  },
  {
   "cell_type": "markdown",
   "id": "95c4b23b",
   "metadata": {},
   "source": [
    "## 6. Mini Project: Simulating Chemical Reaction Kinetics\n",
    "\n",
    "### Simulating Kinetics of a First-Order Reaction: A → B\n",
    "\n",
    "Chemical kinetics involves studying the **rate of chemical reactions** and understanding how **concentration changes over time**. One of the simplest kinetic models is the **first-order reaction**, where the reaction rate is directly proportional to the **concentration of a single reactant**.\n",
    "\n",
    "#### **Theoretical Background**\n",
    "For a **first-order reaction** of the form **A → B**, the concentration of reactant **A** at any time **t** can be calculated using the formula:\n",
    "\n",
    "\n",
    "$$\n",
    "[A]_t = [A]_0 e^{-kt}\n",
    "$$\n",
    "\n",
    "Where:\n",
    "- $[A]_t$ = Concentration of **A** at time **t**.\n",
    "- $[A]_0$ = **Initial concentration** of **A**.\n",
    "- **k** = **Rate constant** (*s⁻¹*).\n",
    "- **t** = **Time** (*s*).\n",
    "\n",
    "#### **Objective of This Simulation**\n",
    "In the code below, we will:\n",
    "1. **Define a function** to calculate concentration over time for a first-order reaction.\n",
    "2. **Set reaction parameters**, including the rate constant, initial concentration, and time points.\n",
    "3. **Simulate the reaction** and store the results in a **DataFrame** for easy visualization and analysis.\n",
    "\n",
    "This approach not only demonstrates the practical use of **NumPy** and **Pandas** for scientific computing but also lays the groundwork for **modeling real-world chemical processes**.\n"
   ]
  },
  {
   "cell_type": "code",
   "execution_count": null,
   "id": "bc82c948",
   "metadata": {},
   "outputs": [],
   "source": [
    "# Simulate a first-order reaction: A → B\n",
    "def first_order_reaction(k, initial_conc, time_points):\n",
    "    \"\"\"Simulate concentration vs. time for a first-order reaction\"\"\"\n",
    "    return initial_conc * np.exp(-k * time_points)\n",
    "\n",
    "# Define parameters\n",
    "k = 0.05  # Rate constant (s^-1)\n",
    "initial_concentration = 1.0  # Initial concentration of A (mol/L)\n",
    "time_points = np.linspace(0, 100, 100)  # Time range from 0 to 100 seconds\n",
    "\n",
    "# Calculate concentrations\n",
    "concentrations = first_order_reaction(k, initial_concentration, time_points)\n",
    "\n",
    "# Store results in a DataFrame\n",
    "reaction_data = pd.DataFrame({\n",
    "    'Time (s)': time_points,\n",
    "    'Concentration (mol/L)': concentrations\n",
    "})\n",
    "\n",
    "# Display the first few rows\n",
    "reaction_data.head()"
   ]
  },
  {
   "cell_type": "code",
   "execution_count": null,
   "id": "27c3ac25",
   "metadata": {},
   "outputs": [],
   "source": [
    "# Calculate half-life\n",
    "half_life = np.log(2) / k\n",
    "half_conc = initial_concentration / 2\n",
    "\n",
    "# Plot the reaction progress\n",
    "plt.figure(figsize=(10, 6))\n",
    "plt.plot(reaction_data['Time (s)'].to_numpy(), \n",
    "         reaction_data['Concentration (mol/L)'].to_numpy(), \n",
    "         '-b', \n",
    "         linewidth=2\n",
    "        )\n",
    "plt.xlabel('Time (s)')\n",
    "plt.ylabel('Concentration of A (mol/L)')\n",
    "plt.title('First-Order Reaction Kinetics: A → B')\n",
    "plt.grid(True)\n",
    "\n",
    "\n",
    "# Mark the half-life on the plot\n",
    "plt.axhline(y=half_conc, color='r', linestyle='--', alpha=0.5)\n",
    "plt.axvline(x=half_life, color='r', linestyle='--', alpha=0.5)\n",
    "plt.scatter([half_life], [half_conc], color='red', s=100, zorder=5)\n",
    "plt.annotate(f'Half-life = {half_life:.2f} s', \n",
    "             xy=(half_life, half_conc), \n",
    "             xytext=(half_life+10, half_conc+0.1),\n",
    "             arrowprops=dict(arrowstyle=\"->\", color='black'))\n",
    "\n",
    "plt.tight_layout()\n",
    "plt.show()"
   ]
  },
  {
   "cell_type": "code",
   "execution_count": null,
   "id": "8b44dcf1",
   "metadata": {},
   "outputs": [],
   "source": [
    "# Second-order reaction: A + A → products\n",
    "def second_order_reaction(k, initial_conc, time_points):\n",
    "    \"\"\"Simulate concentration vs. time for a second-order reaction\"\"\"\n",
    "    return initial_conc / (1 + k * initial_conc * time_points)\n",
    "\n",
    "# Calculate concentrations for second-order reaction\n",
    "k2 = 0.05  # Rate constant for second-order reaction (L/(mol·s))\n",
    "concentrations_2nd = second_order_reaction(k2, initial_concentration, time_points)\n",
    "\n",
    "# Combine both reactions in one plot\n",
    "plt.figure(figsize=(10, 6))\n",
    "plt.plot(time_points, concentrations, '-b', linewidth=2, label='First-order')\n",
    "plt.plot(time_points, concentrations_2nd, '-g', linewidth=2, label='Second-order')\n",
    "plt.xlabel('Time (s)')\n",
    "plt.ylabel('Concentration (mol/L)')\n",
    "plt.title('Comparison of Reaction Kinetics')\n",
    "plt.legend()\n",
    "plt.grid(True)\n",
    "plt.show()"
   ]
  },
  {
   "cell_type": "markdown",
   "id": "6dad3ca7",
   "metadata": {},
   "source": [
    "## 6. Summary \n",
    "\n",
    "In this notebook, we've covered several fundamental aspects of NumPy for chemistry applications:\n",
    "\n",
    "1. Basics of NumPy arrays and their advantages over Python lists\n",
    "2. Creating arrays with various methods\n",
    "3. Performing vectorized operations and broadcasting\n",
    "4. Using NumPy for stoichiometric calculations\n",
    "5. Boolean indexing for data filtering\n",
    "\n",
    "These concepts form the foundation for scientific computing in Python and are essential for chemistry data analysis."
   ]
  },
  {
   "cell_type": "markdown",
   "id": "ee4eec3c",
   "metadata": {},
   "source": [
    "# Play with the Program\n",
    "\n",
    "The are several case studies above in which **you** can change the constant, lists, and array structures to change the results.\n",
    "\n",
    "This is particularly powerful, educationally, for those example where you get the immediate feedback on your changes from printouts or `matplotlib` visualisations!"
   ]
  },
  {
   "cell_type": "markdown",
   "id": "0b9a9cb7",
   "metadata": {},
   "source": [
    "## Next Steps\n",
    "**Exercise 34** introduces the useful `math` library.\n",
    "\n",
    "We will then end the course with a fun Python-based game, that allows you to further practice and appreciate the value of the scientific computing libraries..."
   ]
  },
  {
   "cell_type": "code",
   "execution_count": null,
   "id": "88ff82df",
   "metadata": {},
   "outputs": [],
   "source": []
  }
 ],
 "metadata": {
  "kernelspec": {
   "display_name": "Python 3",
   "language": "python",
   "name": "python3"
  },
  "language_info": {
   "codemirror_mode": {
    "name": "ipython",
    "version": 3
   },
   "file_extension": ".py",
   "mimetype": "text/x-python",
   "name": "python",
   "nbconvert_exporter": "python",
   "pygments_lexer": "ipython3",
   "version": "3.8.8"
  }
 },
 "nbformat": 4,
 "nbformat_minor": 5
}
