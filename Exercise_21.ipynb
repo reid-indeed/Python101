{
 "cells": [
  {
   "cell_type": "markdown",
   "metadata": {},
   "source": [
    "# Exercise 21 - Functions can return stuff!\n",
    "\n",
    "Since **Exercise 18**, you have been learning about the mind-bending magic of Python functions. \n",
    "\n",
    "In this exercise, you will learn what is arguably the most powerful and useful aspect of such functions...\n",
    "\n",
    "...they can `return` values for use elsewhere in your program.\n",
    "\n",
    "Before we get to that, consider this very simple program in the code block below. Add a comment line next to each `#` to describe in plain English what it is that the code is doing.\n",
    "\n",
    "Then hit `Shift+Enter` on the code block."
   ]
  },
  {
   "cell_type": "code",
   "execution_count": null,
   "metadata": {},
   "outputs": [],
   "source": [
    "#  \n",
    "x = \"Hello, World!\"\n",
    "\n",
    "#  \n",
    "print(x)"
   ]
  },
  {
   "cell_type": "markdown",
   "metadata": {},
   "source": [
    "Here's another very simple program. Comment on what each line is doing, next to the `#` provided. Don't worry, this will make sense in the context of functions in a moment."
   ]
  },
  {
   "cell_type": "code",
   "execution_count": null,
   "metadata": {},
   "outputs": [],
   "source": [
    "#  \n",
    "a = 2\n",
    "b = 10\n",
    "\n",
    "#  \n",
    "print(\"The answer to variable b divided by variable a = \", b/a)"
   ]
  },
  {
   "cell_type": "markdown",
   "metadata": {},
   "source": [
    "In each code block above, you have set a variable to a particular value. You then used the `print` command to report the value held in that variable.\n",
    "\n",
    "Functions can `return` what they produce inside the function for use somewhere outside the function.\n",
    "\n",
    "**So, as well as setting a variable to a simple value using `=`, we can also set variables to be equal to a called function!**\n",
    "\n",
    "Here's an example to illustrate..\n",
    "\n",
    "Add some comment lines next to each `#` to write out what you understand about each part of the code."
   ]
  },
  {
   "cell_type": "code",
   "execution_count": null,
   "metadata": {},
   "outputs": [],
   "source": [
    "# Define a function taking two input arguments, adding them together, and returning the value of that calculation.\n",
    "def add(a,b):\n",
    "    print(f\"ADDING {a} + {b}\")\n",
    "    return a + b\n",
    "\n",
    "#  \n",
    "def subtract(a,b):\n",
    "    print(f\"SUBTRACTING {a} - {b}\")\n",
    "    return a - b\n",
    "\n",
    "#  \n",
    "def multiply(a,b):\n",
    "    print(f\"MULTIPLYING {a} * {b}\")\n",
    "    return a * b\n",
    "\n",
    "# Define a function taking two input arguments, divides the first by the second, and returning the value of that calculation.\n",
    "def divide(a,b):\n",
    "    print(f\"DIVIDING {a} / {b}\")\n",
    "    return a / b\n",
    "\n",
    "# \n",
    "print(\"Let's do some math with just functions!\\n\") \n",
    "\n",
    "#  \n",
    "age = add(30,5)\n",
    "height = subtract(78,4)\n",
    "weight = multiply(90,2)\n",
    "iq = divide(260,2)\n",
    "\n",
    "# Print some final updates based on the variables defined above.\n",
    "print()\n",
    "print(f\"Age: {age}, Height: {height}, Weight: {weight}, IQ: {iq}\")\n"
   ]
  },
  {
   "cell_type": "markdown",
   "metadata": {},
   "source": [
    "If you haven't done so already, go back over the last code block and add comment lines next to each `#`.\n",
    "\n",
    "**Key question:**\n",
    "\n",
    "*In the code block above, where has a variable been assigned to the output of a called function?*"
   ]
  },
  {
   "cell_type": "markdown",
   "metadata": {},
   "source": [
    "#### What's missing?\n",
    "In the code below, there is a bug that can only be fixed by adding a `return` line to the code. \n",
    "\n",
    "**NOTE - this bug is not like others you have faced in previous exercises. The bug will not make the code fail, but it will cause the code to not print the expected output from calling the `celsius_to_kelvin` function.**\n",
    "\n",
    "*(Hint - the bug centres around trying to assign a variable to a function that has not **returned** anything to the main, unindented program. The `###` gives you another hint).*"
   ]
  },
  {
   "cell_type": "code",
   "execution_count": null,
   "metadata": {},
   "outputs": [],
   "source": [
    "def celsius_to_kelvin(celsius):\n",
    "    \n",
    "    kelvin = celsius + 273.15\n",
    "    \n",
    "    ###\n",
    "\n",
    "absolute_temp = celsius_to_kelvin(25)\n",
    "\n",
    "print(f\"The temperature in Kevlin is: {absolute_temp}\")"
   ]
  },
  {
   "cell_type": "markdown",
   "metadata": {},
   "source": [
    "### Exercise 21 - Play with the Program\n",
    "\n",
    "1. Write a function called `kelvin_to_celsius` that **converts temperature in Kelvin to degrees Celsius** and **returns** the Celsius result so it can be assigned to a variable in the main program. \n",
    "\n",
    "Outside the function, define a global variable called `celsius_temp` that stores the value returned from your `kelvin_to_celsius` function, using a temperature of `298.15` as your input argument when\n",
    "\n",
    "2. For the code you wrote in Question 1, what happens if you take out the `return` line from the function? Using the second blank code block below, write out the same code as for Question 1, but remove your `return` line before hitting `Shift+Enter`.\n",
    "\n",
    "3. In the bugged code above, you came across the `None` type for the first time. Search for information about the Python `None` type online and write a short definition in the third empty code block below.\n",
    "\n",
    "**Exercise 22 will give you a chance to see for yourself how far you have come.**"
   ]
  },
  {
   "cell_type": "markdown",
   "metadata": {},
   "source": [
    "#### Question 1"
   ]
  },
  {
   "cell_type": "code",
   "execution_count": null,
   "metadata": {},
   "outputs": [],
   "source": [
    "def kelvin_to_celcius(kelvin):\n",
    "    \n",
    "    ###\n",
    "    \n",
    "    ###\n",
    "\n",
    "celsius_temp = kelvin_to_celcius(298.15)\n",
    "\n",
    "print(f\"The temperature in Kevlin is: {celsius_temp}\")"
   ]
  },
  {
   "cell_type": "markdown",
   "metadata": {},
   "source": [
    "#### Question 2"
   ]
  },
  {
   "cell_type": "code",
   "execution_count": null,
   "metadata": {},
   "outputs": [],
   "source": [
    "###"
   ]
  },
  {
   "cell_type": "markdown",
   "metadata": {},
   "source": [
    "#### Question 3\n"
   ]
  },
  {
   "cell_type": "code",
   "execution_count": null,
   "metadata": {},
   "outputs": [],
   "source": [
    "# None\n",
    "# Add your defintion here."
   ]
  }
 ],
 "metadata": {
  "kernelspec": {
   "display_name": "Python 3",
   "language": "python",
   "name": "python3"
  },
  "language_info": {
   "codemirror_mode": {
    "name": "ipython",
    "version": 3
   },
   "file_extension": ".py",
   "mimetype": "text/x-python",
   "name": "python",
   "nbconvert_exporter": "python",
   "pygments_lexer": "ipython3",
   "version": "3.8.8"
  }
 },
 "nbformat": 4,
 "nbformat_minor": 2
}
