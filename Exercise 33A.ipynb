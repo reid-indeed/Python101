{
 "cells": [
  {
   "cell_type": "markdown",
   "id": "3e3d22a8",
   "metadata": {},
   "source": [
    "\n",
    "# Exercise 33A: Advanced NumPy for Chemistry\n",
    "\n",
    "## Objective\n",
    "This notebook builds upon the concepts introduced in Exercise 32, diving deeper into the advanced functionalities of NumPy, a powerful library for scientific computing in Python. We will focus on its applications in chemistry, particularly numerical processing and array manipulations.\n",
    "\n",
    "### Recap of Exercise 32\n",
    "In the previous exercise, we explored:\n",
    "- The fundamentals of scientific computing using Python.\n",
    "- Key libraries such as **NumPy**, **Pandas**, and **Matplotlib**.\n",
    "- Basic plotting techniques and data visualization.\n",
    "- Examples relevant to chemistry, including concentration and decay data visualization.\n",
    "\n",
    "### What to Expect in This Notebook\n",
    "We will:\n",
    "- Deepen our understanding of **NumPy** for numerical operations.\n",
    "- Explore advanced array manipulations and mathematical functions.\n",
    "- Apply these concepts to practical chemistry-related problems.\n"
   ]
  },
  {
   "cell_type": "markdown",
   "id": "0c82ca12",
   "metadata": {},
   "source": [
    "\n",
    "## 1. Introduction to NumPy\n",
    "\n",
    "NumPy (Numerical Python) is a fundamental library for scientific computing in Python. It offers support for large, multi-dimensional arrays and matrices and provides high-level mathematical functions to operate on these arrays. This exercise will highlight how NumPy is used in chemistry for:\n",
    "\n",
    "- Processing spectroscopic data\n",
    "- Simulating molecular systems\n",
    "- Analyzing experimental results\n",
    "- Statistical analysis of chemical data\n",
    "- Solving chemical kinetics and thermodynamics equations\n",
    "\n",
    "Let's start by importing NumPy:\n"
   ]
  },
  {
   "cell_type": "code",
   "execution_count": 1,
   "id": "86238718",
   "metadata": {},
   "outputs": [
    {
     "name": "stdout",
     "output_type": "stream",
     "text": [
      "NumPy version: 1.22.4\n"
     ]
    }
   ],
   "source": [
    "\n",
    "import numpy as np\n",
    "\n",
    "# Verify NumPy version\n",
    "print(f\"NumPy version: {np.__version__}\")\n"
   ]
  },
  {
   "cell_type": "markdown",
   "id": "bd379b46",
   "metadata": {},
   "source": [
    "\n",
    "## 2. Reinforcing Previous Concepts\n",
    "\n",
    "Before diving into new material, let's revisit how to create arrays and perform basic operations. We'll build on the array and plotting concepts from Exercise 32.\n"
   ]
  },
  {
   "cell_type": "code",
   "execution_count": 2,
   "id": "74bc8d52",
   "metadata": {},
   "outputs": [
    {
     "data": {
      "image/png": "[encoded data removed]",
      "text/plain": [
       "<Figure size 432x288 with 1 Axes>"
      ]
     },
     "metadata": {
      "needs_background": "light"
     },
     "output_type": "display_data"
    }
   ],
   "source": [
    "\n",
    "# Example: Creating a NumPy array and plotting it\n",
    "import matplotlib.pyplot as plt\n",
    "\n",
    "# Atomic masses of the first five elements (H, He, Li, Be, B)\n",
    "atomic_masses = np.array([1.008, 4.0026, 6.94, 9.0122, 10.81])\n",
    "\n",
    "# Plotting the atomic masses\n",
    "plt.plot(atomic_masses, marker='o', linestyle='--', color='b', label='Atomic Masses')\n",
    "plt.xlabel('Element Index')\n",
    "plt.ylabel('Atomic Mass (u)')\n",
    "plt.title('Atomic Masses of the First Five Elements')\n",
    "plt.grid(True)\n",
    "plt.legend()\n",
    "plt.show()\n"
   ]
  },
  {
   "cell_type": "markdown",
   "id": "3ba4388d",
   "metadata": {},
   "source": [
    "\n",
    "## 3. Advanced Array Manipulations\n",
    "\n",
    "We will now explore advanced array operations including:\n",
    "\n",
    "- **Slicing:** Extracting subsets of arrays.\n",
    "- **Broadcasting:** Performing arithmetic operations on arrays of different shapes.\n",
    "- **Mathematical Functions:** Utilizing built-in functions for complex numerical operations.\n"
   ]
  },
  {
   "cell_type": "markdown",
   "id": "0ad83976",
   "metadata": {},
   "source": [
    "\n",
    "### Slicing Arrays\n",
    "\n",
    "Slicing allows you to extract specific portions of an array. This is useful for analyzing specific subsets of data, such as selecting rows or columns of experimental results.\n"
   ]
  },
  {
   "cell_type": "code",
   "execution_count": 6,
   "id": "9945ef51",
   "metadata": {},
   "outputs": [
    {
     "name": "stdout",
     "output_type": "stream",
     "text": [
      "Energy Levels (Random 2D Array):\n",
      " [[0.43967758 0.8870317  0.74546033 0.01417031 0.51594267]\n",
      " [0.30982224 0.08202281 0.56366408 0.62040279 0.76898916]\n",
      " [0.35653175 0.15217023 0.47545138 0.83567284 0.97935629]\n",
      " [0.79095471 0.33477703 0.65248188 0.67052397 0.0539598 ]\n",
      " [0.13291848 0.47040942 0.14555442 0.86799596 0.62518248]]\n",
      "\n",
      "Selected Data (Sub-array):\n",
      " [[0.56366408 0.62040279 0.76898916]\n",
      " [0.47545138 0.83567284 0.97935629]\n",
      " [0.65248188 0.67052397 0.0539598 ]]\n"
     ]
    }
   ],
   "source": [
    "\n",
    "# Generate a 2D array representing sample data (e.g., molecular energy levels)\n",
    "energy_levels = np.random.random((5, 5))\n",
    "\n",
    "print(\"Energy Levels (Random 2D Array):\\n\", energy_levels)\n",
    "\n",
    "# Example: Selecting specific rows and columns\n",
    "selected_data = energy_levels[1:4, 2:5]\n",
    "print(\"\\nSelected Data (Sub-array):\\n\", selected_data)\n"
   ]
  },
  {
   "cell_type": "markdown",
   "id": "1a160cf3",
   "metadata": {},
   "source": [
    "\n",
    "### Broadcasting\n",
    "\n",
    "Broadcasting allows NumPy to perform arithmetic operations on arrays of different shapes. It is particularly useful when applying a single value (e.g., a conversion factor) across an entire array.\n"
   ]
  },
  {
   "cell_type": "code",
   "execution_count": 4,
   "id": "7f27fe09",
   "metadata": {},
   "outputs": [
    {
     "name": "stdout",
     "output_type": "stream",
     "text": [
      "Temperatures in Celsius: [ 25  50  75 100]\n",
      "Temperatures in Kelvin: [298.15 323.15 348.15 373.15]\n"
     ]
    }
   ],
   "source": [
    "\n",
    "# Example: Converting an array of temperatures from Celsius to Kelvin\n",
    "temperatures_celsius = np.array([25, 50, 75, 100])\n",
    "temperatures_kelvin = temperatures_celsius + 273.15\n",
    "\n",
    "print(\"Temperatures in Celsius:\", temperatures_celsius)\n",
    "print(\"Temperatures in Kelvin:\", temperatures_kelvin)\n"
   ]
  },
  {
   "cell_type": "markdown",
   "id": "82f19a5f",
   "metadata": {},
   "source": [
    "\n",
    "### Mathematical Functions\n",
    "\n",
    "NumPy offers numerous built-in functions for complex numerical operations, including statistical analysis and mathematical transformations.\n"
   ]
  },
  {
   "cell_type": "code",
   "execution_count": 5,
   "id": "982c1b2d",
   "metadata": {},
   "outputs": [
    {
     "name": "stdout",
     "output_type": "stream",
     "text": [
      "Original Data: [1 2 3 4 5]\n",
      "Square Root: [1.         1.41421356 1.73205081 2.         2.23606798]\n",
      "Exponential: [  2.71828183   7.3890561   20.08553692  54.59815003 148.4131591 ]\n",
      "Natural Logarithm: [0.         0.69314718 1.09861229 1.38629436 1.60943791]\n",
      "Mean Value: 3.0\n",
      "Standard Deviation: 1.4142135623730951\n"
     ]
    }
   ],
   "source": [
    "\n",
    "# Example: Applying mathematical functions to arrays\n",
    "data = np.array([1, 2, 3, 4, 5])\n",
    "\n",
    "print(\"Original Data:\", data)\n",
    "print(\"Square Root:\", np.sqrt(data))\n",
    "print(\"Exponential:\", np.exp(data))\n",
    "print(\"Natural Logarithm:\", np.log(data))\n",
    "print(\"Mean Value:\", np.mean(data))\n",
    "print(\"Standard Deviation:\", np.std(data))\n"
   ]
  },
  {
   "cell_type": "code",
   "execution_count": null,
   "id": "4780f4b7",
   "metadata": {},
   "outputs": [],
   "source": []
  },
  {
   "cell_type": "markdown",
   "id": "14f9ac86",
   "metadata": {},
   "source": [
    "\n",
    "## 5. Summary and Reflection\n",
    "\n",
    "In this exercise, we expanded our understanding of NumPy by exploring advanced array manipulations, including slicing, broadcasting, and mathematical functions. We also applied these skills to chemistry-related problems.\n",
    "\n",
    "### Next Steps\n",
    "**Exercise 33B** will build on this knowledge, introducing even more advanced applications of scientific computing in chemistry. Keep practicing and experimenting with the code to deepen your understanding!\n"
   ]
  },
  {
   "cell_type": "code",
   "execution_count": null,
   "id": "302d945a",
   "metadata": {},
   "outputs": [],
   "source": []
  }
 ],
 "metadata": {
  "kernelspec": {
   "display_name": "Python 3",
   "language": "python",
   "name": "python3"
  },
  "language_info": {
   "codemirror_mode": {
    "name": "ipython",
    "version": 3
   },
   "file_extension": ".py",
   "mimetype": "text/x-python",
   "name": "python",
   "nbconvert_exporter": "python",
   "pygments_lexer": "ipython3",
   "version": "3.8.8"
  }
 },
 "nbformat": 4,
 "nbformat_minor": 5
}
