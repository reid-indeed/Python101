{
 "cells": [
  {
   "cell_type": "markdown",
   "metadata": {},
   "source": [
    "# Exercise 19 - Functions and Variables\n",
    "\n",
    "It is definitely not expected that you will have mastered `def` and functions in a single exercise.\n",
    "\n",
    "In this exercise, we look at some more functions and how you can use them to write more powerful programs.\n",
    "\n",
    "There is one main learning from this exercise before we get to any code:\n",
    "\n",
    "***Variables defined inside a function are not connected and not the same as variables running outside the function, in the main part of your program.***\n",
    "\n",
    "Run the code block below with `Shift+Enter` so we can start to understand the difference between variables **inside** and **outside** a function. Read the comment lines to help with your understanding."
   ]
  },
  {
   "cell_type": "code",
   "execution_count": null,
   "metadata": {},
   "outputs": [],
   "source": [
    "# Define a function that takes 2 input arguments\n",
    "# Everything after the colon that is INDENTED is part of the function.\n",
    "def grams_per_litre(grams,litres): \n",
    "    \n",
    "    # Define a local variable that holds the result of a calculation used to find the grams per litre value. Round the answer to 3 decimal places.\n",
    "    # Print the answer and format the output so that the number displays only 2 decimal places.\n",
    "    \n",
    "    conc = round((grams / litres),3)\n",
    "    print(f\"The concentration in grams per litre is: {conc}\", \"g/L\")\n",
    "\n",
    "# define two new variables in the main script (outside the function) that hold number of grams and number of litres.    \n",
    "grams = 50\n",
    "litres = 3\n",
    "\n",
    "# call the function and pass in the two variables above as input arguments to run the function properly.\n",
    "grams_per_litre(grams, litres)\n"
   ]
  },
  {
   "cell_type": "markdown",
   "metadata": {},
   "source": [
    "In the above code block, you have performed three main tasks:\n",
    "\n",
    "1. Defined a function called `grams_per_litre` that takes two input arguments inside the brackets.\n",
    "2. Defined some variables in the main script. These variables were named `grams` and `litres`.\n",
    "3. Called the `grams_per_litre` function, passing in the two variables defined in the main script to act as the two necessary  input arguments for this function.\n",
    "\n",
    "Here's the exact same code in the block below, with one minor but instructive change. Can you see what has been changed? Write your observation as a comment line in the blank code block below directly below this one:"
   ]
  },
  {
   "cell_type": "code",
   "execution_count": null,
   "metadata": {},
   "outputs": [],
   "source": [
    "# Define a function that takes 2 input arguments\n",
    "# Everything after the colon that is INDENTED will be executed as part of the function (or 'mini script').\n",
    "def grams_per_litre(grams,litres): \n",
    "    \n",
    "    # Define a local variable that holds the result of a calculation used to find the grams per litre value. Round the answer to 3 decimal places.\n",
    "    # Print the answer and format the output so that the number displays only 2 decimal places.\n",
    "    \n",
    "    conc = round((grams / litres),3)\n",
    "    print(f\"The concentration in grams per litre is: {conc}\", \"g/L\")\n",
    "\n",
    "# define two new variables in the main script (outside the function) that hold number of grams and number of litres.    \n",
    "x = 50\n",
    "y = 3\n",
    "\n",
    "# call the function and pass in the two variables above as input arguments to run the function properly.\n",
    "grams_per_litre(x, y)\n"
   ]
  },
  {
   "cell_type": "code",
   "execution_count": null,
   "metadata": {},
   "outputs": [],
   "source": [
    "# Add your observation here."
   ]
  },
  {
   "cell_type": "markdown",
   "metadata": {},
   "source": [
    "In the first code block, the names of the variables outside the function had the same names as the input arguments and variables defined in the function. \n",
    "\n",
    "`grams` and `litres` were used to hold the integers `50` and `3`...\n",
    "\n",
    "...but then those same names, `grams` and `litres` were used to define the `grams_per_litre` function.\n",
    "\n",
    "In the ***second*** code block, the input arguments and variables inside the `grams_per_litre` function are still named `grams` and `litres`. \n",
    "\n",
    "However, the separate variables defined outside the function are now named `x` and `y`. When the `grams_per_litre` function is **called**, the values held in `x` and `y` are **passed into the function** by including these variables inside the brackets.\n",
    "\n",
    "**The output from both variations of the code in the two blocks above is EXACTLY THE SAME!**\n",
    "\n",
    "The key point here is that, just because the function definition, specificed with `def`, uses certain names for the arguments in the brackets, that does not mean that these names need to be used when the function is called."
   ]
  },
  {
   "cell_type": "markdown",
   "metadata": {},
   "source": [
    "Use the code block below to revise the difference between **defining** a function and **calling (i.e. running)** a function.\n",
    "\n",
    "Complete the comment lines in your own words next to each `#` in the code below.\n",
    "\n",
    "Be clear about where the `cheese_and_crackers` function is **defined** and where it is **called**.\n",
    "\n",
    "*(Hint - the function has been called more than once. There are also some lines that are neither about defining or calling the function. Add comments to these other lines, too).*"
   ]
  },
  {
   "cell_type": "code",
   "execution_count": null,
   "metadata": {},
   "outputs": [],
   "source": [
    "# \n",
    "def cheese_and_crackers(cheese_count,box_of_crackers): \n",
    "    print(f\"You have {cheese_count} cheeses.\")\n",
    "    print(f\"You have {box_of_crackers} boxes of crackers.\")\n",
    "    print()\n",
    "\n",
    "# Call the cheese_and_crackers function with the input arguments 20 and 30.\n",
    "cheese_and_crackers(20,30)\n",
    "\n",
    "# \n",
    "amount_of_cheese = 10\n",
    "amount_of_crackers = 20\n",
    "\n",
    "# \n",
    "cheese_and_crackers(amount_of_cheese,amount_of_crackers)\n",
    "\n",
    "\n",
    "# \n",
    "cheese_and_crackers(10+20,5+6)\n",
    "\n",
    "\n",
    "#\n",
    "cheese_and_crackers(amount_of_cheese+10,amount_of_crackers+1000)"
   ]
  },
  {
   "cell_type": "markdown",
   "metadata": {},
   "source": [
    "### Another way to think about defining a function\n",
    "\n",
    "When you use `def` to define a function, `()` to specifiy any input arguments, and `:` to signal the start of the indented function lines below, what you are doing is **defining a blueprint**.\n",
    "\n",
    "The **input arguments** for building a house are the bricks, windows, doors, roof, insulations, and so on. The blueprint that defines how to put all these inputs together is like your defined function.\n",
    "\n"
   ]
  },
  {
   "cell_type": "markdown",
   "metadata": {},
   "source": [
    "### Exercise 19 - Play with the Program\n",
    "\n",
    "Here's one of the code blocks you ran earlier in this exercise. \n",
    "\n",
    "Try adding a second function to this code block. \n",
    "\n",
    "* Make the purpose of the function to calculate grams per millilitre rather than grams per litre.\n",
    "* Make your take **one input argument** in the brackets and contain **one print statement in the indented code lines** that make up the function definition.\n",
    "\n",
    "\n",
    "Remember to **call your function** if you want it to do anything when you hit `Shift+Enter` in the code block below.\n",
    "\n",
    "*(Side note - a sneaky new bit of syntax has been added to the `print` line inside the existing `grams_per_litre` function to format the `float` value held in the `conc` variable. The formatting limits the number printed out to 2 decimal points).*"
   ]
  },
  {
   "cell_type": "code",
   "execution_count": null,
   "metadata": {},
   "outputs": [],
   "source": [
    "# Define a function that takes 2 input arguments\n",
    "# Everything after the colon that is INDENTED will be executed as part of the function (or 'mini script').\n",
    "def grams_per_litre(grams,litres): \n",
    "    \n",
    "    # Define a local variable that holds the result of a calculation used to find the grams per litre value.\n",
    "    conc = grams / litres\n",
    "    \n",
    "    #print the answer and format the output so that the number displays only 2 decimal places.\n",
    "    print(f\"The concentration in grams per litre is: {conc:.3f}\", \"g/L\")\n",
    "\n",
    "# define two new variables in the main script (outside the function) that hold number of grams and number of litres.    \n",
    "x = 50\n",
    "y = 3\n",
    "\n",
    "# call the function and pass in the two variables above as input arguments to run the function properly.\n",
    "grams_per_litre(x, y)\n",
    "\n",
    "\n",
    "# Start your second function definition here.\n",
    "def ###\n",
    "\n",
    "# Call your new function here\n",
    "###"
   ]
  },
  {
   "cell_type": "markdown",
   "metadata": {},
   "source": [
    "***And one more thing...***\n",
    "\n",
    "When you are finished, search online for the difference between a **global** and **local** variable in Python. Write definitions for each variable type in the two empty code blocks below."
   ]
  },
  {
   "cell_type": "code",
   "execution_count": null,
   "metadata": {},
   "outputs": [],
   "source": [
    "# LOCAL variable\n",
    "# Write your definition here."
   ]
  },
  {
   "cell_type": "code",
   "execution_count": null,
   "metadata": {},
   "outputs": [],
   "source": [
    "# GLOBAL variable \n",
    "# Write your defintion here."
   ]
  },
  {
   "cell_type": "markdown",
   "metadata": {},
   "source": [
    "**Excellent! You have just completed another pivotal lesson in learning Python. Defining functions and understanding there structure is a huge step.**\n",
    "\n",
    "**You will learn more about function in Exercise 20, combining this newe knowledge with all the skills you have learned in the exercises so far.**\n",
    "\n",
    "Wear a smile as you move on from **Exercise 19**. Well done!"
   ]
  }
 ],
 "metadata": {
  "kernelspec": {
   "display_name": "Python 3",
   "language": "python",
   "name": "python3"
  },
  "language_info": {
   "codemirror_mode": {
    "name": "ipython",
    "version": 3
   },
   "file_extension": ".py",
   "mimetype": "text/x-python",
   "name": "python",
   "nbconvert_exporter": "python",
   "pygments_lexer": "ipython3",
   "version": "3.8.8"
  }
 },
 "nbformat": 4,
 "nbformat_minor": 2
}
