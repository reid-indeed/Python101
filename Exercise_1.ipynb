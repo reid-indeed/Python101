{
 "cells": [
  {
   "cell_type": "markdown",
   "metadata": {},
   "source": [
    "# Exercise 1 - Your First Program\n",
    "\n",
    "Here, you will write your very first program using the Python `print` function.\n",
    "\n",
    "Click inside the code block directly below this text, hit `Shift+Enter` on your keyboard, and see what happens."
   ]
  },
  {
   "cell_type": "code",
   "execution_count": 2,
   "metadata": {},
   "outputs": [
    {
     "name": "stdout",
     "output_type": "stream",
     "text": [
      "Hello World!\n"
     ]
    }
   ],
   "source": [
    "print('Hello World!')"
   ]
  },
  {
   "cell_type": "markdown",
   "metadata": {},
   "source": [
    "You have just executed your first Python program!\n",
    "\n",
    "What happens if you run your program using double quotes in place of the single quotes? \n",
    "\n",
    "Simply write the *same* program as appears in the code block above in the empty code block below.\n",
    "\n",
    "Replace the `###` with your code.\n",
    "\n",
    "***NOTE*** *- resist all natural temptation to simply copy and paste. To be clear, you absolutely could! But you will learn more if you write the code with your very own finger tips!*"
   ]
  },
  {
   "cell_type": "code",
   "execution_count": null,
   "metadata": {},
   "outputs": [],
   "source": [
    "###"
   ]
  },
  {
   "cell_type": "markdown",
   "metadata": {},
   "source": [
    "Here's another version of your program, double the size of your first!\n",
    "\n",
    "Once again, click on the code block, then hit `Shift+Enter` to see the result of running the code."
   ]
  },
  {
   "cell_type": "code",
   "execution_count": null,
   "metadata": {},
   "outputs": [],
   "source": [
    "print(\"Hello World!\")\n",
    "print(\"Hello again, World!\")"
   ]
  },
  {
   "cell_type": "markdown",
   "metadata": {},
   "source": [
    "See what happens when you run the same program without the brackets...\n",
    "\n",
    "Hit `Shift+Enter` in the code block below."
   ]
  },
  {
   "cell_type": "code",
   "execution_count": null,
   "metadata": {},
   "outputs": [],
   "source": [
    "print \"Hello World!\""
   ]
  },
  {
   "cell_type": "markdown",
   "metadata": {},
   "source": [
    "What you *should* find from the previous 2 code blocks is that:\n",
    "\n",
    "1. Single quotes versus double quotes doesn't matter. You just need to be consistent.\n",
    "2. You need the **brackets** as part of the `print` function, otherwise the code breaks!"
   ]
  },
  {
   "cell_type": "markdown",
   "metadata": {},
   "source": [
    "### Exercise 1 - Playing with the Program\n",
    "\n",
    "A huge part of learning to code is making mistakes.\\\n",
    "An equally important part is enjoying those mistakes!\n",
    "\n",
    "To end your first exercise, try some experiments with your code:\n",
    "\n",
    "1. What happens when you remove \"Hello, World!\" and replace it with other text?\n",
    "2. Use several `print` statements in a code block and see what the output is. Your maximum program length so far has been 2 lines. Can you use more than 2 `print` lines in a new version of your program?\n",
    "\n",
    "Use the empty code blocks below to tackle challenges 1 and 2 listed here. Replace the `###` with your code and make sure it runs without error.\n",
    "\n",
    "**You have just completed your first Python programming exercise. Congratulations! Keep going.**"
   ]
  },
  {
   "cell_type": "code",
   "execution_count": null,
   "metadata": {},
   "outputs": [],
   "source": [
    "###"
   ]
  },
  {
   "cell_type": "code",
   "execution_count": null,
   "metadata": {},
   "outputs": [],
   "source": [
    "###"
   ]
  }
 ],
 "metadata": {
  "kernelspec": {
   "display_name": "Python 3",
   "language": "python",
   "name": "python3"
  },
  "language_info": {
   "codemirror_mode": {
    "name": "ipython",
    "version": 3
   },
   "file_extension": ".py",
   "mimetype": "text/x-python",
   "name": "python",
   "nbconvert_exporter": "python",
   "pygments_lexer": "ipython3",
   "version": "3.8.8"
  }
 },
 "nbformat": 4,
 "nbformat_minor": 2
}
