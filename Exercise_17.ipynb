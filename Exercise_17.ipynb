{
 "cells": [
  {
   "cell_type": "markdown",
   "metadata": {},
   "source": [
    "# Exercise 17 - More on Files...all from you.\n",
    "\n",
    "There are no new code functions to introduce here...but it may still be your most challenging exercise to date.\n",
    "\n",
    "You are going to write an entire script from scratch.\n",
    "\n",
    "Oftentimes, it helps to write **pseudo code** before your real code. **Pseudo code**, in simplest terms, are plain English statements of what you want your code to do, ignore the syntax of the coding language you are writing in.\n",
    "\n",
    "In the code block below, detailed comment lines have been added but no executable Python code.\n",
    "\n",
    "Use the comment lines as pseudo code hints, and use what you learned in **Exercise 16** to write your code.\n",
    "\n",
    "In your code, use `ex-17_sample.txt` as your input when prompted."
   ]
  },
  {
   "cell_type": "code",
   "execution_count": null,
   "metadata": {},
   "outputs": [],
   "source": [
    "# Define a variable that get the text file name from the user.\n",
    "\n",
    "# Define a variable and open the file specified by the user input file name obtained in the line above.\n",
    "\n",
    "# Print an update for the user to display the name of the opened file.\n",
    "\n",
    "# Truncate/empty the file.\n",
    "\n",
    "# Define two variables that take two lines of user input.\n",
    "\n",
    "# Write the user input to the file. Add 2 new line characters between the two lines of user input.\n",
    "\n",
    "# Close the file.\n"
   ]
  },
  {
   "cell_type": "markdown",
   "metadata": {},
   "source": [
    "### Exercise 17 - Play with the Program\n",
    "\n",
    "Having written your first relatively long program from scratch above, that quite enough for one exercise.\n"
   ]
  },
  {
   "cell_type": "markdown",
   "metadata": {},
   "source": [
    "**And there it goes...Exercise 17. Done! Gone!**\n",
    "\n",
    "**What's next? Exercise 18...where we introduce a true Python super power...**"
   ]
  }
 ],
 "metadata": {
  "kernelspec": {
   "display_name": "Python 3",
   "language": "python",
   "name": "python3"
  },
  "language_info": {
   "codemirror_mode": {
    "name": "ipython",
    "version": 3
   },
   "file_extension": ".py",
   "mimetype": "text/x-python",
   "name": "python",
   "nbconvert_exporter": "python",
   "pygments_lexer": "ipython3",
   "version": "3.8.8"
  }
 },
 "nbformat": 4,
 "nbformat_minor": 2
}
